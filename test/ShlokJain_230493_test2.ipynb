{
 "cells": [
  {
   "cell_type": "code",
   "execution_count": 38,
   "metadata": {},
   "outputs": [],
   "source": [
    "import numpy as np\n",
    "import cv2\n",
    "import os"
   ]
  },
  {
   "cell_type": "code",
   "execution_count": 39,
   "metadata": {},
   "outputs": [],
   "source": [
    "x_train=[]\n",
    "y_train=[]\n",
    "x_test=[]\n",
    "y_test=[]\n",
    "#loading training images\n",
    "for file in os.listdir('data/Training/Early_Blight'):\n",
    "    img=cv2.imread('data/Training/Early_Blight/'+file)\n",
    "    #convert to black and white\n",
    "    img=cv2.cvtColor(img,cv2.COLOR_BGR2GRAY)\n",
    "    x_train.append(cv2.resize(img,(128,128)))\n",
    "    y_train.append([1,0,0])\n",
    "for file in os.listdir('data/Training/Healthy'):\n",
    "    img=cv2.imread('data/Training/Healthy/'+file)\n",
    "    img=cv2.cvtColor(img,cv2.COLOR_BGR2GRAY)\n",
    "    x_train.append(cv2.resize(img,(128,128)))\n",
    "    y_train.append([0,1,0])\n",
    "for file in os.listdir('data/Training/Late_Blight'):\n",
    "    img=cv2.imread('data/Training/Late_Blight/'+file)\n",
    "    img=cv2.cvtColor(img,cv2.COLOR_BGR2GRAY)\n",
    "    x_train.append(cv2.resize(img,(128,128)))\n",
    "    y_train.append([0,0,1])\n",
    "\n",
    "#loading testing images\n",
    "for file in os.listdir('data/Testing/Early_Blight'):\n",
    "    img=cv2.imread('data/Testing/Early_Blight/'+file)\n",
    "    img=cv2.cvtColor(img,cv2.COLOR_BGR2GRAY)\n",
    "    x_test.append(cv2.resize(img,(128,128)))\n",
    "    y_test.append([1,0,0])\n",
    "for file in os.listdir('data/Testing/Healthy'):\n",
    "    img=cv2.imread('data/Testing/Healthy/'+file)\n",
    "    img=cv2.cvtColor(img,cv2.COLOR_BGR2GRAY)\n",
    "    x_test.append(cv2.resize(img,(128,128)))\n",
    "    y_test.append([0,1,0])\n",
    "for file in os.listdir('data/Testing/Late_Blight'):\n",
    "    img=cv2.imread('data/Testing/Late_Blight/'+file)\n",
    "    img=cv2.cvtColor(img,cv2.COLOR_BGR2GRAY)\n",
    "    x_test.append(cv2.resize(img,(128,128)))\n",
    "    y_test.append([0,0,1])"
   ]
  },
  {
   "cell_type": "code",
   "execution_count": 40,
   "metadata": {},
   "outputs": [],
   "source": [
    "#adding horizontal and vertical flip of images to increase the dataset\n",
    "for i in range(len(x_train)):\n",
    "    x_train.append(cv2.flip(x_train[i],0))\n",
    "    y_train.append(y_train[i])\n",
    "    x_train.append(cv2.flip(x_train[i],1))\n",
    "    y_train.append(y_train[i])\n"
   ]
  },
  {
   "cell_type": "code",
   "execution_count": 41,
   "metadata": {},
   "outputs": [],
   "source": [
    "x_train = np.array(x_train).astype('float32')/255\n",
    "y_train = np.array(y_train).astype('float32')\n",
    "x_test = np.array(x_test).astype('float32')/255\n",
    "y_test = np.array(y_test).astype('float32')"
   ]
  },
  {
   "cell_type": "code",
   "execution_count": 42,
   "metadata": {},
   "outputs": [],
   "source": [
    "from tensorflow.keras.models import Sequential\n",
    "from tensorflow.keras.layers import Conv2D,MaxPooling2D,Flatten,Dense,Dropout\n",
    "\n",
    "model=Sequential()\n",
    "model.add(Conv2D(32,(3,3),activation='relu',input_shape=(128,128,1)))\n",
    "model.add(MaxPooling2D((2,2)))\n",
    "model.add(Conv2D(64,(3,3),activation='relu'))\n",
    "model.add(MaxPooling2D((2,2)))\n",
    "model.add(Conv2D(64,(3,3),activation='relu'))\n",
    "model.add(MaxPooling2D((2,2)))\n",
    "model.add(Conv2D(64,(3,3),activation='relu'))\n",
    "model.add(MaxPooling2D((2,2)))\n",
    "model.add(Flatten())\n",
    "model.add(Dense(64,activation='relu'))\n",
    "model.add(Dense(3,activation='softmax'))\n",
    "\n",
    "model.compile(optimizer='adam',loss='categorical_crossentropy',metrics=['accuracy'])"
   ]
  },
  {
   "cell_type": "code",
   "execution_count": 43,
   "metadata": {},
   "outputs": [
    {
     "name": "stdout",
     "output_type": "stream",
     "text": [
      "Epoch 1/10\n",
      "305/305 [==============================] - 43s 132ms/step - loss: 0.9405 - accuracy: 0.5438\n",
      "Epoch 2/10\n",
      "305/305 [==============================] - 33s 109ms/step - loss: 0.6842 - accuracy: 0.7171\n",
      "Epoch 3/10\n",
      "305/305 [==============================] - 38s 124ms/step - loss: 0.5687 - accuracy: 0.7630\n",
      "Epoch 4/10\n",
      "305/305 [==============================] - 32s 106ms/step - loss: 0.4816 - accuracy: 0.8012\n",
      "Epoch 5/10\n",
      "305/305 [==============================] - 32s 103ms/step - loss: 0.4402 - accuracy: 0.8241\n",
      "Epoch 6/10\n",
      "305/305 [==============================] - 31s 103ms/step - loss: 0.3921 - accuracy: 0.8458\n",
      "Epoch 7/10\n",
      "305/305 [==============================] - 31s 102ms/step - loss: 0.3411 - accuracy: 0.8675\n",
      "Epoch 8/10\n",
      "305/305 [==============================] - 33s 109ms/step - loss: 0.3056 - accuracy: 0.8813\n",
      "Epoch 9/10\n",
      "305/305 [==============================] - 32s 104ms/step - loss: 0.2625 - accuracy: 0.8963\n",
      "Epoch 10/10\n",
      "305/305 [==============================] - 32s 105ms/step - loss: 0.2268 - accuracy: 0.9142\n"
     ]
    },
    {
     "data": {
      "text/plain": [
       "<keras.src.callbacks.History at 0x1c3865db490>"
      ]
     },
     "execution_count": 43,
     "metadata": {},
     "output_type": "execute_result"
    }
   ],
   "source": [
    "model.fit(x_train,np.array(y_train),epochs=10,batch_size=32)"
   ]
  },
  {
   "cell_type": "code",
   "execution_count": 44,
   "metadata": {},
   "outputs": [
    {
     "data": {
      "text/plain": [
       "(9753, 128, 128)"
      ]
     },
     "execution_count": 44,
     "metadata": {},
     "output_type": "execute_result"
    }
   ],
   "source": [
    "x_train.shape"
   ]
  },
  {
   "cell_type": "code",
   "execution_count": 45,
   "metadata": {},
   "outputs": [
    {
     "name": "stdout",
     "output_type": "stream",
     "text": [
      "13/13 [==============================] - 1s 34ms/step\n"
     ]
    },
    {
     "data": {
      "text/plain": [
       "0.8395061728395061"
      ]
     },
     "execution_count": 45,
     "metadata": {},
     "output_type": "execute_result"
    }
   ],
   "source": [
    "from sklearn.metrics import accuracy_score\n",
    "y_pred=model.predict(x_test)\n",
    "y_pred=np.argmax(y_pred,axis=1)\n",
    "y_true=np.argmax(y_test,axis=1)\n",
    "accuracy_score(y_true,y_pred)"
   ]
  },
  {
   "cell_type": "code",
   "execution_count": 46,
   "metadata": {},
   "outputs": [
    {
     "name": "stdout",
     "output_type": "stream",
     "text": [
      "              precision    recall  f1-score   support\n",
      "\n",
      "           0       0.97      0.78      0.87       162\n",
      "           1       0.81      0.78      0.80       102\n",
      "           2       0.76      0.94      0.84       141\n",
      "\n",
      "    accuracy                           0.84       405\n",
      "   macro avg       0.85      0.84      0.83       405\n",
      "weighted avg       0.86      0.84      0.84       405\n",
      "\n"
     ]
    }
   ],
   "source": [
    "from sklearn.metrics import classification_report\n",
    "print(classification_report(y_true,y_pred))"
   ]
  }
 ],
 "metadata": {
  "kernelspec": {
   "display_name": "Python 3",
   "language": "python",
   "name": "python3"
  },
  "language_info": {
   "codemirror_mode": {
    "name": "ipython",
    "version": 3
   },
   "file_extension": ".py",
   "mimetype": "text/x-python",
   "name": "python",
   "nbconvert_exporter": "python",
   "pygments_lexer": "ipython3",
   "version": "3.11.4"
  }
 },
 "nbformat": 4,
 "nbformat_minor": 2
}
