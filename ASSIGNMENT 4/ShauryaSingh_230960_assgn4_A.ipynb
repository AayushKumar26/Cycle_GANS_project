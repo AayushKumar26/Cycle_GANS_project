{
  "cells": [
    {
      "cell_type": "markdown",
      "source": [
        "##ASSIGNMENT 4\n",
        "#PART - A"
      ],
      "metadata": {
        "id": "f3e9B4Wwtaxq"
      }
    },
    {
      "cell_type": "code",
      "execution_count": null,
      "metadata": {
        "id": "HahJQEXgjQiH"
      },
      "outputs": [],
      "source": [
        "#import libraries\n",
        "import numpy as np\n",
        "import cv2\n",
        "import matplotlib.pyplot as plt\n",
        "from PIL import Image"
      ]
    },
    {
      "cell_type": "markdown",
      "source": [
        "#https://images.app.goo.gl/s4mwKkXPq6h1KKay8\n",
        "#https://images.app.goo.gl/v17EFAyjC84FqmAG8\n",
        "\n",
        "#Download the images from the above links and then apply the convolution filters(manually)\n",
        "#a) apply prewitt filter\n",
        "#b) apply sobel filter\n",
        "#then output the resulting image"
      ],
      "metadata": {
        "id": "Xl5agx0lqrhC"
      }
    },
    {
      "cell_type": "markdown",
      "source": [
        "Now let's implement a model with just a single convolution layer, given X(input), Y(output) and K(kernel). Y is the output of the cross-correlation operation of K on X. You need to build a model to learn that kernel K.(try to print the kernel at each epoch)\n"
      ],
      "metadata": {
        "id": "BCzE-GI_rhPx"
      }
    },
    {
      "cell_type": "markdown",
      "metadata": {
        "id": "BVG8YWmUjQiI"
      },
      "source": [
        "\n",
        "### 3.1 - Zero-Padding\n",
        "\n",
        "Zero-padding adds zeros around the border of an image:\n"
      ]
    },
    {
      "cell_type": "code",
      "source": [
        "X = np.ones((6, 8), dtype=np.float32)\n",
        "X[:, 2:6] = 0\n",
        "print(X)"
      ],
      "metadata": {
        "id": "tWVyFM4srlrY",
        "outputId": "ce067012-1634-46d0-f3ef-df06efaa5c6d",
        "colab": {
          "base_uri": "https://localhost:8080/"
        }
      },
      "execution_count": null,
      "outputs": [
        {
          "output_type": "stream",
          "name": "stdout",
          "text": [
            "[[1. 1. 0. 0. 0. 0. 1. 1.]\n",
            " [1. 1. 0. 0. 0. 0. 1. 1.]\n",
            " [1. 1. 0. 0. 0. 0. 1. 1.]\n",
            " [1. 1. 0. 0. 0. 0. 1. 1.]\n",
            " [1. 1. 0. 0. 0. 0. 1. 1.]\n",
            " [1. 1. 0. 0. 0. 0. 1. 1.]]\n"
          ]
        }
      ]
    },
    {
      "cell_type": "code",
      "source": [
        "K = np.array([1.0, -1.0], dtype=np.float32) # kernel, you need to learn this using a model\n",
        "Y = corr2d(X, K)\n",
        "print(Y)\n",
        "# print(K.shape)"
      ],
      "metadata": {
        "id": "fXPlD81qrlux",
        "outputId": "773108b3-3982-47b7-fc48-fcb7c9eebb87",
        "colab": {
          "base_uri": "https://localhost:8080/"
        }
      },
      "execution_count": null,
      "outputs": [
        {
          "output_type": "stream",
          "name": "stdout",
          "text": [
            "[[ 0.  1.  0.  0.  0. -1.  0.  0.]\n",
            " [ 0.  1.  0.  0.  0. -1.  0.  0.]\n",
            " [ 0.  1.  0.  0.  0. -1.  0.  0.]\n",
            " [ 0.  1.  0.  0.  0. -1.  0.  0.]\n",
            " [ 0.  1.  0.  0.  0. -1.  0.  0.]\n",
            " [ 0.  1.  0.  0.  0. -1.  0.  0.]]\n"
          ]
        }
      ]
    },
    {
      "cell_type": "code",
      "source": [
        "X = X.reshape((1, 1, 6, 8)) # this will be the input to the model\n",
        "Y = Y.reshape((1, 1, 6, 8)) # this is the output, to be used while calculation loss\n",
        "lr = 3e-2 # use this learning rate"
      ],
      "metadata": {
        "id": "j2mMOjwgrlzd"
      },
      "execution_count": null,
      "outputs": []
    },
    {
      "cell_type": "code",
      "source": [
        "#Complete the following function corr2d(X, K), which implements the cross correlation operation for matrix X and kernel K, both are two dimensional numpy arrays (height x width). The function should return a 2 dimensional numpy array which is the result of cross correlation operation between X and K."
      ],
      "metadata": {
        "id": "SAmDH3ArsKdH"
      },
      "execution_count": null,
      "outputs": []
    },
    {
      "cell_type": "code",
      "source": [
        "def corr2d(X: np.array, K: np.array) -> np.array:\n",
        "    kernel_len = len(K)\n",
        "    array_rows, array_cols = X.shape\n",
        "\n",
        "    # Result array will have the same shape as input array for 'valid' mode\n",
        "    result = np.zeros_like(X)\n",
        "\n",
        "    # Iterate over each row in the array\n",
        "    for i in range(array_rows):\n",
        "        for j in range(array_cols - kernel_len + 1):\n",
        "            result[i, j] = np.sum(X[i, j:j+kernel_len] * K)\n",
        "\n",
        "    return result\n"
      ],
      "metadata": {
        "id": "-k2kpJGTsYdF"
      },
      "execution_count": null,
      "outputs": []
    },
    {
      "cell_type": "code",
      "source": [
        "#use the above corr2d in model\n",
        "\n",
        "class model:\n",
        "    def __init__(self, lr, epochs):\n",
        "        self.lr = lr\n",
        "        self.epochs = epochs\n",
        "        self.kernel = np.random.rand(1, 2)  # Initialize kernel with random values\n",
        "\n",
        "    def fit(self, X, Y):\n",
        "        for epoch in range(self.epochs):\n",
        "            # Forward pass: apply the current kernel\n",
        "            Y_pred = corr2d(X, self.kernel)\n",
        "\n",
        "            # Calculate the loss (Mean Squared Error)\n",
        "            loss = ((Y_pred - Y) ** 2).mean()\n",
        "\n",
        "            # Calculate the gradient\n",
        "            gradient = np.zeros_like(self.kernel)\n",
        "            for i in range(Y_pred.shape[0]):\n",
        "                for j in range(Y_pred.shape[1]):\n",
        "                    gradient += 2 * (Y_pred[i, j] - Y[i, j]) * X[i:i + self.kernel.shape[0], j:j + self.kernel.shape[1]]\n",
        "            gradient /= Y_pred.size\n",
        "\n",
        "            # Update the kernel using gradient descent\n",
        "            self.kernel -= self.lr * gradient\n",
        "\n",
        "            if (epoch + 1) % 10 == 0 or epoch == 0:\n",
        "                print(f\"Epoch {epoch + 1}/{self.epochs}, Loss: {loss:.4f}\")\n",
        "\n",
        "    def predict(self, X):\n",
        "        return corr2d(X, self.kernel)"
      ],
      "metadata": {
        "id": "UkQWptcXr0BF"
      },
      "execution_count": null,
      "outputs": []
    },
    {
      "cell_type": "code",
      "source": [
        "# gd = model(3e-2,100)\n",
        "# gd.fit(X,Y)"
      ],
      "metadata": {
        "id": "uMo3lzdEr2Fq",
        "outputId": "4b8d9ff2-fddf-4189-c771-9e1fbce20818",
        "colab": {
          "base_uri": "https://localhost:8080/",
          "height": 304
        }
      },
      "execution_count": null,
      "outputs": [
        {
          "output_type": "error",
          "ename": "ValueError",
          "evalue": "operands could not be broadcast together with shapes (1,6,8) (1,2) ",
          "traceback": [
            "\u001b[0;31m---------------------------------------------------------------------------\u001b[0m",
            "\u001b[0;31mValueError\u001b[0m                                Traceback (most recent call last)",
            "\u001b[0;32m<ipython-input-30-52bb318b0650>\u001b[0m in \u001b[0;36m<cell line: 2>\u001b[0;34m()\u001b[0m\n\u001b[1;32m      1\u001b[0m \u001b[0mgd\u001b[0m \u001b[0;34m=\u001b[0m \u001b[0mmodel\u001b[0m\u001b[0;34m(\u001b[0m\u001b[0;36m3e-2\u001b[0m\u001b[0;34m,\u001b[0m\u001b[0;36m100\u001b[0m\u001b[0;34m)\u001b[0m\u001b[0;34m\u001b[0m\u001b[0;34m\u001b[0m\u001b[0m\n\u001b[0;32m----> 2\u001b[0;31m \u001b[0mgd\u001b[0m\u001b[0;34m.\u001b[0m\u001b[0mfit\u001b[0m\u001b[0;34m(\u001b[0m\u001b[0mX\u001b[0m\u001b[0;34m,\u001b[0m\u001b[0mY\u001b[0m\u001b[0;34m)\u001b[0m\u001b[0;34m\u001b[0m\u001b[0;34m\u001b[0m\u001b[0m\n\u001b[0m",
            "\u001b[0;32m<ipython-input-29-66518d5c8e5d>\u001b[0m in \u001b[0;36mfit\u001b[0;34m(self, X, Y)\u001b[0m\n\u001b[1;32m     10\u001b[0m         \u001b[0;32mfor\u001b[0m \u001b[0mepoch\u001b[0m \u001b[0;32min\u001b[0m \u001b[0mrange\u001b[0m\u001b[0;34m(\u001b[0m\u001b[0mself\u001b[0m\u001b[0;34m.\u001b[0m\u001b[0mepochs\u001b[0m\u001b[0;34m)\u001b[0m\u001b[0;34m:\u001b[0m\u001b[0;34m\u001b[0m\u001b[0;34m\u001b[0m\u001b[0m\n\u001b[1;32m     11\u001b[0m             \u001b[0;31m# Forward pass: apply the current kernel\u001b[0m\u001b[0;34m\u001b[0m\u001b[0;34m\u001b[0m\u001b[0m\n\u001b[0;32m---> 12\u001b[0;31m             \u001b[0mY_pred\u001b[0m \u001b[0;34m=\u001b[0m \u001b[0mcorr2d\u001b[0m\u001b[0;34m(\u001b[0m\u001b[0mX\u001b[0m\u001b[0;34m,\u001b[0m \u001b[0mself\u001b[0m\u001b[0;34m.\u001b[0m\u001b[0mkernel\u001b[0m\u001b[0;34m)\u001b[0m\u001b[0;34m\u001b[0m\u001b[0;34m\u001b[0m\u001b[0m\n\u001b[0m\u001b[1;32m     13\u001b[0m \u001b[0;34m\u001b[0m\u001b[0m\n\u001b[1;32m     14\u001b[0m             \u001b[0;31m# Calculate the loss (Mean Squared Error)\u001b[0m\u001b[0;34m\u001b[0m\u001b[0;34m\u001b[0m\u001b[0m\n",
            "\u001b[0;32m<ipython-input-25-5304cfe7b846>\u001b[0m in \u001b[0;36mcorr2d\u001b[0;34m(X, K)\u001b[0m\n\u001b[1;32m     10\u001b[0m     \u001b[0;32mfor\u001b[0m \u001b[0mi\u001b[0m \u001b[0;32min\u001b[0m \u001b[0mrange\u001b[0m\u001b[0;34m(\u001b[0m\u001b[0marray_rows\u001b[0m\u001b[0;34m)\u001b[0m\u001b[0;34m:\u001b[0m\u001b[0;34m\u001b[0m\u001b[0;34m\u001b[0m\u001b[0m\n\u001b[1;32m     11\u001b[0m         \u001b[0;32mfor\u001b[0m \u001b[0mj\u001b[0m \u001b[0;32min\u001b[0m \u001b[0mrange\u001b[0m\u001b[0;34m(\u001b[0m\u001b[0marray_cols\u001b[0m \u001b[0;34m-\u001b[0m \u001b[0mkernel_len\u001b[0m \u001b[0;34m+\u001b[0m \u001b[0;36m1\u001b[0m\u001b[0;34m)\u001b[0m\u001b[0;34m:\u001b[0m\u001b[0;34m\u001b[0m\u001b[0;34m\u001b[0m\u001b[0m\n\u001b[0;32m---> 12\u001b[0;31m             \u001b[0mresult\u001b[0m\u001b[0;34m[\u001b[0m\u001b[0mi\u001b[0m\u001b[0;34m,\u001b[0m \u001b[0mj\u001b[0m\u001b[0;34m]\u001b[0m \u001b[0;34m=\u001b[0m \u001b[0mnp\u001b[0m\u001b[0;34m.\u001b[0m\u001b[0msum\u001b[0m\u001b[0;34m(\u001b[0m\u001b[0mX\u001b[0m\u001b[0;34m[\u001b[0m\u001b[0mi\u001b[0m\u001b[0;34m,\u001b[0m \u001b[0mj\u001b[0m\u001b[0;34m:\u001b[0m\u001b[0mj\u001b[0m\u001b[0;34m+\u001b[0m\u001b[0mkernel_len\u001b[0m\u001b[0;34m]\u001b[0m \u001b[0;34m*\u001b[0m \u001b[0mK\u001b[0m\u001b[0;34m)\u001b[0m\u001b[0;34m\u001b[0m\u001b[0;34m\u001b[0m\u001b[0m\n\u001b[0m\u001b[1;32m     13\u001b[0m \u001b[0;34m\u001b[0m\u001b[0m\n\u001b[1;32m     14\u001b[0m     \u001b[0;32mreturn\u001b[0m \u001b[0mresult\u001b[0m\u001b[0;34m\u001b[0m\u001b[0;34m\u001b[0m\u001b[0m\n",
            "\u001b[0;31mValueError\u001b[0m: operands could not be broadcast together with shapes (1,6,8) (1,2) "
          ]
        }
      ]
    },
    {
      "cell_type": "code",
      "execution_count": null,
      "metadata": {
        "deletable": false,
        "nbgrader": {
          "cell_type": "code",
          "checksum": "a14748505131e4100f550b8afcfb2d33",
          "grade": false,
          "grade_id": "cell-3096786c4bcad84a",
          "locked": false,
          "schema_version": 3,
          "solution": true,
          "task": false
        },
        "id": "CG-B1SBUjQiI"
      },
      "outputs": [],
      "source": [
        "def zero_pad(X, pad):\n",
        "    \"\"\"\n",
        "    Pad with zeros all images of the dataset X. The padding is applied to the height and width of an image,\n",
        "    as illustrated in Figure 1.\n",
        "\n",
        "    Argument:\n",
        "    X -- python numpy array of shape (m, n_H, n_W, n_C) representing a batch of m images\n",
        "    pad -- integer, amount of padding around each image on vertical and horizontal dimensions\n",
        "\n",
        "    Returns:\n",
        "    X_pad -- padded image of shape (m, n_H + 2 * pad, n_W + 2 * pad, n_C)\n",
        "    \"\"\"\n",
        "\n",
        "    # YOUR CODE STARTS HERE\n",
        "    X_pad = np.pad(X, ((0, 0), (pad, pad), (pad, pad), (0, 0)), 'constant', constant_values=(0, 0))\n",
        "\n",
        "    # YOUR CODE ENDS HERE\n",
        "\n",
        "    return X_pad"
      ]
    },
    {
      "cell_type": "code",
      "execution_count": null,
      "metadata": {
        "deletable": false,
        "editable": false,
        "nbgrader": {
          "cell_type": "code",
          "checksum": "77b102453547ea1396bef12df34e11f8",
          "grade": true,
          "grade_id": "cell-65f1ed75ba39bc0a",
          "locked": true,
          "points": 10,
          "schema_version": 3,
          "solution": false,
          "task": false
        },
        "id": "TOCuP9XwjQiJ",
        "outputId": "0d7d07c4-e8a6-4c5f-84f4-f3ace438edba",
        "colab": {
          "base_uri": "https://localhost:8080/",
          "height": 638
        }
      },
      "outputs": [
        {
          "output_type": "stream",
          "name": "stdout",
          "text": [
            "x.shape =\n",
            " (4, 3, 3, 2)\n",
            "x_pad.shape =\n",
            " (4, 9, 9, 2)\n",
            "x[1,1] =\n",
            " [[ 0.90085595 -0.68372786]\n",
            " [-0.12289023 -0.93576943]\n",
            " [-0.26788808  0.53035547]]\n",
            "x_pad[1,1] =\n",
            " [[0. 0.]\n",
            " [0. 0.]\n",
            " [0. 0.]\n",
            " [0. 0.]\n",
            " [0. 0.]\n",
            " [0. 0.]\n",
            " [0. 0.]\n",
            " [0. 0.]\n",
            " [0. 0.]]\n"
          ]
        },
        {
          "output_type": "execute_result",
          "data": {
            "text/plain": [
              "<matplotlib.image.AxesImage at 0x7ebca9d90940>"
            ]
          },
          "metadata": {},
          "execution_count": 19
        },
        {
          "output_type": "display_data",
          "data": {
            "text/plain": [
              "<Figure size 640x480 with 2 Axes>"
            ],
            "image/png": "[encoded data removed]"
          },
          "metadata": {}
        }
      ],
      "source": [
        "np.random.seed(1)\n",
        "x = np.random.randn(4, 3, 3, 2)\n",
        "x_pad = zero_pad(x, 3)\n",
        "print (\"x.shape =\\n\", x.shape)\n",
        "print (\"x_pad.shape =\\n\", x_pad.shape)\n",
        "print (\"x[1,1] =\\n\", x[1, 1])\n",
        "print (\"x_pad[1,1] =\\n\", x_pad[1, 1])\n",
        "\n",
        "fig, axarr = plt.subplots(1, 2)\n",
        "axarr[0].set_title('x')\n",
        "axarr[0].imshow(x[0, :, :, 0])\n",
        "axarr[1].set_title('x_pad')\n",
        "axarr[1].imshow(x_pad[0, :, :, 0])"
      ]
    },
    {
      "cell_type": "code",
      "execution_count": null,
      "metadata": {
        "deletable": false,
        "nbgrader": {
          "cell_type": "code",
          "checksum": "9ef959e74c801cce52d46fb16fb0ba0d",
          "grade": false,
          "grade_id": "cell-bd1b8f799894d4e0",
          "locked": false,
          "schema_version": 3,
          "solution": true,
          "task": false
        },
        "id": "DsPvElesjQiK"
      },
      "outputs": [],
      "source": [
        "\n",
        "def conv_single_step(a_slice_prev, W, b):\n",
        "    \"\"\"\n",
        "    Apply one filter defined by parameters W on a single slice (a_slice_prev) of the output activation\n",
        "    of the previous layer.\n",
        "\n",
        "    Arguments:\n",
        "    a_slice_prev -- slice of input data of shape (f, f, n_C_prev)\n",
        "    W -- Weight parameters contained in a window - matrix of shape (f, f, n_C_prev)\n",
        "    b -- Bias parameters contained in a window - matrix of shape (1, 1, 1)\n",
        "\n",
        "    Returns:\n",
        "    Z -- a scalar value, the result of convolving the sliding window (W, b) on a slice x of the input data\n",
        "    \"\"\"\n",
        "    s = np.sum(a_slice_prev * W)\n",
        "    Z = s + float(b)\n",
        "    # YOUR CODE ENDS HERE\n",
        "\n",
        "    return Z"
      ]
    },
    {
      "cell_type": "code",
      "execution_count": null,
      "metadata": {
        "deletable": false,
        "editable": false,
        "nbgrader": {
          "cell_type": "code",
          "checksum": "7e4306fe13522c163e4eb63e7682b7bc",
          "grade": true,
          "grade_id": "cell-a77e63b4119ac3b9",
          "locked": true,
          "points": 10,
          "schema_version": 3,
          "solution": false,
          "task": false
        },
        "colab": {
          "base_uri": "https://localhost:8080/"
        },
        "id": "AGB9-RarjQiK",
        "outputId": "e62fd1fe-6792-4bec-a55a-0b1198e77750"
      },
      "outputs": [
        {
          "output_type": "stream",
          "name": "stdout",
          "text": [
            "Z = -6.999089450680221\n"
          ]
        },
        {
          "output_type": "stream",
          "name": "stderr",
          "text": [
            "<ipython-input-20-1fbc40cd80b0>:15: DeprecationWarning: Conversion of an array with ndim > 0 to a scalar is deprecated, and will error in future. Ensure you extract a single element from your array before performing this operation. (Deprecated NumPy 1.25.)\n",
            "  Z = s + float(b)\n"
          ]
        }
      ],
      "source": [
        "np.random.seed(1)\n",
        "a_slice_prev = np.random.randn(4, 4, 3)\n",
        "W = np.random.randn(4, 4, 3)\n",
        "b = np.random.randn(1, 1, 1)\n",
        "\n",
        "Z = conv_single_step(a_slice_prev, W, b)\n",
        "print(\"Z =\", Z)\n",
        "\n",
        "assert (type(Z) == np.float64), \"You must cast the output to numpy float 64\"\n",
        "assert np.isclose(Z, -6.999089450680221), \"Wrong value\""
      ]
    },
    {
      "cell_type": "markdown",
      "metadata": {
        "id": "kUgi1s48jQiL"
      },
      "source": [
        "\n",
        "### 3.3 - Convolutional Neural Networks - Forward Pass\n",
        "\n",
        "In the forward pass, you will take many filters and convolve them on the input. Each 'convolution' gives you a 2D matrix output. You will then stack these outputs to get a 3D volume:\n",
        "\n",
        "### Exercise 3 -  conv_forward\n",
        "Implement the function below to convolve the filters `W` on an input activation `A_prev`.  \n",
        "This function takes the following inputs:\n",
        "* `A_prev`, the activations output by the previous layer (for a batch of m inputs);\n",
        "* Weights are denoted by `W`.  The filter window size is `f` by `f`.\n",
        "* The bias vector is `b`, where each filter has its own (single) bias.\n",
        "\n",
        "You also have access to the hyperparameters dictionary, which contains the stride and the padding."
      ]
    },
    {
      "cell_type": "code",
      "execution_count": null,
      "metadata": {
        "colab": {
          "base_uri": "https://localhost:8080/"
        },
        "id": "IAvpYnIdjQiL",
        "outputId": "34f155d6-e28b-4d92-8260-4741f41cf2d7"
      },
      "outputs": [
        {
          "output_type": "execute_result",
          "data": {
            "text/plain": [
              "(4, 4, 3)"
            ]
          },
          "metadata": {},
          "execution_count": 22
        }
      ],
      "source": [
        "a_slice_prev.shape"
      ]
    },
    {
      "cell_type": "code",
      "execution_count": null,
      "metadata": {
        "deletable": false,
        "nbgrader": {
          "cell_type": "code",
          "checksum": "812d5c174c04b75b9edaf9b77ce3da72",
          "grade": false,
          "grade_id": "cell-00b35b01091c3cdc",
          "locked": false,
          "schema_version": 3,
          "solution": true,
          "task": false
        },
        "id": "c6iW3Y7-jQiL"
      },
      "outputs": [],
      "source": [
        "\n",
        "def conv_forward(A_prev, W, b, hparameters):\n",
        "    \"\"\"\n",
        "    Implements the forward propagation for a convolution function\n",
        "\n",
        "    Arguments:\n",
        "    A_prev -- output activations of the previous layer,\n",
        "        numpy array of shape (m, n_H_prev, n_W_prev, n_C_prev)\n",
        "    W -- Weights, numpy array of shape (f, f, n_C_prev, n_C)\n",
        "    b -- Biases, numpy array of shape (1, 1, 1, n_C)\n",
        "    hparameters -- python dictionary containing \"stride\" and \"pad\"\n",
        "\n",
        "    Returns:\n",
        "    Z -- conv output, numpy array of shape (m, n_H, n_W, n_C)\n",
        "    \"\"\"\n",
        "\n",
        "    (m, n_H_prev, n_W_prev, n_C_prev) = A_prev.shape\n",
        "    (f, f, n_C_prev, n_C) = W.shape\n",
        "\n",
        "    stride = hparameters['stride']\n",
        "    pad = hparameters['pad']\n",
        "\n",
        "    n_H = int((n_H_prev - f + 2 * pad) / stride) + 1\n",
        "    n_W = int((n_W_prev - f + 2 * pad) / stride) + 1\n",
        "    Z = np.zeros((m, n_H, n_W, n_C))\n",
        "\n",
        "    A_prev_pad = zero_pad(A_prev, pad)\n",
        "\n",
        "    for i in range(m):\n",
        "        a_prev_pad = A_prev_pad[i]\n",
        "        for h in range(n_H):\n",
        "            for w in range(n_W):\n",
        "                for c in range(n_C):\n",
        "\n",
        "                    vert_start = h * stride\n",
        "                    vert_end = vert_start + f\n",
        "                    horiz_start = w * stride\n",
        "                    horiz_end = horiz_start + f\n",
        "                    a_slice_prev = a_prev_pad[vert_start:vert_end, horiz_start:horiz_end, :]\n",
        "                    Z[i, h, w, c] = conv_single_step(a_slice_prev, W[..., c], b[..., c])\n",
        "\n",
        "    assert(Z.shape == (m, n_H, n_W, n_C))\n",
        "    # YOUR CODE ENDS HERE\n",
        "\n",
        "    return Z"
      ]
    },
    {
      "cell_type": "code",
      "execution_count": null,
      "metadata": {
        "deletable": false,
        "editable": false,
        "nbgrader": {
          "cell_type": "code",
          "checksum": "f19fe38e8004fe3581b0a52ac27dc5df",
          "grade": true,
          "grade_id": "cell-429520eed87675d9",
          "locked": true,
          "points": 10,
          "schema_version": 3,
          "solution": false,
          "task": false
        },
        "colab": {
          "base_uri": "https://localhost:8080/"
        },
        "id": "tPaVaTeojQiM",
        "outputId": "1727b49f-7a0e-4b97-8e6e-103ca1f8de47"
      },
      "outputs": [
        {
          "output_type": "stream",
          "name": "stdout",
          "text": [
            "Z's mean =\n",
            " 0.07188981915685806\n",
            "Z[0,2,1] =\n",
            " 3.4085979527632695\n",
            "cache_conv[0][1][2][3] =\n",
            " -5.262208534311856\n"
          ]
        },
        {
          "output_type": "stream",
          "name": "stderr",
          "text": [
            "<ipython-input-20-1fbc40cd80b0>:15: DeprecationWarning: Conversion of an array with ndim > 0 to a scalar is deprecated, and will error in future. Ensure you extract a single element from your array before performing this operation. (Deprecated NumPy 1.25.)\n",
            "  Z = s + float(b)\n"
          ]
        }
      ],
      "source": [
        "np.random.seed(1)\n",
        "A_prev = np.random.randn(2, 5, 7, 4)\n",
        "W = np.random.randn(3, 3, 4, 8)\n",
        "b = np.random.randn(1, 1, 1, 8)\n",
        "hparameters = {\"pad\" : 1,\n",
        "               \"stride\": 2}\n",
        "\n",
        "cache_conv = conv_forward(A_prev, W, b, hparameters)\n",
        "z_mean = np.mean(Z)\n",
        "z_0_2_1 = Z[0, 2, 1]\n",
        "cache_0_1_2_3 = cache_conv[0][1][2][3]\n",
        "print(\"Z's mean =\\n\", z_mean)\n",
        "print(\"Z[0,2,1] =\\n\", z_0_2_1)\n",
        "print(\"cache_conv[0][1][2][3] =\\n\", cache_0_1_2_3)\n",
        "\n"
      ]
    },
    {
      "cell_type": "markdown",
      "metadata": {
        "id": "XkNEVO8OjQiM"
      },
      "source": [
        "\n",
        "## 4 - Pooling Layer\n",
        "\n",
        "These pooling layers have no parameters for backpropagation to train. However, they have hyperparameters such as the window size $f$. This specifies the height and width of the $f \\times f$ window you would compute a *max* or *average* over.\n",
        "\n",
        "<a name='4-1'></a>\n",
        "### 4.1 - Forward Pooling\n",
        "Now, you are going to implement MAX-POOL and AVG-POOL, in the same function.\n",
        "\n",
        "<a name='ex-4'></a>\n",
        "### Exercise 4 - pool_forward\n",
        "\n",
        "Implement the forward pass of the pooling layer. Follow the hints in the comments below.\n",
        "\n",
        "\n",
        "\n"
      ]
    },
    {
      "cell_type": "code",
      "execution_count": null,
      "metadata": {
        "deletable": false,
        "nbgrader": {
          "cell_type": "code",
          "checksum": "0201a499bc4a2249c65fa3a736985fac",
          "grade": false,
          "grade_id": "cell-aed533a126205ca2",
          "locked": false,
          "schema_version": 3,
          "solution": true,
          "task": false
        },
        "id": "OVM73ZHvjQiM"
      },
      "outputs": [],
      "source": [
        "def pool_forward(A_prev, hparameters, mode = \"max\"):\n",
        "    \"\"\"\n",
        "    Implements the forward pass of the pooling layer\n",
        "\n",
        "    Arguments:\n",
        "    A_prev -- Input data, numpy array of shape (m, n_H_prev, n_W_prev, n_C_prev)\n",
        "    hparameters -- python dictionary containing \"f\" and \"stride\"\n",
        "    mode -- the pooling mode you would like to use, defined as a string (\"max\" or \"average\")\n",
        "\n",
        "    Returns:\n",
        "    A -- output of the pool layer, a numpy array of shape (m, n_H, n_W, n_C)\n",
        "    \"\"\"\n",
        "\n",
        "    # Retrieve dimensions from the input shape\n",
        "    (m, n_H_prev, n_W_prev, n_C_prev) = A_prev.shape\n",
        "\n",
        "    # Retrieve hyperparameters from \"hparameters\"\n",
        "    f = hparameters[\"f\"]\n",
        "    stride = hparameters[\"stride\"]\n",
        "\n",
        "    # Define the dimensions of the output\n",
        "    n_H = int(1 + (n_H_prev - f) / stride)\n",
        "    n_W = int(1 + (n_W_prev - f) / stride)\n",
        "    n_C = n_C_prev\n",
        "\n",
        "    # Initialize output matrix A\n",
        "    A = np.zeros((m, n_H, n_W, n_C))\n",
        "\n",
        "    # Perform the pooling operation\n",
        "    for i in range(m):\n",
        "        for h in range(n_H):\n",
        "            for w in range(n_W):\n",
        "                for c in range(n_C):\n",
        "\n",
        "                    vert_start = h * stride\n",
        "                    vert_end = vert_start + f\n",
        "                    horiz_start = w * stride\n",
        "                    horiz_end = horiz_start + f\n",
        "\n",
        "                    a_prev_slice = A_prev[i, vert_start:vert_end, horiz_start:horiz_end, c]\n",
        "\n",
        "                    if mode == \"max\":\n",
        "                        A[i, h, w, c] = np.max(a_prev_slice)\n",
        "                    elif mode == \"average\":\n",
        "                        A[i, h, w, c] = np.mean(a_prev_slice)\n",
        "\n",
        "    # YOUR CODE ENDS HERE\n",
        "\n",
        "    return A"
      ]
    },
    {
      "cell_type": "code",
      "execution_count": null,
      "metadata": {
        "deletable": false,
        "editable": false,
        "nbgrader": {
          "cell_type": "code",
          "checksum": "41872940d42f284c524d3b66eaf3c205",
          "grade": true,
          "grade_id": "cell-ae96f27f888cec37",
          "locked": true,
          "points": 10,
          "schema_version": 3,
          "solution": false,
          "task": false
        },
        "id": "ZaKEDrGkjQiN",
        "outputId": "50c58fc7-62b4-484c-cc14-321c131e9c98",
        "colab": {
          "base_uri": "https://localhost:8080/"
        }
      },
      "outputs": [
        {
          "output_type": "stream",
          "name": "stdout",
          "text": [
            "mode = max\n",
            "A.shape = (2, 3, 3, 3)\n",
            "A[1, 1] =\n",
            " [[1.96710175 0.84616065 1.27375593]\n",
            " [1.96710175 0.84616065 1.23616403]\n",
            " [1.62765075 1.12141771 1.2245077 ]]\n",
            "mode = average\n",
            "A.shape = (2, 3, 3, 3)\n",
            "A[1, 1] =\n",
            " [[ 0.44497696 -0.00261695 -0.31040307]\n",
            " [ 0.50811474 -0.23493734 -0.23961183]\n",
            " [ 0.11872677  0.17255229 -0.22112197]]\n"
          ]
        }
      ],
      "source": [
        "# Case 1: stride of 1\n",
        "np.random.seed(1)\n",
        "A_prev = np.random.randn(2, 5, 5, 3)\n",
        "hparameters = {\"stride\" : 1, \"f\": 3}\n",
        "\n",
        "A= pool_forward(A_prev, hparameters, mode = \"max\")\n",
        "print(\"mode = max\")\n",
        "print(\"A.shape = \" + str(A.shape))\n",
        "print(\"A[1, 1] =\\n\", A[1, 1])\n",
        "A= pool_forward(A_prev, hparameters, mode = \"average\")\n",
        "print(\"mode = average\")\n",
        "print(\"A.shape = \" + str(A.shape))\n",
        "print(\"A[1, 1] =\\n\", A[1, 1])\n"
      ]
    },
    {
      "cell_type": "markdown",
      "metadata": {
        "id": "5R29fSsKjQiN"
      },
      "source": [
        "**Expected output**\n",
        "\n",
        "```\n",
        "mode = max\n",
        "A.shape = (2, 3, 3, 3)\n",
        "A[1, 1] =\n",
        " [[1.96710175 0.84616065 1.27375593]\n",
        " [1.96710175 0.84616065 1.23616403]\n",
        " [1.62765075 1.12141771 1.2245077 ]]\n",
        "\n",
        "mode = average\n",
        "A.shape = (2, 3, 3, 3)\n",
        "A[1, 1] =\n",
        " [[ 0.44497696 -0.00261695 -0.31040307]\n",
        " [ 0.50811474 -0.23493734 -0.23961183]\n",
        " [ 0.11872677  0.17255229 -0.22112197]]\n",
        "```"
      ]
    },
    {
      "cell_type": "code",
      "execution_count": null,
      "metadata": {
        "deletable": false,
        "editable": false,
        "nbgrader": {
          "cell_type": "code",
          "checksum": "756f8dfdbdba11c66fc0b342d8be23c4",
          "grade": true,
          "grade_id": "cell-2bc34b23ee92311b",
          "locked": true,
          "points": 0,
          "schema_version": 3,
          "solution": false,
          "task": false
        },
        "id": "7BAu4ZZIjQiN",
        "outputId": "1c35cbd4-3bdd-4ad2-f9db-8f052c4c705c",
        "colab": {
          "base_uri": "https://localhost:8080/"
        }
      },
      "outputs": [
        {
          "output_type": "stream",
          "name": "stdout",
          "text": [
            "mode = max\n",
            "A.shape = (2, 2, 2, 3)\n",
            "A[0] =\n",
            " [[[1.74481176 0.90159072 1.65980218]\n",
            "  [1.74481176 1.6924546  1.65980218]]\n",
            "\n",
            " [[1.13162939 1.51981682 2.18557541]\n",
            "  [1.13162939 1.6924546  2.18557541]]]\n",
            "\n",
            "mode = average\n",
            "A.shape = (2, 2, 2, 3)\n",
            "A[1] =\n",
            " [[[-0.17313416  0.32377198 -0.34317572]\n",
            "  [ 0.02030094  0.14141479 -0.01231585]]\n",
            "\n",
            " [[ 0.42944926  0.08446996 -0.27290905]\n",
            "  [ 0.15077452  0.28911175  0.00123239]]]\n"
          ]
        }
      ],
      "source": [
        "# Case 2: stride of 2\n",
        "np.random.seed(1)\n",
        "A_prev = np.random.randn(2, 5, 5, 3)\n",
        "hparameters = {\"stride\" : 2, \"f\": 3}\n",
        "\n",
        "A= pool_forward(A_prev, hparameters)\n",
        "print(\"mode = max\")\n",
        "print(\"A.shape = \" + str(A.shape))\n",
        "print(\"A[0] =\\n\", A[0])\n",
        "print()\n",
        "\n",
        "A= pool_forward(A_prev, hparameters, mode = \"average\")\n",
        "print(\"mode = average\")\n",
        "print(\"A.shape = \" + str(A.shape))\n",
        "print(\"A[1] =\\n\", A[1])"
      ]
    },
    {
      "cell_type": "markdown",
      "source": [
        "**Expected output**\n",
        "```\n",
        "mode = max\n",
        "A.shape = (2, 2, 2, 3)\n",
        "A[0] =\n",
        " [[[1.74481176 0.90159072 1.65980218]\n",
        "  [1.74481176 1.6924546  1.65980218]]\n",
        "\n",
        " [[1.13162939 1.51981682 2.18557541]\n",
        "  [1.13162939 1.6924546  2.18557541]]]\n",
        "\n",
        "mode = average\n",
        "A.shape = (2, 2, 2, 3)\n",
        "A[1] =\n",
        " [[[-0.17313416  0.32377198 -0.34317572]\n",
        "  [ 0.02030094  0.14141479 -0.01231585]]\n",
        "\n",
        " [[ 0.42944926  0.08446996 -0.27290905]\n",
        "  [ 0.15077452  0.28911175  0.00123239]]]\n",
        "  ```"
      ],
      "metadata": {
        "id": "Pz0PvY4zliDc"
      }
    }
  ],
  "metadata": {
    "coursera": {
      "course_slug": "convolutional-neural-networks",
      "graded_item_id": "qO8ng",
      "launcher_item_id": "7XDi8"
    },
    "kernelspec": {
      "display_name": "Python 3",
      "language": "python",
      "name": "python3"
    },
    "language_info": {
      "codemirror_mode": {
        "name": "ipython",
        "version": 3
      },
      "file_extension": ".py",
      "mimetype": "text/x-python",
      "name": "python",
      "nbconvert_exporter": "python",
      "pygments_lexer": "ipython3",
      "version": "3.7.6"
    },
    "colab": {
      "provenance": []
    }
  },
  "nbformat": 4,
  "nbformat_minor": 0
}