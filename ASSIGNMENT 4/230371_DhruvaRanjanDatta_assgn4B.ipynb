{
  "cells": [
    {
      "cell_type": "markdown",
      "metadata": {
        "id": "-C_VNR1pMSj9"
      },
      "source": [
        "# **Part B**"
      ]
    },
    {
      "cell_type": "code",
      "execution_count": 14,
      "metadata": {
        "id": "XAAqcoqsLBgu"
      },
      "outputs": [],
      "source": [
        "#import the libraries\n",
        "import numpy as np\n",
        "import pandas as pd\n",
        "import tensorflow as tf\n",
        "from sklearn.preprocessing import OneHotEncoder\n",
        "from sklearn.metrics import f1_score"
      ]
    },
    {
      "cell_type": "code",
      "execution_count": 15,
      "metadata": {
        "id": "eozQe6kXLAEc"
      },
      "outputs": [],
      "source": [
        "#dataset\n",
        "(X_train,Y_train),(X_test,Y_test) = tf.keras.datasets.cifar10.load_data()\n",
        "from sklearn.model_selection import train_test_split\n",
        "X_train,X_test,Y_train,Y_test=train_test_split(X_train,Y_train,test_size=0.3)"
      ]
    },
    {
      "cell_type": "code",
      "execution_count": 16,
      "metadata": {
        "colab": {
          "base_uri": "https://localhost:8080/"
        },
        "id": "y_UwAAhnuYAw",
        "outputId": "8625033a-9b19-40c2-f669-d2810442e181"
      },
      "outputs": [
        {
          "output_type": "execute_result",
          "data": {
            "text/plain": [
              "array([3465, 3453, 3486, 3497, 3559, 3504, 3493, 3517, 3541, 3485])"
            ]
          },
          "metadata": {},
          "execution_count": 16
        }
      ],
      "source": [
        "np.bincount(Y_train.T[0])"
      ]
    },
    {
      "cell_type": "code",
      "execution_count": 17,
      "metadata": {
        "colab": {
          "base_uri": "https://localhost:8080/"
        },
        "id": "bGGpnX2iwpBU",
        "outputId": "93523b60-9da4-4452-fcaf-c3be189ec49a"
      },
      "outputs": [
        {
          "output_type": "execute_result",
          "data": {
            "text/plain": [
              "(35000, 10)"
            ]
          },
          "metadata": {},
          "execution_count": 17
        }
      ],
      "source": [
        "encoder = OneHotEncoder(sparse_output=False)\n",
        "Y_train = pd.DataFrame(Y_train)\n",
        "Y_train.columns = ['Type']\n",
        "one_hot_encoded = encoder.fit_transform(Y_train[['Type']])\n",
        "y_train_transformed = pd.DataFrame(one_hot_encoded, columns=encoder.get_feature_names_out(['Type']))\n",
        "y_train_transformed.shape"
      ]
    },
    {
      "cell_type": "code",
      "execution_count": 18,
      "metadata": {
        "colab": {
          "base_uri": "https://localhost:8080/"
        },
        "id": "O0uPThCpQI-9",
        "outputId": "d981b130-489a-469b-ac62-64f32a5d3b29"
      },
      "outputs": [
        {
          "output_type": "execute_result",
          "data": {
            "text/plain": [
              "(15000, 10)"
            ]
          },
          "metadata": {},
          "execution_count": 18
        }
      ],
      "source": [
        "encoder = OneHotEncoder(sparse_output=False)\n",
        "Y_test = pd.DataFrame(Y_test)\n",
        "Y_test.columns = ['Type']\n",
        "one_hot_encoded = encoder.fit_transform(Y_test[['Type']])\n",
        "y_test_transformed = pd.DataFrame(one_hot_encoded, columns=encoder.get_feature_names_out(['Type']))\n",
        "y_test_transformed.shape"
      ]
    },
    {
      "cell_type": "markdown",
      "metadata": {
        "id": "Xs93O1uRLUcD"
      },
      "source": [
        "You have learnt about data augmentation in the theoretical assignment, Now you need to use it in the above dataset (You can do it using ImageDataGenerator"
      ]
    },
    {
      "cell_type": "code",
      "execution_count": 19,
      "metadata": {
        "id": "gb8hzzF_LFwb"
      },
      "outputs": [],
      "source": [
        "# Create an ImageDataGenerator object\n",
        "from tensorflow.keras.preprocessing.image import ImageDataGenerator\n",
        "datagen = ImageDataGenerator(rescale=1./32)\n",
        "\n",
        "train = datagen.flow(X_train, y_train_transformed, batch_size=32)\n"
      ]
    },
    {
      "cell_type": "code",
      "execution_count": 20,
      "metadata": {
        "colab": {
          "base_uri": "https://localhost:8080/"
        },
        "id": "19pH3GRRFE2n",
        "outputId": "3a61ffcc-3b90-4565-ea08-86e2f20b3428"
      },
      "outputs": [
        {
          "output_type": "stream",
          "name": "stdout",
          "text": [
            "<keras.src.preprocessing.image.NumpyArrayIterator object at 0x7febd82df610>\n"
          ]
        }
      ],
      "source": [
        "print(train)"
      ]
    },
    {
      "cell_type": "code",
      "source": [
        "X_train.shape"
      ],
      "metadata": {
        "colab": {
          "base_uri": "https://localhost:8080/"
        },
        "id": "8qAMrmym7QqN",
        "outputId": "e16a5cf8-11f6-4a85-b210-ad4f7509a8e9"
      },
      "execution_count": 21,
      "outputs": [
        {
          "output_type": "execute_result",
          "data": {
            "text/plain": [
              "(35000, 32, 32, 3)"
            ]
          },
          "metadata": {},
          "execution_count": 21
        }
      ]
    },
    {
      "cell_type": "markdown",
      "metadata": {
        "id": "T_IjfGJ_L7sW"
      },
      "source": [
        "Use Visualization libraries to see how data augmentation works."
      ]
    },
    {
      "cell_type": "markdown",
      "metadata": {
        "id": "sJxUHrusMEud"
      },
      "source": [
        "Train a CNN model of your choice and evaluate on the test data using weighted F1 scores ( Do not just try with a single model use multiple models, for example- one with transfer learning or with a different model architecture) at the end compare the performance of the models, and write what do you infer from the same"
      ]
    },
    {
      "cell_type": "code",
      "execution_count": 22,
      "metadata": {
        "id": "pmMCe4DXLQoX"
      },
      "outputs": [],
      "source": [
        "from tensorflow.keras.models import Sequential\n",
        "from tensorflow.keras.layers import Dense, Dropout, Activation, Flatten, Conv2D, MaxPooling2D\n",
        "\n",
        "model = Sequential()\n",
        "\n",
        "model.add(Conv2D(filters=128, kernel_size=(3,3), activation='relu', input_shape=(32, 32, 3)))\n",
        "model.add(MaxPooling2D(pool_size=(2,2)))\n",
        "\n",
        "model.add(Conv2D(filters=128, kernel_size=(3,3), activation='relu', input_shape=(32, 32, 3)))\n",
        "model.add(MaxPooling2D(pool_size=(2,2)))\n",
        "\n",
        "model.add(Flatten())\n",
        "model.add(Dense(128, activation='relu'))\n",
        "model.add(Dense(128, activation='relu'))\n",
        "model.add(Dense(10, activation='softmax'))"
      ]
    },
    {
      "cell_type": "code",
      "execution_count": 23,
      "metadata": {
        "id": "HjcdEXl0tjUi"
      },
      "outputs": [],
      "source": [
        "model.compile(loss='categorical_crossentropy',optimizer='rmsprop',metrics=['accuracy'])"
      ]
    },
    {
      "cell_type": "code",
      "execution_count": 24,
      "metadata": {
        "colab": {
          "base_uri": "https://localhost:8080/"
        },
        "id": "5CoNFNvbtzuN",
        "outputId": "49d772f5-fae2-4eeb-fbbb-63178b7530e2"
      },
      "outputs": [
        {
          "output_type": "stream",
          "name": "stdout",
          "text": [
            "Epoch 1/10\n",
            "1094/1094 [==============================] - 17s 15ms/step - loss: 1.5454 - accuracy: 0.4527\n",
            "Epoch 2/10\n",
            "1094/1094 [==============================] - 16s 15ms/step - loss: 1.1242 - accuracy: 0.6077\n",
            "Epoch 3/10\n",
            "1094/1094 [==============================] - 16s 15ms/step - loss: 0.9467 - accuracy: 0.6768\n",
            "Epoch 4/10\n",
            "1094/1094 [==============================] - 17s 15ms/step - loss: 0.8216 - accuracy: 0.7242\n",
            "Epoch 5/10\n",
            "1094/1094 [==============================] - 17s 15ms/step - loss: 0.7341 - accuracy: 0.7541\n",
            "Epoch 6/10\n",
            "1094/1094 [==============================] - 17s 15ms/step - loss: 0.6661 - accuracy: 0.7812\n",
            "Epoch 7/10\n",
            "1094/1094 [==============================] - 17s 15ms/step - loss: 0.6108 - accuracy: 0.7994\n",
            "Epoch 8/10\n",
            "1094/1094 [==============================] - 17s 15ms/step - loss: 0.5834 - accuracy: 0.8098\n",
            "Epoch 9/10\n",
            "1094/1094 [==============================] - 17s 15ms/step - loss: 0.5693 - accuracy: 0.8186\n",
            "Epoch 10/10\n",
            "1094/1094 [==============================] - 17s 15ms/step - loss: 0.5621 - accuracy: 0.8261\n"
          ]
        },
        {
          "output_type": "execute_result",
          "data": {
            "text/plain": [
              "<keras.src.callbacks.History at 0x7ff55ac77400>"
            ]
          },
          "metadata": {},
          "execution_count": 24
        }
      ],
      "source": [
        "model.fit(train, epochs=10)"
      ]
    },
    {
      "cell_type": "code",
      "execution_count": 25,
      "metadata": {
        "id": "9ddlfvwwt9HG",
        "colab": {
          "base_uri": "https://localhost:8080/"
        },
        "outputId": "f153d636-44b4-4b86-a902-ad90c5ab294b"
      },
      "outputs": [
        {
          "output_type": "stream",
          "name": "stdout",
          "text": [
            "469/469 [==============================] - 3s 5ms/step - loss: 36.7050 - accuracy: 0.6259\n"
          ]
        },
        {
          "output_type": "execute_result",
          "data": {
            "text/plain": [
              "[36.704994201660156, 0.6259333491325378]"
            ]
          },
          "metadata": {},
          "execution_count": 25
        }
      ],
      "source": [
        "model.evaluate(X_test, y_test_transformed)"
      ]
    },
    {
      "cell_type": "code",
      "execution_count": 26,
      "metadata": {
        "id": "AaLwpg8qQWc2",
        "colab": {
          "base_uri": "https://localhost:8080/"
        },
        "outputId": "4c17f85e-22a3-41c7-8b4d-e142e7bb7811"
      },
      "outputs": [
        {
          "output_type": "stream",
          "name": "stdout",
          "text": [
            "469/469 [==============================] - 2s 5ms/step\n"
          ]
        },
        {
          "output_type": "execute_result",
          "data": {
            "text/plain": [
              "0.6192812935597565"
            ]
          },
          "metadata": {},
          "execution_count": 26
        }
      ],
      "source": [
        "predictions = np.argmax(model.predict(X_test), axis=1)\n",
        "\n",
        "encoder = OneHotEncoder(sparse_output=False)\n",
        "predictions = pd.DataFrame(predictions)\n",
        "predictions.columns = ['Type']\n",
        "one_hot_encoded = encoder.fit_transform(predictions[['Type']])\n",
        "predictions_transformed = pd.DataFrame(one_hot_encoded, columns=encoder.get_feature_names_out(['Type']))\n",
        "\n",
        "f1_score(y_test_transformed, predictions_transformed, average='weighted')"
      ]
    },
    {
      "cell_type": "code",
      "source": [],
      "metadata": {
        "id": "ZuUcXIZjRnq_"
      },
      "execution_count": 26,
      "outputs": []
    }
  ],
  "metadata": {
    "accelerator": "TPU",
    "colab": {
      "gpuType": "V28",
      "provenance": []
    },
    "kernelspec": {
      "display_name": "Python 3",
      "name": "python3"
    },
    "language_info": {
      "name": "python"
    }
  },
  "nbformat": 4,
  "nbformat_minor": 0
}