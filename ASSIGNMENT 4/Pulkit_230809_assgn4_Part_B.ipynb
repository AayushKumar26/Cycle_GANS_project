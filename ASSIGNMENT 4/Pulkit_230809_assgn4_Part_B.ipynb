{
  "nbformat": 4,
  "nbformat_minor": 0,
  "metadata": {
    "colab": {
      "provenance": []
    },
    "kernelspec": {
      "name": "python3",
      "display_name": "Python 3"
    },
    "language_info": {
      "name": "python"
    }
  },
  "cells": [
    {
      "cell_type": "markdown",
      "source": [
        "# **Part B**"
      ],
      "metadata": {
        "id": "-C_VNR1pMSj9"
      }
    },
    {
      "cell_type": "code",
      "source": [
        "#import the libraries\n",
        "import tensorflow as tf\n",
        "from tensorflow.keras.preprocessing.image import ImageDataGenerator\n",
        "from tensorflow.keras.models import Sequential\n",
        "from tensorflow.keras.layers import Conv2D, MaxPooling2D, Flatten, Dense, Dropout, BatchNormalization\n",
        "from tensorflow.keras.applications import VGG16\n",
        "from tensorflow.keras.optimizers import Adam\n",
        "from sklearn.model_selection import train_test_split\n",
        "from sklearn.metrics import f1_score\n",
        "import numpy as np\n",
        "import matplotlib.pyplot as plt"
      ],
      "metadata": {
        "id": "XAAqcoqsLBgu"
      },
      "execution_count": 1,
      "outputs": []
    },
    {
      "cell_type": "code",
      "execution_count": 5,
      "metadata": {
        "id": "eozQe6kXLAEc"
      },
      "outputs": [],
      "source": [
        "# #dataset\n",
        "(X_train,Y_train),(X_test,Y_test) = tf.keras.datasets.cifar10.load_data()\n",
        "from sklearn.model_selection import train_test_split\n",
        "X_train,X_val,Y_train,Y_val=train_test_split(X_train,Y_train,test_size=0.3)"
      ]
    },
    {
      "cell_type": "markdown",
      "source": [
        "You have learnt about data augmentation in the theoretical assignment, Now you need to use it in the above dataset (You can do it using ImageDataGenerator"
      ],
      "metadata": {
        "id": "Xs93O1uRLUcD"
      }
    },
    {
      "cell_type": "code",
      "source": [
        "# Create an ImageDataGenerator object\n",
        "datagen = ImageDataGenerator(\n",
        "    rotation_range=20,\n",
        "    width_shift_range=0.2,\n",
        "    height_shift_range=0.2,\n",
        "    horizontal_flip=True,\n",
        "    zoom_range=0.2,\n",
        "    shear_range=0.2,\n",
        "    fill_mode='nearest'\n",
        ")\n",
        "\n",
        "datagen.fit(X_train)\n",
        "\n",
        "def plot_augmented_images(datagen, X_train):\n",
        "    fig, ax = plt.subplots(1, 5, figsize=(20, 20))\n",
        "    for i in range(5):\n",
        "        aug_img = datagen.random_transform(X_train[0])\n",
        "        ax[i].imshow(aug_img.astype('uint8'))\n",
        "        ax[i].axis('off')\n",
        "    plt.show()\n",
        "\n",
        "plot_augmented_images(datagen, X_train)"
      ],
      "metadata": {
        "id": "gb8hzzF_LFwb",
        "colab": {
          "base_uri": "https://localhost:8080/",
          "height": 264
        },
        "outputId": "4732d69b-a4bd-4304-c692-587f6d24d963"
      },
      "execution_count": 6,
      "outputs": [
        {
          "output_type": "display_data",
          "data": {
            "text/plain": [
              "<Figure size 2000x2000 with 5 Axes>"
            ],
            "image/png": "[encoded data removed]"
          },
          "metadata": {}
        }
      ]
    },
    {
      "cell_type": "markdown",
      "source": [
        "Use Visualization libraries to see how data augmentation works."
      ],
      "metadata": {
        "id": "T_IjfGJ_L7sW"
      }
    },
    {
      "cell_type": "markdown",
      "source": [
        "Train a CNN model of your choice and evaluate on the test data using weighted F1 scores ( Do not just try with a single model use multiple models, for example- one with transfer learning or with a different model architecture) at the end compare the performance of the models, and write what do you infer from the same"
      ],
      "metadata": {
        "id": "sJxUHrusMEud"
      }
    },
    {
      "cell_type": "code",
      "source": [
        "def create_cnn_model(input_shape):\n",
        "    model = Sequential([\n",
        "        Conv2D(32, (3, 3), activation='relu', input_shape=input_shape),\n",
        "        MaxPooling2D((2, 2)),\n",
        "        BatchNormalization(),\n",
        "        Conv2D(64, (3, 3), activation='relu'),\n",
        "        MaxPooling2D((2, 2)),\n",
        "        BatchNormalization(),\n",
        "        Conv2D(128, (3, 3), activation='relu'),\n",
        "        MaxPooling2D((2, 2)),\n",
        "        BatchNormalization(),\n",
        "        Flatten(),\n",
        "        Dense(128, activation='relu'),\n",
        "        Dropout(0.5),\n",
        "        Dense(10, activation='softmax')\n",
        "    ])\n",
        "    return model\n",
        "\n",
        "def create_transfer_model(input_shape):\n",
        "    base_model = VGG16(weights='imagenet', include_top=False, input_shape=input_shape)\n",
        "    model = Sequential([\n",
        "        base_model,\n",
        "        Flatten(),\n",
        "        Dense(256, activation='relu'),\n",
        "        Dropout(0.5),\n",
        "        Dense(10, activation='softmax')\n",
        "    ])\n",
        "    base_model.trainable = False\n",
        "    return model\n",
        "\n",
        "def train_and_evaluate_model(model, train_gen, val_data, test_data, epochs=5):\n",
        "    model.compile(optimizer=Adam(), loss='sparse_categorical_crossentropy', metrics=['accuracy'])\n",
        "    model.fit(train_gen, epochs=epochs, validation_data=val_data)\n",
        "    y_pred = model.predict(test_data[0])\n",
        "    y_pred_classes = np.argmax(y_pred, axis=1)\n",
        "    f1 = f1_score(test_data[1], y_pred_classes, average='weighted')\n",
        "    return f1\n",
        "\n",
        "train_gen = datagen.flow(X_train, Y_train, batch_size=32)\n",
        "val_data = (X_val, Y_val)\n",
        "test_data = (X_test, Y_test)\n",
        "\n",
        "cnn_model = create_cnn_model(X_train.shape[1:])\n",
        "cnn_f1_score = train_and_evaluate_model(cnn_model, train_gen, val_data, test_data)\n",
        "\n",
        "transfer_model = create_transfer_model(X_train.shape[1:])\n",
        "transfer_f1_score = train_and_evaluate_model(transfer_model, train_gen, val_data, test_data)\n",
        "\n",
        "print(f\"Simple CNN model F1 score: {cnn_f1_score}\")\n",
        "print(f\"Transfer learning model F1 score: {transfer_f1_score}\")\n",
        "\n",
        "if cnn_f1_score > transfer_f1_score:\n",
        "    print(\"The simple CNN model performed better.\")\n",
        "else:\n",
        "    print(\"The transfer learning model with VGG16 performed better.\")"
      ],
      "metadata": {
        "id": "pmMCe4DXLQoX",
        "colab": {
          "base_uri": "https://localhost:8080/"
        },
        "outputId": "7a57a771-2712-4a26-d525-5ab66f0bb651"
      },
      "execution_count": 8,
      "outputs": [
        {
          "output_type": "stream",
          "name": "stdout",
          "text": [
            "1094/1094 [==============================] - 94s 84ms/step - loss: 1.9162 - accuracy: 0.0968 - val_loss: 1.5413 - val_accuracy: 0.1535\n",
            "313/313 [==============================] - 5s 15ms/step\n",
            "Downloading data from https://storage.googleapis.com/tensorflow/keras-applications/vgg16/vgg16_weights_tf_dim_ordering_tf_kernels_notop.h5\n",
            "58889256/58889256 [==============================] - 0s 0us/step\n",
            "1094/1094 [==============================] - 662s 604ms/step - loss: 3.4049 - accuracy: 0.0787 - val_loss: 1.6078 - val_accuracy: 0.0915\n",
            "313/313 [==============================] - 125s 398ms/step\n",
            "Simple CNN model F1 score: 0.4211558280735054\n",
            "Transfer learning model F1 score: 0.4328866400673217\n",
            "The transfer learning model with VGG16 performed better.\n"
          ]
        }
      ]
    }
  ]
}