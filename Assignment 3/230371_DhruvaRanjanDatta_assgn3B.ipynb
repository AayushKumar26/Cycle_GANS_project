{
  "nbformat": 4,
  "nbformat_minor": 0,
  "metadata": {
    "colab": {
      "provenance": []
    },
    "kernelspec": {
      "name": "python3",
      "display_name": "Python 3"
    },
    "language_info": {
      "name": "python"
    }
  },
  "cells": [
    {
      "cell_type": "markdown",
      "source": [
        "# Part B (Neural Network from Scratch)"
      ],
      "metadata": {
        "id": "N8VDe2CfGe1C"
      }
    },
    {
      "cell_type": "markdown",
      "source": [
        "You need to implement a neural network from scratch .This is a multiclass classification problem. No. of hidden layers depends on you but should be atleast 2.Remember to use activation function. You can add any other function of your choice."
      ],
      "metadata": {
        "id": "XWcVTpevGpfs"
      }
    },
    {
      "cell_type": "code",
      "source": [
        "import numpy as np\n",
        "import random\n",
        "import matplotlib.pyplot as plt\n",
        "from sklearn.metrics import f1_score"
      ],
      "metadata": {
        "id": "G79JnP4t4Eqw"
      },
      "execution_count": 605,
      "outputs": []
    },
    {
      "cell_type": "code",
      "source": [
        "from sklearn import datasets\n",
        "iris = datasets.load_iris()\n",
        "X = iris.data\n",
        "y = iris.target\n",
        "X = X.T"
      ],
      "metadata": {
        "id": "KmTgnciWFC0O"
      },
      "execution_count": 606,
      "outputs": []
    },
    {
      "cell_type": "code",
      "source": [
        "print(X.shape,y.shape)"
      ],
      "metadata": {
        "colab": {
          "base_uri": "https://localhost:8080/"
        },
        "id": "GVPMgOfMFC3o",
        "outputId": "dea323ba-b03e-401f-d398-7930ef019da6"
      },
      "execution_count": 607,
      "outputs": [
        {
          "output_type": "stream",
          "name": "stdout",
          "text": [
            "(4, 150) (150,)\n"
          ]
        }
      ]
    },
    {
      "cell_type": "code",
      "source": [
        "y = np.eye(3)[y]\n",
        "y = y.T\n",
        "y.shape\n",
        "print(y)"
      ],
      "metadata": {
        "id": "tLupy-MrX1L9",
        "colab": {
          "base_uri": "https://localhost:8080/"
        },
        "outputId": "d7e31e6a-5a2e-4efb-d4e1-bc4ddbeba0c1"
      },
      "execution_count": 608,
      "outputs": [
        {
          "output_type": "stream",
          "name": "stdout",
          "text": [
            "[[1. 1. 1. 1. 1. 1. 1. 1. 1. 1. 1. 1. 1. 1. 1. 1. 1. 1. 1. 1. 1. 1. 1. 1.\n",
            "  1. 1. 1. 1. 1. 1. 1. 1. 1. 1. 1. 1. 1. 1. 1. 1. 1. 1. 1. 1. 1. 1. 1. 1.\n",
            "  1. 1. 0. 0. 0. 0. 0. 0. 0. 0. 0. 0. 0. 0. 0. 0. 0. 0. 0. 0. 0. 0. 0. 0.\n",
            "  0. 0. 0. 0. 0. 0. 0. 0. 0. 0. 0. 0. 0. 0. 0. 0. 0. 0. 0. 0. 0. 0. 0. 0.\n",
            "  0. 0. 0. 0. 0. 0. 0. 0. 0. 0. 0. 0. 0. 0. 0. 0. 0. 0. 0. 0. 0. 0. 0. 0.\n",
            "  0. 0. 0. 0. 0. 0. 0. 0. 0. 0. 0. 0. 0. 0. 0. 0. 0. 0. 0. 0. 0. 0. 0. 0.\n",
            "  0. 0. 0. 0. 0. 0.]\n",
            " [0. 0. 0. 0. 0. 0. 0. 0. 0. 0. 0. 0. 0. 0. 0. 0. 0. 0. 0. 0. 0. 0. 0. 0.\n",
            "  0. 0. 0. 0. 0. 0. 0. 0. 0. 0. 0. 0. 0. 0. 0. 0. 0. 0. 0. 0. 0. 0. 0. 0.\n",
            "  0. 0. 1. 1. 1. 1. 1. 1. 1. 1. 1. 1. 1. 1. 1. 1. 1. 1. 1. 1. 1. 1. 1. 1.\n",
            "  1. 1. 1. 1. 1. 1. 1. 1. 1. 1. 1. 1. 1. 1. 1. 1. 1. 1. 1. 1. 1. 1. 1. 1.\n",
            "  1. 1. 1. 1. 0. 0. 0. 0. 0. 0. 0. 0. 0. 0. 0. 0. 0. 0. 0. 0. 0. 0. 0. 0.\n",
            "  0. 0. 0. 0. 0. 0. 0. 0. 0. 0. 0. 0. 0. 0. 0. 0. 0. 0. 0. 0. 0. 0. 0. 0.\n",
            "  0. 0. 0. 0. 0. 0.]\n",
            " [0. 0. 0. 0. 0. 0. 0. 0. 0. 0. 0. 0. 0. 0. 0. 0. 0. 0. 0. 0. 0. 0. 0. 0.\n",
            "  0. 0. 0. 0. 0. 0. 0. 0. 0. 0. 0. 0. 0. 0. 0. 0. 0. 0. 0. 0. 0. 0. 0. 0.\n",
            "  0. 0. 0. 0. 0. 0. 0. 0. 0. 0. 0. 0. 0. 0. 0. 0. 0. 0. 0. 0. 0. 0. 0. 0.\n",
            "  0. 0. 0. 0. 0. 0. 0. 0. 0. 0. 0. 0. 0. 0. 0. 0. 0. 0. 0. 0. 0. 0. 0. 0.\n",
            "  0. 0. 0. 0. 1. 1. 1. 1. 1. 1. 1. 1. 1. 1. 1. 1. 1. 1. 1. 1. 1. 1. 1. 1.\n",
            "  1. 1. 1. 1. 1. 1. 1. 1. 1. 1. 1. 1. 1. 1. 1. 1. 1. 1. 1. 1. 1. 1. 1. 1.\n",
            "  1. 1. 1. 1. 1. 1.]]\n"
          ]
        }
      ]
    },
    {
      "cell_type": "code",
      "source": [
        "from os import wait3\n",
        "def parameters(n_x, n_h1, n_h2, n_y):\n",
        "  # define the parameters of your nn initially using random lib.\n",
        "\n",
        "  w1 = np.random.randn(n_h1, n_x)\n",
        "  b1 = np.zeros((n_h1, 1))\n",
        "\n",
        "  w2 = np.random.randn(n_h2, n_h1)\n",
        "  b2 = np.zeros((n_h2, 1))\n",
        "\n",
        "  w3 = np.random.randn(n_y, n_h2)\n",
        "  b3 = np.zeros((n_y, 1))\n",
        "\n",
        "  parametersdict = {\n",
        "      'w1' : w1,\n",
        "      'w2' : w2,\n",
        "      'w3' : w3,\n",
        "      'b1' : b1,\n",
        "      'b2' : b2,\n",
        "      'b3' : b3\n",
        "  }\n",
        "\n",
        "  return parametersdict"
      ],
      "metadata": {
        "id": "usrSV41k8AUJ"
      },
      "execution_count": 609,
      "outputs": []
    },
    {
      "cell_type": "code",
      "source": [
        "#activation functions\n",
        "def sigmoid(z):\n",
        "    return 1/(1 + np.exp(-z))\n",
        "\n",
        "def relu(z):\n",
        "    return np.maximum(0, z)\n",
        "\n",
        "def softmax(z):\n",
        "    return np.exp(z)/np.sum(np.exp(z), axis=0)"
      ],
      "metadata": {
        "id": "mYYaNx3N8qJc"
      },
      "execution_count": 610,
      "outputs": []
    },
    {
      "cell_type": "code",
      "source": [
        "# derivative functions\n",
        "\n",
        "def derivative_relu(z):\n",
        "    return np.array(z > 0, dtype=np.float32)"
      ],
      "metadata": {
        "id": "_TewEjNkThtu"
      },
      "execution_count": 611,
      "outputs": []
    },
    {
      "cell_type": "code",
      "source": [
        "def forward(x, parametersdict):\n",
        "    # function for forward propagation\n",
        "\n",
        "    w1 = parametersdict['w1']\n",
        "    w2 = parametersdict['w2']\n",
        "    w3 = parametersdict['w3']\n",
        "\n",
        "    b1 = parametersdict['b1']\n",
        "    b2 = parametersdict['b2']\n",
        "    b3 = parametersdict['b3']\n",
        "\n",
        "    z1 = np.dot(w1, x) + b1\n",
        "    a1 = relu(z1)\n",
        "\n",
        "    z2 = np.dot(w2, a1) + b2\n",
        "    a2 = relu(z2)\n",
        "\n",
        "    z3 = np.dot(w3, a2) + b3\n",
        "    a3 = softmax(z3)\n",
        "\n",
        "    forwardpropagation = {\n",
        "        'z1' : z1,\n",
        "        'z2' : z2,\n",
        "        'z3' : z3,\n",
        "        'a1' : a1,\n",
        "        'a2' : a2,\n",
        "        'a3' : a3\n",
        "    }\n",
        "\n",
        "    return forwardpropagation\n"
      ],
      "metadata": {
        "id": "08ynlWSI8M_L"
      },
      "execution_count": 612,
      "outputs": []
    },
    {
      "cell_type": "code",
      "source": [
        "def cost_funct(a3, y):\n",
        "  # function for cost func if nece\n",
        "\n",
        "  cost = (-1/y.shape[1]) * np.sum(y * np.log(a3))\n",
        "\n",
        "  return cost"
      ],
      "metadata": {
        "id": "8Fm79jv18Otc"
      },
      "execution_count": 613,
      "outputs": []
    },
    {
      "cell_type": "code",
      "source": [
        "# use Gradient descent as of now as an optimizer"
      ],
      "metadata": {
        "id": "HctPDjITIeUq"
      },
      "execution_count": 614,
      "outputs": []
    },
    {
      "cell_type": "code",
      "source": [
        "def backward(x, y, parametersdict, forwardpropagation):\n",
        "  # function for backward propagation\n",
        "\n",
        "  w1 = parametersdict['w1']\n",
        "  w2 = parametersdict['w2']\n",
        "  w3 = parametersdict['w3']\n",
        "  b1 = parametersdict['b1']\n",
        "  b2 = parametersdict['b2']\n",
        "  b3 = parametersdict['b3']\n",
        "\n",
        "  a1 = forwardpropagation['a1']\n",
        "  a2 = forwardpropagation['a2']\n",
        "  a3 = forwardpropagation['a3']\n",
        "  z1 = forwardpropagation['z1']\n",
        "  z2 = forwardpropagation['z2']\n",
        "  z3 = forwardpropagation['z3']\n",
        "\n",
        "  m = y.shape[1]\n",
        "\n",
        "  dz3 = a3 - y\n",
        "  dw3 = (1/m) * np.dot(dz3, a2.T)\n",
        "  db3 = (1/m) * np.sum(dz3, axis=1, keepdims=True)\n",
        "\n",
        "  dz2 = np.dot(w3.T, dz3) * derivative_relu(z2)\n",
        "  dw2 = (1/m) * np.dot(dz2, a1.T)\n",
        "  db2 = (1/m) * np.sum(dz2, axis=1, keepdims=True)\n",
        "\n",
        "  dz1 = np.dot(w2.T, dz2) * derivative_relu(z1)\n",
        "  dw1 = (1/m) * np.dot(dz1, x.T)\n",
        "  db1 = (1/m) * np.sum(dz1, axis=1, keepdims=True)\n",
        "\n",
        "  gradients = {\n",
        "      'dw1' : dw1,\n",
        "      'dw2' : dw2,\n",
        "      'dw3' : dw3,\n",
        "      'db1' : db1,\n",
        "      'db2' : db2,\n",
        "      'db3' : db3,\n",
        "  }\n",
        "\n",
        "\n",
        "  return gradients"
      ],
      "metadata": {
        "id": "OVGy14Vt_kN_"
      },
      "execution_count": 615,
      "outputs": []
    },
    {
      "cell_type": "code",
      "source": [
        "def update_parameters(parametersdict, gradients, learning_rate):\n",
        "#FUNCTION TO UPDATE PARAMETERS USING GD\n",
        "\n",
        "  w1 = parametersdict['w1']\n",
        "  w2 = parametersdict['w2']\n",
        "  w3 = parametersdict['w3']\n",
        "  b1 = parametersdict['b1']\n",
        "  b2 = parametersdict['b2']\n",
        "  b3 = parametersdict['b3']\n",
        "  dw1 = gradients['dw1']\n",
        "  dw2 = gradients['dw2']\n",
        "  dw3 = gradients['dw3']\n",
        "  db1 = gradients['db1']\n",
        "  db2 = gradients['db2']\n",
        "  db3 = gradients['db3']\n",
        "\n",
        "  w1 = w1 - learning_rate * dw1\n",
        "  w2 = w2 - learning_rate * dw2\n",
        "  w3 = w3 - learning_rate * dw3\n",
        "  b1 = b1 - learning_rate * db1\n",
        "  b2 = b2 - learning_rate * db2\n",
        "  b3 = b3 - learning_rate * db3\n",
        "\n",
        "  newparametersdict = {\n",
        "      'w1' : w1,\n",
        "      'w2' : w2,\n",
        "      'w3' : w3,\n",
        "      'b1' : b1,\n",
        "      'b2' : b2,\n",
        "      'b3' : b3\n",
        "  }\n",
        "\n",
        "\n",
        "  return newparametersdict"
      ],
      "metadata": {
        "id": "YbBKpK55ITPg"
      },
      "execution_count": 616,
      "outputs": []
    },
    {
      "cell_type": "code",
      "source": [
        "def model(x, y, n_h1, n_h2, learning_rate, epochs):\n",
        "  #function to train and build the whole model\n",
        "\n",
        "  n_x = x.shape[0]\n",
        "  n_y = y.shape[0]\n",
        "  parametersdict = parameters(n_x, n_h1, n_h2, n_y)\n",
        "\n",
        "  for i in range(epochs):\n",
        "\n",
        "    forwardprop = forward(x, parametersdict)\n",
        "    cost = cost_funct(forwardprop['a3'], y)\n",
        "    gradients = backward(x, y, parametersdict, forwardprop)\n",
        "    parametersdict = update_parameters(parametersdict, gradients, learning_rate)\n",
        "    if i%200 == 0:\n",
        "      print(f\"epoch {i}: cost = {cost}\")\n",
        "    if i == epochs-1:\n",
        "      print(f\"final cost = {cost}\")\n",
        "  predictions = np.argmax(forwardprop['a3'].T.reshape((150, 3)), axis=1)\n",
        "\n",
        "  return parametersdict, predictions"
      ],
      "metadata": {
        "id": "x7DOBhxNIxST"
      },
      "execution_count": 617,
      "outputs": []
    },
    {
      "cell_type": "code",
      "source": [
        "#write down the predictions and the f1 score finally\n",
        "\n",
        "Parameters, Predictions = model(X, y, 20, 10, 0.001, 2000)\n",
        "\n",
        "#print(y)\n",
        "#print(Predictions)\n",
        "\n",
        "y_true = np.argmax(y.T, axis=1)\n",
        "\n",
        "f1score = f1_score(y_true, Predictions, average=\"weighted\")\n",
        "print(f\"predictions = {Predictions}\")\n",
        "print(f\"f1 score = {f1score}\")"
      ],
      "metadata": {
        "id": "pH7yhg6LI-R4",
        "colab": {
          "base_uri": "https://localhost:8080/"
        },
        "outputId": "cb7c0b8d-8c33-469c-a374-dda3cc5fae35"
      },
      "execution_count": 618,
      "outputs": [
        {
          "output_type": "stream",
          "name": "stdout",
          "text": [
            "epoch 0: cost = 78.33724724478957\n",
            "epoch 200: cost = 0.153062937087509\n",
            "epoch 400: cost = 0.12653527644454443\n",
            "epoch 600: cost = 0.11343271291042\n",
            "epoch 800: cost = 0.10507563612809961\n",
            "epoch 1000: cost = 0.09911948502617902\n",
            "epoch 1200: cost = 0.09458537190303679\n",
            "epoch 1400: cost = 0.0909891992410335\n",
            "epoch 1600: cost = 0.08804137650545052\n",
            "epoch 1800: cost = 0.08558872759144528\n",
            "final cost = 0.08350945360685155\n",
            "predictions = [0 0 0 0 0 0 0 0 0 0 0 0 0 0 0 0 0 0 0 0 0 0 0 0 0 0 0 0 0 0 0 0 0 0 0 0 0\n",
            " 0 0 0 0 0 0 0 0 0 0 0 0 0 1 1 1 1 1 1 1 1 1 1 1 1 1 1 1 1 1 1 2 1 1 1 2 1\n",
            " 1 1 1 1 1 1 1 1 1 2 1 1 1 1 1 1 1 1 1 1 1 1 1 1 1 1 2 2 2 2 2 2 2 2 2 2 2\n",
            " 2 2 2 2 2 2 2 2 2 2 2 2 2 2 2 2 2 2 2 2 2 2 2 2 2 2 2 2 2 2 2 2 2 2 2 2 2\n",
            " 2 2]\n",
            "f1 score = 0.9799819837854068\n"
          ]
        }
      ]
    }
  ]
}