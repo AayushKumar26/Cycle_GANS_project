{
  "nbformat": 4,
  "nbformat_minor": 0,
  "metadata": {
    "colab": {
      "provenance": []
    },
    "kernelspec": {
      "name": "python3",
      "display_name": "Python 3"
    },
    "language_info": {
      "name": "python"
    }
  },
  "cells": [
    {
      "cell_type": "markdown",
      "source": [
        "# Part B (Neural Network from Scratch)"
      ],
      "metadata": {
        "id": "N8VDe2CfGe1C"
      }
    },
    {
      "cell_type": "markdown",
      "source": [
        "You need to implement a neural network from scratch .This is a multiclass classification problem. No. of hidden layers depends on you but should be atleast 2.Remember to use activation function. You can add any other function of your choice."
      ],
      "metadata": {
        "id": "XWcVTpevGpfs"
      }
    },
    {
      "cell_type": "code",
      "source": [
        "import numpy as np\n",
        "import random\n",
        "import matplotlib.pyplot as plt\n",
        "from sklearn.model_selection import train_test_split\n",
        "from sklearn.preprocessing import OneHotEncoder\n",
        "from sklearn.metrics import f1_score"
      ],
      "metadata": {
        "id": "G79JnP4t4Eqw"
      },
      "execution_count": 193,
      "outputs": []
    },
    {
      "cell_type": "code",
      "source": [
        "from sklearn import datasets\n",
        "iris = datasets.load_iris()\n",
        "X = iris.data\n",
        "y = iris.target\n",
        "# X_train, X_test, y_train, y_test = train_test_split(X, y_onehot, test_size=0.2, random_state=42)"
      ],
      "metadata": {
        "id": "KmTgnciWFC0O"
      },
      "execution_count": 194,
      "outputs": []
    },
    {
      "cell_type": "code",
      "source": [
        "print(X.shape,y.shape)"
      ],
      "metadata": {
        "colab": {
          "base_uri": "https://localhost:8080/"
        },
        "id": "GVPMgOfMFC3o",
        "outputId": "c4e2f4ba-0adf-4332-9e36-77cc9c3031dd"
      },
      "execution_count": 195,
      "outputs": [
        {
          "output_type": "stream",
          "name": "stdout",
          "text": [
            "(150, 4) (150,)\n"
          ]
        }
      ]
    },
    {
      "cell_type": "code",
      "source": [
        "def initialize_parameters(layer_dims):\n",
        "  # define the parameters of your nn initially using random lib.\n",
        "    np.random.seed(1)\n",
        "    parameters = {}\n",
        "    L = len(layer_dims)\n",
        "\n",
        "    for l in range(1, L):\n",
        "        parameters['W' + str(l)] = np.random.randn(layer_dims[l], layer_dims[l-1]) * 0.01\n",
        "        parameters['b' + str(l)] = np.zeros((layer_dims[l], 1))\n",
        "\n",
        "    return parameters\n",
        ""
      ],
      "metadata": {
        "id": "usrSV41k8AUJ"
      },
      "execution_count": 196,
      "outputs": []
    },
    {
      "cell_type": "code",
      "source": [
        "def sigmoid(Z):\n",
        "    return 1 / (1 + np.exp(-Z))\n",
        "\n",
        "def relu(Z):\n",
        "    return np.maximum(0, Z)\n",
        "\n",
        "def softmax(Z):\n",
        "    expZ = np.exp(Z - np.max(Z, axis=0, keepdims=True))\n",
        "    return expZ / expZ.sum(axis=0, keepdims=True)"
      ],
      "metadata": {
        "id": "mYYaNx3N8qJc"
      },
      "execution_count": 197,
      "outputs": []
    },
    {
      "cell_type": "markdown",
      "source": [],
      "metadata": {
        "id": "ak9vVJ0fJRsS"
      }
    },
    {
      "cell_type": "code",
      "source": [
        "def forward_propagation(X, parameters):\n",
        "    caches = {}\n",
        "    A = X\n",
        "    L = len(parameters) // 2\n",
        "\n",
        "    for l in range(1, L):\n",
        "        A_prev = A\n",
        "        Z = np.dot(parameters['W' + str(l)], A_prev) + parameters['b' + str(l)]\n",
        "        A = relu(Z)\n",
        "        caches['A' + str(l)] = A\n",
        "        caches['Z' + str(l)] = Z\n",
        "\n",
        "\n",
        "    ZL = np.dot(parameters['W' + str(L)], A) +  parameters['b' + str(L)]\n",
        "    AL = softmax(ZL)\n",
        "    caches['A' + str(L)] = AL\n",
        "    caches['Z' + str(L)] = ZL\n",
        "\n",
        "    return AL, caches"
      ],
      "metadata": {
        "id": "08ynlWSI8M_L"
      },
      "execution_count": 198,
      "outputs": []
    },
    {
      "cell_type": "code",
      "source": [
        "def compute_cost(AL, Y):\n",
        "    m = Y.shape[1]\n",
        "    cost = -np.sum(Y * np.log(AL + 1e-8)) / m\n",
        "    cost = np.squeeze(cost)\n",
        "    return cost"
      ],
      "metadata": {
        "id": "8Fm79jv18Otc"
      },
      "execution_count": 199,
      "outputs": []
    },
    {
      "cell_type": "code",
      "source": [
        "# use Gradient descent as of now as an optimizer\n"
      ],
      "metadata": {
        "id": "HctPDjITIeUq"
      },
      "execution_count": 200,
      "outputs": []
    },
    {
      "cell_type": "code",
      "source": [
        "def backward_propagation(X, Y, parameters, caches):\n",
        "    grads = {}\n",
        "    L = len(parameters) // 2\n",
        "    m = X.shape[1]\n",
        "    Y = Y.reshape(caches['A'+str(L)].shape)\n",
        "\n",
        "\n",
        "    dZL = caches['A' + str(L)] - Y\n",
        "    grads['dW' + str(L)] = np.dot(dZL, caches['A' + str(L-1)].T) / m\n",
        "    grads['db' + str(L)] = np.sum(dZL, axis=1, keepdims=True) / m\n",
        "\n",
        "    for l in reversed(range(1, L)):\n",
        "        dA = np.dot(parameters['W' + str(l+1)].T, dZL)\n",
        "        dZ = np.multiply(dA, np.int64(caches['A' + str(l)] > 0))\n",
        "        grads['dW' + str(l)] = np.dot(dZ, caches['A' + str(l-1)].T) / m if l > 1 else np.dot(dZ,X.T)/m\n",
        "        grads['db' + str(l)] = np.sum(dZ, axis=1, keepdims=True) / m\n",
        "\n",
        "        dZL=dZ\n",
        "\n",
        "    return grads"
      ],
      "metadata": {
        "id": "OVGy14Vt_kN_"
      },
      "execution_count": 201,
      "outputs": []
    },
    {
      "cell_type": "code",
      "source": [
        "def update_parameters(parameters, grads, learning_rate):\n",
        "    L = len(parameters) // 2\n",
        "\n",
        "    for l in range(1, L+1):\n",
        "        parameters['W' + str(l)] -= learning_rate * grads['dW' + str(l)]\n",
        "        parameters['b' + str(l)] -= learning_rate * grads['db' + str(l)]\n",
        "\n",
        "    return parameters"
      ],
      "metadata": {
        "id": "YbBKpK55ITPg"
      },
      "execution_count": 202,
      "outputs": []
    },
    {
      "cell_type": "code",
      "source": [
        "def model(X, Y, layer_dims, learning_rate=0.01, num_iterations=1000, print_cost =False):\n",
        "    np.random.seed(1)\n",
        "    cost_history = []\n",
        "    parameters = initialize_parameters(layer_dims)\n",
        "\n",
        "    for i in range(0,num_iterations):\n",
        "        AL, caches = forward_propagation(X, parameters)\n",
        "        cost = compute_cost(AL, Y)\n",
        "        grads = backward_propagation(X, Y, parameters, caches)\n",
        "        parameters = update_parameters(parameters, grads, learning_rate)\n",
        "\n",
        "        if print_cost and i % 100 == 0:\n",
        "            print(\"Cost after iteration %i : %f\" %(i , cost))\n",
        "        if i%100==0:\n",
        "            cost_history.append(cost)\n",
        "\n",
        "    plt.plot(np.squeeze(cost_history))\n",
        "    plt.ylabel('Cost')\n",
        "    plt.xlabel('Iterations (per tens)')\n",
        "    plt.title('Cost reduction over time')\n",
        "    plt.show()\n",
        "\n",
        "    return parameters"
      ],
      "metadata": {
        "id": "x7DOBhxNIxST"
      },
      "execution_count": 211,
      "outputs": []
    },
    {
      "cell_type": "code",
      "source": [
        "def predict(X, parameters):\n",
        "    AL, cac_hes = forward_propagation(X, parameters)\n",
        "    predictions = np.argmax(AL, axis=0)\n",
        "    return predictions"
      ],
      "metadata": {
        "id": "LVk8YcZjfWrY"
      },
      "execution_count": 204,
      "outputs": []
    },
    {
      "cell_type": "code",
      "source": [
        "def compute_f1_score(y_true,y_pred):\n",
        "  from sklearn.metrics import f1_score\n",
        "  return f1_score(y_true,y_pred,average='weighted')"
      ],
      "metadata": {
        "id": "1-tAf5jJnXoy"
      },
      "execution_count": 205,
      "outputs": []
    },
    {
      "cell_type": "code",
      "source": [
        "layer_dims = [4, 128, 64, 3]\n",
        "y=y.astype(int)\n",
        "Y=np.eye(3)[y.reshape(-1)].T\n",
        "parameters = model(X.T, Y, layer_dims, learning_rate=0.01, num_iterations=2000,print_cost=True)\n",
        "\n",
        "predictions=predict(X.T,parameters)\n",
        "f1=compute_f1_score(y,predictions)\n",
        "\n",
        "print(\"F1 score:\",f1)"
      ],
      "metadata": {
        "id": "pH7yhg6LI-R4",
        "colab": {
          "base_uri": "https://localhost:8080/",
          "height": 836
        },
        "outputId": "44d90665-4a80-4756-ed54-752e1cda7d30"
      },
      "execution_count": 213,
      "outputs": [
        {
          "output_type": "stream",
          "name": "stdout",
          "text": [
            "Cost after iteration 0 : 1.098629\n",
            "Cost after iteration 100 : 1.098483\n",
            "Cost after iteration 200 : 1.098358\n",
            "Cost after iteration 300 : 1.098208\n",
            "Cost after iteration 400 : 1.098033\n",
            "Cost after iteration 500 : 1.097801\n",
            "Cost after iteration 600 : 1.097472\n",
            "Cost after iteration 700 : 1.096981\n",
            "Cost after iteration 800 : 1.096212\n",
            "Cost after iteration 900 : 1.094944\n",
            "Cost after iteration 1000 : 1.092702\n",
            "Cost after iteration 1100 : 1.088328\n",
            "Cost after iteration 1200 : 1.078861\n",
            "Cost after iteration 1300 : 1.055547\n",
            "Cost after iteration 1400 : 0.994610\n",
            "Cost after iteration 1500 : 0.869428\n",
            "Cost after iteration 1600 : 0.736286\n",
            "Cost after iteration 1700 : 0.607303\n",
            "Cost after iteration 1800 : 0.496452\n",
            "Cost after iteration 1900 : 0.424864\n"
          ]
        },
        {
          "output_type": "display_data",
          "data": {
            "text/plain": [
              "<Figure size 640x480 with 1 Axes>"
            ],
            "image/png": "[encoded data removed]"
          },
          "metadata": {}
        },
        {
          "output_type": "stream",
          "name": "stdout",
          "text": [
            "F1 score: 0.9463231347289318\n"
          ]
        }
      ]
    },
    {
      "cell_type": "code",
      "source": [],
      "metadata": {
        "id": "5VosMsSXghoK"
      },
      "execution_count": 206,
      "outputs": []
    }
  ]
}