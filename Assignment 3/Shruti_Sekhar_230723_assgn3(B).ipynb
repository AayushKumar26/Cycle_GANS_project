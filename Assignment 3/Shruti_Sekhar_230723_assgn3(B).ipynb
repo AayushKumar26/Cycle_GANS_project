{
  "nbformat": 4,
  "nbformat_minor": 0,
  "metadata": {
    "colab": {
      "provenance": []
    },
    "kernelspec": {
      "name": "python3",
      "display_name": "Python 3"
    },
    "language_info": {
      "name": "python"
    }
  },
  "cells": [
    {
      "cell_type": "markdown",
      "source": [
        "# Part B (Neural Network from Scratch)"
      ],
      "metadata": {
        "id": "N8VDe2CfGe1C"
      }
    },
    {
      "cell_type": "markdown",
      "source": [
        "You need to implement a neural network from scratch .This is a multiclass classification problem. No. of hidden layers depends on you but should be atleast 2.Remember to use activation function. You can add any other function of your choice."
      ],
      "metadata": {
        "id": "XWcVTpevGpfs"
      }
    },
    {
      "cell_type": "code",
      "source": [
        "import numpy as np\n",
        "import random\n",
        "import matplotlib.pyplot as plt"
      ],
      "metadata": {
        "id": "G79JnP4t4Eqw"
      },
      "execution_count": 551,
      "outputs": []
    },
    {
      "cell_type": "code",
      "source": [
        "from sklearn import datasets\n",
        "iris = datasets.load_iris()\n",
        "X = iris.data\n",
        "y = iris.target"
      ],
      "metadata": {
        "id": "KmTgnciWFC0O"
      },
      "execution_count": 552,
      "outputs": []
    },
    {
      "cell_type": "code",
      "source": [
        "y=np.expand_dims(y,-1)\n",
        "print(X.shape,y.shape)"
      ],
      "metadata": {
        "colab": {
          "base_uri": "https://localhost:8080/"
        },
        "id": "GVPMgOfMFC3o",
        "outputId": "a57ded98-4877-414f-914b-d4ad9a4fbab8"
      },
      "execution_count": 553,
      "outputs": [
        {
          "output_type": "stream",
          "name": "stdout",
          "text": [
            "(150, 4) (150, 1)\n"
          ]
        }
      ]
    },
    {
      "cell_type": "code",
      "source": [
        "def parameters(n0,n1,n2,n3):\n",
        "  # define the parameters of your nn initially using random lib.\n",
        "\n",
        "  #n0 is the number of features,n1 and n2 are no. of neurons in the hidden layers and n3 is the number of neurons in the output layer\n",
        "  w1=np.random.rand(n1,n0)*0.5\n",
        "  b1=np.zeros((n1,1))\n",
        "\n",
        "  w2=np.random.randn(n2,n1)*0.5\n",
        "  b2=np.zeros((n2,1))\n",
        "\n",
        "  w3=np.random.rand(n3,n2)*0.5\n",
        "  b3=np.zeros((n3,1))\n",
        "\n",
        "  parameters={'w1':w1,\"b1\":b1,'w2':w2,\"b2\":b2,'w3':w3,\"b3\":b3}\n",
        "\n",
        "\n",
        "  return parameters"
      ],
      "metadata": {
        "id": "usrSV41k8AUJ"
      },
      "execution_count": 554,
      "outputs": []
    },
    {
      "cell_type": "code",
      "source": [
        "#activation functions\n",
        "def sigmoid(z):\n",
        "    return 1/(1+np.exp(-z))\n",
        "\n",
        "def relu(z):\n",
        "    return np.maximum(0,z)\n",
        "\n",
        "def softmax(Z):\n",
        "    expZ = np.exp(Z - np.max(Z, axis=0, keepdims=True))\n",
        "    return expZ / np.sum(expZ, axis=0, keepdims=True)\n"
      ],
      "metadata": {
        "id": "mYYaNx3N8qJc"
      },
      "execution_count": 555,
      "outputs": []
    },
    {
      "cell_type": "code",
      "source": [
        "def forward(x,parameters):\n",
        "    # function for forward propagation\n",
        "\n",
        "    w1=parameters['w1']\n",
        "    b1=parameters['b1']\n",
        "    w2=parameters['w2']\n",
        "    b2=parameters['b2']\n",
        "    w3=parameters['w3']\n",
        "    b3=parameters['b3']\n",
        "\n",
        "    z1=np.dot(w1,x)+b1\n",
        "    a1=relu(z1)\n",
        "\n",
        "    z2=np.dot(w2,a1)+b2\n",
        "    a2=relu(z2)\n",
        "\n",
        "    z3=np.dot(w3,a2)+b3\n",
        "    a3=softmax(z3)\n",
        "\n",
        "    forward_parameters={'z1':z1,'a1':a1,'z2':z2,'a2':a2,'z3':z3,'a3':a3}\n",
        "\n",
        "    return forward_parameters\n",
        "\n"
      ],
      "metadata": {
        "id": "08ynlWSI8M_L"
      },
      "execution_count": 556,
      "outputs": []
    },
    {
      "cell_type": "code",
      "source": [
        "def cross_entropy_loss(y_pred, y_true):\n",
        "    m = y_true.shape[1]\n",
        "    return -np.sum(y_true * np.log(y_pred)) / m\n"
      ],
      "metadata": {
        "id": "WDkFQ_NEHxqo"
      },
      "execution_count": 557,
      "outputs": []
    },
    {
      "cell_type": "code",
      "source": [
        "# use Gradient descent as of now as an optimizer"
      ],
      "metadata": {
        "id": "HctPDjITIeUq"
      },
      "execution_count": 558,
      "outputs": []
    },
    {
      "cell_type": "code",
      "source": [
        "def backward(x,y,parameters,forward_parameters):\n",
        "  # function for backward propagation\n",
        "    w1=parameters['w1']\n",
        "    b1=parameters['b1']\n",
        "    w2=parameters['w2']\n",
        "    b2=parameters['b2']\n",
        "    w3=parameters['w3']\n",
        "    b3=parameters['b3']\n",
        "\n",
        "    z1=forward_parameters['z1']\n",
        "    a1=forward_parameters['a1']\n",
        "    z2=forward_parameters['z2']\n",
        "    a2=forward_parameters['a2']\n",
        "    z3=forward_parameters['z3']\n",
        "    a3=forward_parameters['a3']\n",
        "\n",
        "    m=x.shape[1]\n",
        "\n",
        "    dz3=a3-y\n",
        "    dw3=np.dot(dz3,a2.T)/m\n",
        "    db3=np.sum(dz3,axis=1,keepdims=True)*(1/m)\n",
        "\n",
        "    def der_relu(x):\n",
        "      return np.array(x>0).astype(float)\n",
        "\n",
        "    dz2=np.dot(w3.T,dz3)*(der_relu(z2))\n",
        "    dw2=np.dot(dz2,a1.T)/m\n",
        "    db2=np.sum(dz2,axis=1,keepdims=True)*(1/m)\n",
        "\n",
        "    dz1=np.dot(w2.T,dz2)*(der_relu(z1))\n",
        "    dw1=np.dot(dz1,x.T)/m\n",
        "    db1=np.sum(dz1,axis=1,keepdims=True)*(1/m)\n",
        "\n",
        "    gradients={'dw1':dw1,'db1':db1,'dw2':dw2,'db2':db2,'dw3':dw3,'db3':db3}\n",
        "\n",
        "\n",
        "    return gradients"
      ],
      "metadata": {
        "id": "OVGy14Vt_kN_"
      },
      "execution_count": 559,
      "outputs": []
    },
    {
      "cell_type": "code",
      "source": [
        "def update_parameters(parameters,gradients,lr):\n",
        "    #FUNCTION TO UPDATE PARAMETERS USING GD\n",
        "    w1=parameters['w1']\n",
        "    b1=parameters['b1']\n",
        "    w2=parameters['w2']\n",
        "    b2=parameters['b2']\n",
        "    w3=parameters['w3']\n",
        "    b3=parameters['b3']\n",
        "\n",
        "    dw1=gradients['dw1']\n",
        "    db1=gradients['db1']\n",
        "    dw2=gradients['dw2']\n",
        "    db2=gradients['db2']\n",
        "    dw3=gradients['dw3']\n",
        "    db3=gradients['db3']\n",
        "\n",
        "    w1=w1-lr*dw1\n",
        "    b1=b1-lr*db1\n",
        "    w2=w2-lr*dw2\n",
        "    b2=b2-lr*db2\n",
        "    w3=w3-lr*dw3\n",
        "    b3=b3-lr*db3\n",
        "\n",
        "    parameters={'w1':w1,\"b1\":b1,'w2':w2,\"b2\":b2,'w3':w3,\"b3\":b3}\n",
        "\n",
        "    return parameters"
      ],
      "metadata": {
        "id": "YbBKpK55ITPg"
      },
      "execution_count": 560,
      "outputs": []
    },
    {
      "cell_type": "code",
      "source": [
        "def model(x,y,n1,n2,lr,iterations):\n",
        "  #function to train and build the whole model\n",
        "\n",
        "  n0=X.shape[0]#no.of features\n",
        "  n3=y.shape[0] #output softmax layer- classification in 3 classes(0,1,2)\n",
        "  #n1 and n2 are hidden layer units\n",
        "\n",
        "  params=parameters(n0,n1,n2,n3)\n",
        "  loss_list=[]\n",
        "\n",
        "  for i in range(iterations):\n",
        "\n",
        "    forward_param=forward(x,params)\n",
        "    a3=forward_param['a3']\n",
        "    loss=cross_entropy_loss(a3,y)\n",
        "    gradients=backward(x,y,params,forward_param)\n",
        "    params=update_parameters(params,gradients,lr)\n",
        "    loss_list.append(loss)\n",
        "\n",
        "    if (i%(iterations//10)==0):\n",
        "      print(f'loss after {i} iterations is {loss}')\n",
        "\n",
        "  return params,loss_list\n",
        "\n",
        "\n"
      ],
      "metadata": {
        "id": "x7DOBhxNIxST"
      },
      "execution_count": 561,
      "outputs": []
    },
    {
      "cell_type": "code",
      "source": [
        "X=X.T\n",
        "y=y.T\n",
        "print(X.shape,y.shape)"
      ],
      "metadata": {
        "colab": {
          "base_uri": "https://localhost:8080/"
        },
        "id": "fDJQQzPLDNgy",
        "outputId": "6d590111-7c16-4dec-b4e4-b9da464c2aa8"
      },
      "execution_count": 562,
      "outputs": [
        {
          "output_type": "stream",
          "name": "stdout",
          "text": [
            "(4, 150) (1, 150)\n"
          ]
        }
      ]
    },
    {
      "cell_type": "code",
      "source": [
        "#one hot encoding\n",
        "num_classes = np.max(y) + 1\n",
        "num_examples = y.shape[1]\n",
        "y_one_hot = np.zeros((num_examples,num_classes))\n",
        "for i in range(num_examples):\n",
        "    class_index = y[0, i]\n",
        "    y_one_hot[i,class_index] = 1\n",
        "\n"
      ],
      "metadata": {
        "id": "le0QMtHaFuPp"
      },
      "execution_count": 563,
      "outputs": []
    },
    {
      "cell_type": "code",
      "source": [
        "print(X.shape, y_one_hot.shape)"
      ],
      "metadata": {
        "colab": {
          "base_uri": "https://localhost:8080/"
        },
        "id": "eS6TIcYfBZ4t",
        "outputId": "75681227-0e2a-4a10-a7b9-c947665b1c5f"
      },
      "execution_count": 564,
      "outputs": [
        {
          "output_type": "stream",
          "name": "stdout",
          "text": [
            "(4, 150) (150, 3)\n"
          ]
        }
      ]
    },
    {
      "cell_type": "code",
      "source": [
        "#write down the predictions and the f1 score finally\n",
        "\n",
        "n1=32\n",
        "n2=64\n",
        "lr=0.01\n",
        "iterations=1500\n",
        "\n",
        "params,loss_list=model(X,y_one_hot.T,n1,n2,lr,iterations)\n"
      ],
      "metadata": {
        "id": "pH7yhg6LI-R4",
        "colab": {
          "base_uri": "https://localhost:8080/"
        },
        "outputId": "3c3e1a85-017f-41ca-f785-8bc63b669fdf"
      },
      "execution_count": 565,
      "outputs": [
        {
          "output_type": "stream",
          "name": "stdout",
          "text": [
            "loss after 0 iterations is 2.5380062253428033\n",
            "loss after 150 iterations is 0.3657184014635092\n",
            "loss after 300 iterations is 0.18688835067070153\n",
            "loss after 450 iterations is 0.11967069598964171\n",
            "loss after 600 iterations is 0.09796240138174912\n",
            "loss after 750 iterations is 0.08682732349436093\n",
            "loss after 900 iterations is 0.07997594943390376\n",
            "loss after 1050 iterations is 0.07538561779111497\n",
            "loss after 1200 iterations is 0.0720778537670449\n",
            "loss after 1350 iterations is 0.06957704903574663\n"
          ]
        }
      ]
    },
    {
      "cell_type": "code",
      "source": [
        "\n",
        "plt.plot(loss_list)\n",
        "plt.xlabel('Iterations')\n",
        "plt.ylabel('Loss')\n",
        "plt.title('Loss over Iterations')\n",
        "plt.show()"
      ],
      "metadata": {
        "colab": {
          "base_uri": "https://localhost:8080/",
          "height": 472
        },
        "id": "n1cZDYzPBtcg",
        "outputId": "e3464274-092f-4b56-f903-87b572af61cf"
      },
      "execution_count": 566,
      "outputs": [
        {
          "output_type": "display_data",
          "data": {
            "text/plain": [
              "<Figure size 640x480 with 1 Axes>"
            ],
            "image/png": "[encoded data removed]"
          },
          "metadata": {}
        }
      ]
    },
    {
      "cell_type": "code",
      "source": [
        "def predict(X, parameters):\n",
        "    pred= forward(X, parameters)\n",
        "\n",
        "    predictions = np.argmax(pred['a3'], axis=0)\n",
        "    return predictions\n",
        "\n",
        "predictions=predict(X,params)\n",
        "\n",
        "\n",
        "print(predictions)\n"
      ],
      "metadata": {
        "colab": {
          "base_uri": "https://localhost:8080/"
        },
        "id": "ZtfbaijkeFAE",
        "outputId": "065c9769-b4c1-4f17-9698-20627d271ef7"
      },
      "execution_count": 567,
      "outputs": [
        {
          "output_type": "stream",
          "name": "stdout",
          "text": [
            "[0 0 0 0 0 0 0 0 0 0 0 0 0 0 0 0 0 0 0 0 0 0 0 0 0 0 0 0 0 0 0 0 0 0 0 0 0\n",
            " 0 0 0 0 0 0 0 0 0 0 0 0 0 1 1 1 1 1 1 1 1 1 1 1 1 1 1 1 1 1 1 1 1 2 1 2 1\n",
            " 1 1 1 1 1 1 1 1 1 2 1 1 1 1 1 1 1 1 1 1 1 1 1 1 1 1 2 2 2 2 2 2 2 2 2 2 2\n",
            " 2 2 2 2 2 2 2 2 2 2 2 2 2 2 2 2 2 2 2 2 2 2 2 2 2 2 2 2 2 2 2 2 2 2 2 2 2\n",
            " 2 2]\n"
          ]
        }
      ]
    },
    {
      "cell_type": "code",
      "source": [
        "print(np.squeeze(y))"
      ],
      "metadata": {
        "colab": {
          "base_uri": "https://localhost:8080/"
        },
        "id": "XGNs1cfmhjXC",
        "outputId": "b2be2ad5-2a4f-41af-c7b3-0081a3c06eff"
      },
      "execution_count": 568,
      "outputs": [
        {
          "output_type": "stream",
          "name": "stdout",
          "text": [
            "[0 0 0 0 0 0 0 0 0 0 0 0 0 0 0 0 0 0 0 0 0 0 0 0 0 0 0 0 0 0 0 0 0 0 0 0 0\n",
            " 0 0 0 0 0 0 0 0 0 0 0 0 0 1 1 1 1 1 1 1 1 1 1 1 1 1 1 1 1 1 1 1 1 1 1 1 1\n",
            " 1 1 1 1 1 1 1 1 1 1 1 1 1 1 1 1 1 1 1 1 1 1 1 1 1 1 2 2 2 2 2 2 2 2 2 2 2\n",
            " 2 2 2 2 2 2 2 2 2 2 2 2 2 2 2 2 2 2 2 2 2 2 2 2 2 2 2 2 2 2 2 2 2 2 2 2 2\n",
            " 2 2]\n"
          ]
        }
      ]
    },
    {
      "cell_type": "code",
      "source": [
        "from sklearn.metrics import f1_score\n",
        "f1 = f1_score(np.squeeze(y), predictions, average = 'macro')\n",
        "print(f\"F1 Score: {f1}\")"
      ],
      "metadata": {
        "colab": {
          "base_uri": "https://localhost:8080/"
        },
        "id": "sep8HFkoJrfJ",
        "outputId": "39c39921-2aee-475b-e610-84fa3257831b"
      },
      "execution_count": 569,
      "outputs": [
        {
          "output_type": "stream",
          "name": "stdout",
          "text": [
            "F1 Score: 0.9799819837854069\n"
          ]
        }
      ]
    }
  ]
}