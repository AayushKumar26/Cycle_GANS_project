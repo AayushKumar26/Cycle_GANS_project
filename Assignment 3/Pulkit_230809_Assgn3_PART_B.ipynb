{
  "nbformat": 4,
  "nbformat_minor": 0,
  "metadata": {
    "colab": {
      "provenance": []
    },
    "kernelspec": {
      "name": "python3",
      "display_name": "Python 3"
    },
    "language_info": {
      "name": "python"
    }
  },
  "cells": [
    {
      "cell_type": "markdown",
      "source": [
        "# Part B (Neural Network from Scratch)"
      ],
      "metadata": {
        "id": "N8VDe2CfGe1C"
      }
    },
    {
      "cell_type": "markdown",
      "source": [
        "You need to implement a neural network from scratch .This is a multiclass classification problem. No. of hidden layers depends on you but should be atleast 2.Remember to use activation function. You can add any other function of your choice."
      ],
      "metadata": {
        "id": "XWcVTpevGpfs"
      }
    },
    {
      "cell_type": "code",
      "source": [
        "import numpy as np\n",
        "import random\n",
        "import matplotlib.pyplot as plt"
      ],
      "metadata": {
        "id": "G79JnP4t4Eqw"
      },
      "execution_count": 129,
      "outputs": []
    },
    {
      "cell_type": "code",
      "source": [
        "from sklearn import datasets\n",
        "from sklearn.model_selection import train_test_split\n",
        "from sklearn.metrics import f1_score\n",
        "iris = datasets.load_iris()\n",
        "X = iris.data\n",
        "y = iris.target"
      ],
      "metadata": {
        "id": "KmTgnciWFC0O"
      },
      "execution_count": 130,
      "outputs": []
    },
    {
      "cell_type": "code",
      "source": [
        "print(X.shape,y.shape)"
      ],
      "metadata": {
        "colab": {
          "base_uri": "https://localhost:8080/"
        },
        "id": "GVPMgOfMFC3o",
        "outputId": "6ed507f8-16e9-463f-c5dc-26579ae64a40"
      },
      "execution_count": 131,
      "outputs": [
        {
          "output_type": "stream",
          "name": "stdout",
          "text": [
            "(150, 4) (150,)\n"
          ]
        }
      ]
    },
    {
      "cell_type": "code",
      "source": [
        "X = X / np.max(X, axis=0)\n",
        "\n",
        "X_train, X_test, Y_train, Y_test = train_test_split(X, y, test_size=0.2, random_state=42)\n",
        "\n",
        "X_train = X_train.T\n",
        "X_test = X_test.T\n",
        "Y_train = Y_train.T\n",
        "Y_test = Y_test.T"
      ],
      "metadata": {
        "id": "7IXtB8reyNDu"
      },
      "execution_count": 132,
      "outputs": []
    },
    {
      "cell_type": "code",
      "source": [
        "def parameters():\n",
        "  # define the parameters of your nn initially using random lib.\n",
        "    W1 = np.random.rand(10, X_train.shape[0]) - 0.5\n",
        "    b1 = np.random.rand(10, 1) - 0.5\n",
        "    W2 = np.random.rand(3, 10) - 0.5\n",
        "    b2 = np.random.rand(3, 1) - 0.5\n",
        "    return W1, b1, W2, b2"
      ],
      "metadata": {
        "id": "usrSV41k8AUJ"
      },
      "execution_count": 133,
      "outputs": []
    },
    {
      "cell_type": "code",
      "source": [
        "#activation functions\n",
        "def sigmoid(Z):\n",
        "    return 1 / (1 + np.exp(-Z))\n",
        "\n",
        "def relu(Z):\n",
        "    return np.maximum(Z, 0)\n",
        "\n",
        "def softmax(Z):\n",
        "    expZ = np.exp(Z - np.max(Z, axis=0, keepdims=True))\n",
        "    return expZ / np.sum(expZ, axis=0, keepdims=True)"
      ],
      "metadata": {
        "id": "mYYaNx3N8qJc"
      },
      "execution_count": 134,
      "outputs": []
    },
    {
      "cell_type": "code",
      "source": [
        "def forward(W1, b1, W2, b2, X):\n",
        "    # function for forward propagation\n",
        "    Z1 = W1.dot(X) + b1\n",
        "    A1 = relu(Z1)\n",
        "    Z2 = W2.dot(A1) + b2\n",
        "    A2 = softmax(Z2)\n",
        "    return Z1, A1, Z2, A2"
      ],
      "metadata": {
        "id": "08ynlWSI8M_L"
      },
      "execution_count": 135,
      "outputs": []
    },
    {
      "cell_type": "code",
      "source": [
        "def ReLU_deriv(Z):\n",
        "    return Z > 0"
      ],
      "metadata": {
        "id": "wbTvgRvt0pG9"
      },
      "execution_count": 136,
      "outputs": []
    },
    {
      "cell_type": "code",
      "source": [
        "def one_hot(Y, num_classes):\n",
        "    one_hot_Y = np.zeros((num_classes, Y.size))\n",
        "    one_hot_Y[Y, np.arange(Y.size)] = 1\n",
        "    return one_hot_Y"
      ],
      "metadata": {
        "id": "rtfdktNn05GG"
      },
      "execution_count": 137,
      "outputs": []
    },
    {
      "cell_type": "code",
      "source": [
        "def cost_funct(A2, Y):\n",
        "  # function for cost func if nece\n",
        "    m = Y.shape[0]\n",
        "    log_likelihood = -np.log(A2[Y, np.arange(m)])\n",
        "    cost = np.sum(log_likelihood) / m\n",
        "    return cost"
      ],
      "metadata": {
        "id": "8Fm79jv18Otc"
      },
      "execution_count": 138,
      "outputs": []
    },
    {
      "cell_type": "code",
      "source": [
        "# use Gradient descent as of now as an optimizer\n",
        "def gradient_descent(X, Y, alpha, iterations):\n",
        "    W1, b1, W2, b2 = parameters()\n",
        "    for i in range(iterations):\n",
        "        Z1, A1, Z2, A2 = forward(W1, b1, W2, b2, X)\n",
        "        dW1, db1, dW2, db2 = backward(Z1, A1, Z2, A2, W1, W2, X, Y)\n",
        "        W1, b1, W2, b2 = update_parameters(W1, b1, W2, b2, dW1, db1, dW2, db2, alpha)\n",
        "        if i % 10 == 0:\n",
        "            predictions = get_predictions(A2)\n",
        "            accuracy = get_accuracy(predictions, Y)\n",
        "            print(f\"Iteration: {i}, Accuracy: {accuracy:.4f}\")\n",
        "    return W1, b1, W2, b2"
      ],
      "metadata": {
        "id": "HctPDjITIeUq"
      },
      "execution_count": 139,
      "outputs": []
    },
    {
      "cell_type": "code",
      "source": [
        "def backward(Z1, A1, Z2, A2, W1, W2, X, Y):\n",
        "  # function for backward propagation\n",
        "    m = X.shape[1]\n",
        "    one_hot_Y = one_hot(Y, A2.shape[0])\n",
        "    dZ2 = A2 - one_hot_Y\n",
        "    dW2 = 1 / m * dZ2.dot(A1.T)\n",
        "    db2 = 1 / m * np.sum(dZ2, axis=1, keepdims=True)\n",
        "    dZ1 = W2.T.dot(dZ2) * ReLU_deriv(Z1)\n",
        "    dW1 = 1 / m * dZ1.dot(X.T)\n",
        "    db1 = 1 / m * np.sum(dZ1, axis=1, keepdims=True)\n",
        "    return dW1, db1, dW2, db2"
      ],
      "metadata": {
        "id": "OVGy14Vt_kN_"
      },
      "execution_count": 140,
      "outputs": []
    },
    {
      "cell_type": "code",
      "source": [
        "def update_parameters(W1, b1, W2, b2, dW1, db1, dW2, db2, alpha):\n",
        "#FUNCTION TO UPDATE PARAMETERS USING GD\n",
        "    W1 = W1 - alpha * dW1\n",
        "    b1 = b1 - alpha * db1\n",
        "    W2 = W2 - alpha * dW2\n",
        "    b2 = b2 - alpha * db2\n",
        "    return W1, b1, W2, b2"
      ],
      "metadata": {
        "id": "YbBKpK55ITPg"
      },
      "execution_count": 141,
      "outputs": []
    },
    {
      "cell_type": "code",
      "source": [
        "def get_predictions(A2):\n",
        "    return np.argmax(A2, axis=0)\n",
        "\n",
        "def get_accuracy(predictions, Y):\n",
        "    return np.sum(predictions == Y) / Y.size"
      ],
      "metadata": {
        "id": "1v8QhbiK1ZAs"
      },
      "execution_count": 142,
      "outputs": []
    },
    {
      "cell_type": "code",
      "source": [
        "def model(W1, b1, W2, b2):\n",
        "  #function to train and build the whole model\n",
        "  W1, b1, W2, b2 = gradient_descent(X_train, Y_train, 0.10, 500)\n",
        "  return W1, b1, W2, b2"
      ],
      "metadata": {
        "id": "x7DOBhxNIxST"
      },
      "execution_count": 143,
      "outputs": []
    },
    {
      "cell_type": "code",
      "source": [
        "W1, b1, W2, b2 = model(X_train, Y_train, 0.10, 500)\n",
        "\n",
        "_, _, _, A2_test = forward(W1, b1, W2, b2, X_test)\n",
        "predictions_test = get_predictions(A2_test)\n",
        "accuracy_test = get_accuracy(predictions_test, Y_test)\n",
        "print(f\"Development set accuracy: {accuracy_test:.4f}\")"
      ],
      "metadata": {
        "colab": {
          "base_uri": "https://localhost:8080/"
        },
        "id": "deXvRR271Mtm",
        "outputId": "452b2a9d-f92e-4566-fc1d-8b4763eebf62"
      },
      "execution_count": 144,
      "outputs": [
        {
          "output_type": "stream",
          "name": "stdout",
          "text": [
            "Iteration: 0, Accuracy: 0.3250\n",
            "Iteration: 10, Accuracy: 0.3250\n",
            "Iteration: 20, Accuracy: 0.5167\n",
            "Iteration: 30, Accuracy: 0.6833\n",
            "Iteration: 40, Accuracy: 0.6917\n",
            "Iteration: 50, Accuracy: 0.7083\n",
            "Iteration: 60, Accuracy: 0.7167\n",
            "Iteration: 70, Accuracy: 0.7333\n",
            "Iteration: 80, Accuracy: 0.7417\n",
            "Iteration: 90, Accuracy: 0.7583\n",
            "Iteration: 100, Accuracy: 0.8250\n",
            "Iteration: 110, Accuracy: 0.8417\n",
            "Iteration: 120, Accuracy: 0.8667\n",
            "Iteration: 130, Accuracy: 0.9000\n",
            "Iteration: 140, Accuracy: 0.9167\n",
            "Iteration: 150, Accuracy: 0.9417\n",
            "Iteration: 160, Accuracy: 0.9500\n",
            "Iteration: 170, Accuracy: 0.9583\n",
            "Iteration: 180, Accuracy: 0.9667\n",
            "Iteration: 190, Accuracy: 0.9667\n",
            "Iteration: 200, Accuracy: 0.9667\n",
            "Iteration: 210, Accuracy: 0.9667\n",
            "Iteration: 220, Accuracy: 0.9667\n",
            "Iteration: 230, Accuracy: 0.9667\n",
            "Iteration: 240, Accuracy: 0.9667\n",
            "Iteration: 250, Accuracy: 0.9667\n",
            "Iteration: 260, Accuracy: 0.9667\n",
            "Iteration: 270, Accuracy: 0.9583\n",
            "Iteration: 280, Accuracy: 0.9583\n",
            "Iteration: 290, Accuracy: 0.9583\n",
            "Iteration: 300, Accuracy: 0.9583\n",
            "Iteration: 310, Accuracy: 0.9583\n",
            "Iteration: 320, Accuracy: 0.9583\n",
            "Iteration: 330, Accuracy: 0.9667\n",
            "Iteration: 340, Accuracy: 0.9667\n",
            "Iteration: 350, Accuracy: 0.9667\n",
            "Iteration: 360, Accuracy: 0.9667\n",
            "Iteration: 370, Accuracy: 0.9667\n",
            "Iteration: 380, Accuracy: 0.9667\n",
            "Iteration: 390, Accuracy: 0.9667\n",
            "Iteration: 400, Accuracy: 0.9667\n",
            "Iteration: 410, Accuracy: 0.9667\n",
            "Iteration: 420, Accuracy: 0.9667\n",
            "Iteration: 430, Accuracy: 0.9667\n",
            "Iteration: 440, Accuracy: 0.9667\n",
            "Iteration: 450, Accuracy: 0.9667\n",
            "Iteration: 460, Accuracy: 0.9667\n",
            "Iteration: 470, Accuracy: 0.9667\n",
            "Iteration: 480, Accuracy: 0.9667\n",
            "Iteration: 490, Accuracy: 0.9667\n",
            "Development set accuracy: 1.0000\n"
          ]
        }
      ]
    },
    {
      "cell_type": "code",
      "source": [
        "#write down the predictions and the f1 score finally\n",
        "_, _, _, A2 = forward(W1, b1, W2, b2, X_test)\n",
        "predictions = get_predictions(A2)\n",
        "\n",
        "for i in range(X_test.shape[1]):\n",
        "    print(f\"Sample {i}: True Label = {Y_test[i]}, Prediction = {predictions[i]}\")"
      ],
      "metadata": {
        "id": "pH7yhg6LI-R4",
        "colab": {
          "base_uri": "https://localhost:8080/"
        },
        "outputId": "115f421d-6bdf-4684-915d-79f54538d765"
      },
      "execution_count": 145,
      "outputs": [
        {
          "output_type": "stream",
          "name": "stdout",
          "text": [
            "Sample 0: True Label = 1, Prediction = 1\n",
            "Sample 1: True Label = 0, Prediction = 0\n",
            "Sample 2: True Label = 2, Prediction = 2\n",
            "Sample 3: True Label = 1, Prediction = 1\n",
            "Sample 4: True Label = 1, Prediction = 1\n",
            "Sample 5: True Label = 0, Prediction = 0\n",
            "Sample 6: True Label = 1, Prediction = 1\n",
            "Sample 7: True Label = 2, Prediction = 2\n",
            "Sample 8: True Label = 1, Prediction = 1\n",
            "Sample 9: True Label = 1, Prediction = 1\n",
            "Sample 10: True Label = 2, Prediction = 2\n",
            "Sample 11: True Label = 0, Prediction = 0\n",
            "Sample 12: True Label = 0, Prediction = 0\n",
            "Sample 13: True Label = 0, Prediction = 0\n",
            "Sample 14: True Label = 0, Prediction = 0\n",
            "Sample 15: True Label = 1, Prediction = 1\n",
            "Sample 16: True Label = 2, Prediction = 2\n",
            "Sample 17: True Label = 1, Prediction = 1\n",
            "Sample 18: True Label = 1, Prediction = 1\n",
            "Sample 19: True Label = 2, Prediction = 2\n",
            "Sample 20: True Label = 0, Prediction = 0\n",
            "Sample 21: True Label = 2, Prediction = 2\n",
            "Sample 22: True Label = 0, Prediction = 0\n",
            "Sample 23: True Label = 2, Prediction = 2\n",
            "Sample 24: True Label = 2, Prediction = 2\n",
            "Sample 25: True Label = 2, Prediction = 2\n",
            "Sample 26: True Label = 2, Prediction = 2\n",
            "Sample 27: True Label = 2, Prediction = 2\n",
            "Sample 28: True Label = 0, Prediction = 0\n",
            "Sample 29: True Label = 0, Prediction = 0\n"
          ]
        }
      ]
    },
    {
      "cell_type": "code",
      "source": [
        "f1 = f1_score(Y_test, predictions_test, average='macro')\n",
        "print(f\"F1 Score: {f1:.4f}\")"
      ],
      "metadata": {
        "colab": {
          "base_uri": "https://localhost:8080/"
        },
        "id": "YD8a7Hp13krV",
        "outputId": "d79ec000-c825-41ee-ac6a-5c5e322d0dc3"
      },
      "execution_count": 146,
      "outputs": [
        {
          "output_type": "stream",
          "name": "stdout",
          "text": [
            "F1 Score: 1.0000\n"
          ]
        }
      ]
    }
  ]
}