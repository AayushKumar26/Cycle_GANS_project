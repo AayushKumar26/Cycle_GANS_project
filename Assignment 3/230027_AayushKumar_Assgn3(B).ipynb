{
  "nbformat": 4,
  "nbformat_minor": 0,
  "metadata": {
    "colab": {
      "provenance": []
    },
    "kernelspec": {
      "name": "python3",
      "display_name": "Python 3"
    },
    "language_info": {
      "name": "python"
    }
  },
  "cells": [
    {
      "cell_type": "markdown",
      "source": [
        "# Part B (Neural Network from Scratch)"
      ],
      "metadata": {
        "id": "N8VDe2CfGe1C"
      }
    },
    {
      "cell_type": "markdown",
      "source": [
        "You need to implement a neural network from scratch .This is a multiclass classification problem. No. of hidden layers depends on you but should be atleast 2.Remember to use activation function. You can add any other function of your choice."
      ],
      "metadata": {
        "id": "XWcVTpevGpfs"
      }
    },
    {
      "cell_type": "code",
      "source": [
        "import numpy as np\n",
        "import random\n",
        "import matplotlib.pyplot as plt"
      ],
      "metadata": {
        "id": "G79JnP4t4Eqw"
      },
      "execution_count": 124,
      "outputs": []
    },
    {
      "cell_type": "code",
      "source": [
        "from sklearn import datasets\n",
        "iris = datasets.load_iris()\n",
        "X = iris.data\n",
        "y = iris.target"
      ],
      "metadata": {
        "id": "KmTgnciWFC0O"
      },
      "execution_count": 125,
      "outputs": []
    },
    {
      "cell_type": "code",
      "source": [
        "print(X.shape,y.shape)"
      ],
      "metadata": {
        "colab": {
          "base_uri": "https://localhost:8080/"
        },
        "id": "GVPMgOfMFC3o",
        "outputId": "0531a81d-9b97-4e5c-f535-629fceea67a9"
      },
      "execution_count": 126,
      "outputs": [
        {
          "output_type": "stream",
          "name": "stdout",
          "text": [
            "(150, 4) (150,)\n"
          ]
        }
      ]
    },
    {
      "cell_type": "code",
      "source": [
        "def parameters(layers_no):\n",
        "    np.random.seed(1)\n",
        "    parameters = {}\n",
        "    L = len(layers_no)  # number of layers in the network\n",
        "\n",
        "    for l in range(1, L):\n",
        "        parameters['Weight' + str(l)] = np.random.randn(layers_no[l], layers_no[l-1]) * 0.01\n",
        "        parameters['Bias' + str(l)] = np.zeros((layers_no[l], 1))\n",
        "\n",
        "    return parameters"
      ],
      "metadata": {
        "id": "usrSV41k8AUJ"
      },
      "execution_count": 127,
      "outputs": []
    },
    {
      "cell_type": "code",
      "source": [
        "\n",
        "#activation functions\n",
        "def sigmoid(Z):\n",
        "     return 1 / (1 + np.exp(-Z))\n",
        "\n",
        "def relu(Z):\n",
        "    return np.maximum(0, Z)\n",
        "\n",
        "def softmax(Z):\n",
        "    expZ = np.exp(Z - np.max(Z, axis=0, keepdims=True))\n",
        "    return expZ / expZ.sum(axis=0, keepdims=True)"
      ],
      "metadata": {
        "id": "mYYaNx3N8qJc"
      },
      "execution_count": 128,
      "outputs": []
    },
    {
      "cell_type": "code",
      "source": [
        "def forward(X, parameters):\n",
        "    dic_AandZ = {}\n",
        "    A = X\n",
        "    L = len(parameters) // 2\n",
        "    for l in range(1, L):\n",
        "        A_prev = A\n",
        "        Z = np.dot(parameters['Weight' + str(l)], A_prev) + parameters['Bias' + str(l)]\n",
        "        A = relu(Z)\n",
        "        dic_AandZ['Act' + str(l)] = A\n",
        "        dic_AandZ['Z_funct' + str(l)] = Z\n",
        "\n",
        "    ZL = np.dot(parameters['Weight' + str(L)], A) + parameters['Bias' + str(L)]\n",
        "    AL = softmax(ZL)\n",
        "    dic_AandZ['Act' + str(L)] = AL\n",
        "    dic_AandZ['Z_funct' + str(L)] = ZL\n",
        "\n",
        "    return AL, dic_AandZ\n"
      ],
      "metadata": {
        "id": "08ynlWSI8M_L"
      },
      "execution_count": 129,
      "outputs": []
    },
    {
      "cell_type": "code",
      "source": [
        "def cost_funct(AL,Y):\n",
        "    m = Y.shape[1]  # Number of examples\n",
        "\n",
        "    # Compute the cross-entropy cost\n",
        "    cost = -np.sum(Y * np.log(AL + 1e-8)) / m  # Adding 1e-8 to avoid log(0)\n",
        "\n",
        "    cost = np.squeeze(cost)  # Ensure cost is a scalar value\n",
        "\n",
        "    return cost"
      ],
      "metadata": {
        "id": "8Fm79jv18Otc"
      },
      "execution_count": 130,
      "outputs": []
    },
    {
      "cell_type": "code",
      "source": [
        "# use Gradient descent as of now as an optimizer"
      ],
      "metadata": {
        "id": "HctPDjITIeUq"
      },
      "execution_count": 131,
      "outputs": []
    },
    {
      "cell_type": "code",
      "source": [
        "def backward(X, Y, parameters_2, caches):\n",
        "    grads = {}\n",
        "    L = len(parameters_2) // 2\n",
        "    m = X.shape[1]\n",
        "    Y = Y.reshape(caches['Act' + str(L)].shape)\n",
        "\n",
        "    dZL = caches['Act' + str(L)] - Y\n",
        "    grads['dW' + str(L)] = np.dot(dZL, caches['Act' + str(L-1)].T) / m\n",
        "    grads['db' + str(L)] = np.sum(dZL, axis=1, keepdims=True) / m\n",
        "\n",
        "    for l in reversed(range(1, L)):\n",
        "        dA = np.dot(parameters_2['Weight' + str(l+1)].T, dZL)\n",
        "        dZ = np.multiply(dA, np.int64(caches['Act' + str(l)] > 0))\n",
        "        dW = np.dot(dZ, caches['Act' + str(l-1)].T) / m if l > 1 else np.dot(dZ, X.T) / m\n",
        "        db = np.sum(dZ, axis=1, keepdims=True) / m\n",
        "\n",
        "        grads['dW' + str(l)] = dW\n",
        "        grads['db' + str(l)] = db\n",
        "\n",
        "        dZL = dZ\n",
        "\n",
        "    return grads"
      ],
      "metadata": {
        "id": "OVGy14Vt_kN_"
      },
      "execution_count": 132,
      "outputs": []
    },
    {
      "cell_type": "code",
      "source": [
        "#using Gradient Descent\n",
        "def update_parameters(parameters_3, grads, learning_rate):\n",
        "    L = len(parameters_3) // 2\n",
        "\n",
        "    for l in range(1, L + 1):\n",
        "        parameters_3['Weight' + str(l)] -= learning_rate * grads['dW' + str(l)]\n",
        "        parameters_3['Bias' + str(l)] -= learning_rate * grads['db' + str(l)]\n",
        "\n",
        "    return parameters_3"
      ],
      "metadata": {
        "id": "YbBKpK55ITPg"
      },
      "execution_count": 133,
      "outputs": []
    },
    {
      "cell_type": "code",
      "source": [
        "def model(X, Y, layers_dims, learning_rate = 0.01, num_iterations=4000, print_cost = False):\n",
        "    np.random.seed(1)\n",
        "    costs = []\n",
        "    parameters_1 = parameters(layers_dims)\n",
        "\n",
        "    for i in range(0, num_iterations):\n",
        "        AL, caches = forward(X, parameters_1)\n",
        "        cost = cost_funct(AL, Y)\n",
        "        grads = backward(X, Y, parameters_1, caches)\n",
        "        parameters_1= update_parameters(parameters_1, grads, learning_rate)\n",
        "\n",
        "        if print_cost and i % 100 == 0:\n",
        "            print (\"Cost after iteration %i: %f\" % (i, cost))\n",
        "        if i % 100 == 0:\n",
        "            costs.append(cost)\n",
        "\n",
        "    plt.plot(np.squeeze(costs))\n",
        "    plt.ylabel('cost')\n",
        "    plt.xlabel('iterations (per tens)')\n",
        "    plt.title(\"Learning rate =\" + str(learning_rate))\n",
        "    plt.show()\n",
        "\n",
        "    return parameters_1"
      ],
      "metadata": {
        "id": "x7DOBhxNIxST"
      },
      "execution_count": 134,
      "outputs": []
    },
    {
      "cell_type": "code",
      "source": [
        "def predict(X, parameters_4):\n",
        "    AL, _ = forward(X, parameters_4)\n",
        "    predictions = np.argmax(AL, axis=0)\n",
        "    return predictions"
      ],
      "metadata": {
        "id": "gLhiXnvvNxZP"
      },
      "execution_count": 135,
      "outputs": []
    },
    {
      "cell_type": "code",
      "source": [
        "def compute_f1_score(y_true, y_pred):\n",
        "    from sklearn.metrics import f1_score\n",
        "    return f1_score(y_true, y_pred, average='weighted')"
      ],
      "metadata": {
        "id": "igeo5DuMSDJ5"
      },
      "execution_count": 136,
      "outputs": []
    },
    {
      "cell_type": "code",
      "source": [
        "layers_dims = [4, 128, 64, 3]  # 3-layer model: 4 input features, 2 hidden layers (10 and 5 units), 3 output classes\n",
        "y = y.astype(int)  # Ensure y is of integer type\n",
        "Y = np.eye(3)[y.reshape(-1)].T\n",
        "\n",
        "parameters = model(X.T, Y, layers_dims, num_iterations = 4000, print_cost = True)\n",
        "predictions = predict(X.T, parameters)\n",
        "f1 = compute_f1_score(y, predictions)\n",
        "\n",
        "print(\"F1 score:\", f1)"
      ],
      "metadata": {
        "id": "pH7yhg6LI-R4",
        "colab": {
          "base_uri": "https://localhost:8080/",
          "height": 1000
        },
        "collapsed": true,
        "outputId": "ea76ebed-5d94-493a-d5dd-9d4f85de17ff"
      },
      "execution_count": 137,
      "outputs": [
        {
          "output_type": "stream",
          "name": "stdout",
          "text": [
            "Cost after iteration 0: 1.098629\n",
            "Cost after iteration 100: 1.098483\n",
            "Cost after iteration 200: 1.098358\n",
            "Cost after iteration 300: 1.098208\n",
            "Cost after iteration 400: 1.098033\n",
            "Cost after iteration 500: 1.097801\n",
            "Cost after iteration 600: 1.097472\n",
            "Cost after iteration 700: 1.096981\n",
            "Cost after iteration 800: 1.096212\n",
            "Cost after iteration 900: 1.094944\n",
            "Cost after iteration 1000: 1.092702\n",
            "Cost after iteration 1100: 1.088328\n",
            "Cost after iteration 1200: 1.078861\n",
            "Cost after iteration 1300: 1.055547\n",
            "Cost after iteration 1400: 0.994610\n",
            "Cost after iteration 1500: 0.869428\n",
            "Cost after iteration 1600: 0.736286\n",
            "Cost after iteration 1700: 0.607303\n",
            "Cost after iteration 1800: 0.496452\n",
            "Cost after iteration 1900: 0.424864\n",
            "Cost after iteration 2000: 0.368222\n",
            "Cost after iteration 2100: 0.313780\n",
            "Cost after iteration 2200: 0.261504\n",
            "Cost after iteration 2300: 0.215985\n",
            "Cost after iteration 2400: 0.180200\n",
            "Cost after iteration 2500: 0.153731\n",
            "Cost after iteration 2600: 0.134521\n",
            "Cost after iteration 2700: 0.120479\n",
            "Cost after iteration 2800: 0.110018\n",
            "Cost after iteration 2900: 0.102041\n",
            "Cost after iteration 3000: 0.095818\n",
            "Cost after iteration 3100: 0.090857\n",
            "Cost after iteration 3200: 0.086825\n",
            "Cost after iteration 3300: 0.083492\n",
            "Cost after iteration 3400: 0.080694\n",
            "Cost after iteration 3500: 0.078314\n",
            "Cost after iteration 3600: 0.076266\n",
            "Cost after iteration 3700: 0.074486\n",
            "Cost after iteration 3800: 0.072924\n",
            "Cost after iteration 3900: 0.071542\n"
          ]
        },
        {
          "output_type": "display_data",
          "data": {
            "text/plain": [
              "<Figure size 640x480 with 1 Axes>"
            ],
            "image/png": "[encoded data removed]"
          },
          "metadata": {}
        },
        {
          "output_type": "stream",
          "name": "stdout",
          "text": [
            "F1 score: 0.9799819837854068\n"
          ]
        }
      ]
    }
  ]
}