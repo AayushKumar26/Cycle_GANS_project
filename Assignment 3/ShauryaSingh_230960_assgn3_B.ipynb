{
  "nbformat": 4,
  "nbformat_minor": 0,
  "metadata": {
    "colab": {
      "provenance": []
    },
    "kernelspec": {
      "name": "python3",
      "display_name": "Python 3"
    },
    "language_info": {
      "name": "python"
    }
  },
  "cells": [
    {
      "cell_type": "markdown",
      "source": [
        "# Part B (Neural Network from Scratch)"
      ],
      "metadata": {
        "id": "N8VDe2CfGe1C"
      }
    },
    {
      "cell_type": "markdown",
      "source": [
        "You need to implement a neural network from scratch .This is a multiclass classification problem. No. of hidden layers depends on you but should be atleast 2.Remember to use activation function. You can add any other function of your choice."
      ],
      "metadata": {
        "id": "XWcVTpevGpfs"
      }
    },
    {
      "cell_type": "code",
      "source": [
        "import numpy as np\n",
        "import random\n",
        "import matplotlib.pyplot as plt"
      ],
      "metadata": {
        "id": "G79JnP4t4Eqw"
      },
      "execution_count": 1,
      "outputs": []
    },
    {
      "cell_type": "code",
      "source": [
        "from sklearn import datasets\n",
        "iris = datasets.load_iris()\n",
        "X = iris.data\n",
        "y = iris.target"
      ],
      "metadata": {
        "id": "KmTgnciWFC0O"
      },
      "execution_count": 15,
      "outputs": []
    },
    {
      "cell_type": "code",
      "source": [
        "print(X.shape,y.shape)"
      ],
      "metadata": {
        "colab": {
          "base_uri": "https://localhost:8080/"
        },
        "id": "GVPMgOfMFC3o",
        "outputId": "a93aa2e1-006b-4ed4-e643-1bda2ac0f725"
      },
      "execution_count": 3,
      "outputs": [
        {
          "output_type": "stream",
          "name": "stdout",
          "text": [
            "(150, 4) (150,)\n"
          ]
        }
      ]
    },
    {
      "cell_type": "code",
      "source": [
        "def parameters(hidden_size, input_size, output_size):\n",
        "    np.random.seed(42)\n",
        "    W1 = np.random.randn(hidden_size, input_size) * 0.01\n",
        "    b1 = np.zeros((hidden_size, 1))\n",
        "    W2 = np.random.randn(output_size, hidden_size) * 0.01\n",
        "    b2 = np.zeros((output_size, 1))\n",
        "\n",
        "    parameters = {\n",
        "        \"W1\": W1,\n",
        "        \"b1\": b1,\n",
        "        \"W2\": W2,\n",
        "        \"b2\": b2\n",
        "    }\n",
        "\n",
        "    return parameters"
      ],
      "metadata": {
        "id": "usrSV41k8AUJ"
      },
      "execution_count": 4,
      "outputs": []
    },
    {
      "cell_type": "code",
      "source": [
        "#activation functions\n",
        "def sigmoid(X):\n",
        "    A = 1 / (1 + np.exp(-X))\n",
        "    return A\n",
        "\n",
        "def relu(X):\n",
        "    A = np.maximum(0, X)\n",
        "    return A\n",
        "\n",
        "def softmax(X):\n",
        "    expX = np.exp(X - np.max(X, axis=0, keepdims=True))\n",
        "    A = expX / np.sum(expX, axis=0, keepdims=True)\n",
        "    return A"
      ],
      "metadata": {
        "id": "mYYaNx3N8qJc"
      },
      "execution_count": 5,
      "outputs": []
    },
    {
      "cell_type": "code",
      "source": [
        "def forward(X, parameters):\n",
        "    W1 = parameters[\"W1\"]\n",
        "    b1 = parameters[\"b1\"]\n",
        "    W2 = parameters[\"W2\"]\n",
        "    b2 = parameters[\"b2\"]\n",
        "    Z1 = np.dot(W1, X) + b1\n",
        "    A1 = sigmoid(Z1)\n",
        "    Z2 = np.dot(W2, A1) + b2\n",
        "    A2 = softmax(Z2)\n",
        "\n",
        "    cache = {\n",
        "        \"Z1\": Z1,\n",
        "        \"A1\": A1,\n",
        "        \"Z2\": Z2,\n",
        "        \"A2\": A2\n",
        "    }\n",
        "\n",
        "    return A2, cache\n"
      ],
      "metadata": {
        "id": "08ynlWSI8M_L"
      },
      "execution_count": 6,
      "outputs": []
    },
    {
      "cell_type": "code",
      "source": [
        "def cost_funct(A2, Y):\n",
        "    m = Y.shape[1]\n",
        "    logp = np.multiply(np.log(A2), Y)\n",
        "    cost = - np.sum(logp) / m\n",
        "\n",
        "    cost = np.squeeze(cost)\n",
        "    return cost"
      ],
      "metadata": {
        "id": "8Fm79jv18Otc"
      },
      "execution_count": 7,
      "outputs": []
    },
    {
      "cell_type": "code",
      "source": [
        "# use Gradient descent as of now as an optimizer\n",
        "def sigmoid_derivative(Z):\n",
        "    s = sigmoid(Z)\n",
        "    return s * (1 - s)"
      ],
      "metadata": {
        "id": "HctPDjITIeUq"
      },
      "execution_count": 8,
      "outputs": []
    },
    {
      "cell_type": "code",
      "source": [
        "def backward(parameters, cache, X, Y):\n",
        "    m = X.shape[1]\n",
        "\n",
        "    W1 = parameters[\"W1\"]\n",
        "    W2 = parameters[\"W2\"]\n",
        "\n",
        "    A1 = cache[\"A1\"]\n",
        "    A2 = cache[\"A2\"]\n",
        "    Z1 = cache[\"Z1\"]\n",
        "\n",
        "    dZ2 = A2 - Y\n",
        "    dW2 = np.dot(dZ2, A1.T) / m\n",
        "    db2 = np.sum(dZ2, axis=1, keepdims=True) / m\n",
        "\n",
        "    dA1 = np.dot(W2.T, dZ2)\n",
        "    dZ1 = dA1 * sigmoid_derivative(Z1)\n",
        "    dW1 = np.dot(dZ1, X.T) / m\n",
        "    db1 = np.sum(dZ1, axis=1, keepdims=True) / m\n",
        "\n",
        "    grads = {\n",
        "        \"dW1\": dW1,\n",
        "        \"db1\": db1,\n",
        "        \"dW2\": dW2,\n",
        "        \"db2\": db2\n",
        "    }\n",
        "\n",
        "    return grads"
      ],
      "metadata": {
        "id": "OVGy14Vt_kN_"
      },
      "execution_count": 9,
      "outputs": []
    },
    {
      "cell_type": "code",
      "source": [
        "def update_parameters(parameters, grads, learning_rate):\n",
        "    parameters[\"W1\"] = parameters[\"W1\"] - learning_rate * grads[\"dW1\"]\n",
        "    parameters[\"b1\"] = parameters[\"b1\"] - learning_rate * grads[\"db1\"]\n",
        "    parameters[\"W2\"] = parameters[\"W2\"] - learning_rate * grads[\"dW2\"]\n",
        "    parameters[\"b2\"] = parameters[\"b2\"] - learning_rate * grads[\"db2\"]\n",
        "\n",
        "    return parameters"
      ],
      "metadata": {
        "id": "YbBKpK55ITPg"
      },
      "execution_count": 10,
      "outputs": []
    },
    {
      "cell_type": "code",
      "source": [
        "def model(X, Y, hidden_size, num_iterations=5000, learning_rate=0.01, print_cost=False):\n",
        "    input_size = X.shape[0]\n",
        "    output_size = Y.shape[0]\n",
        "\n",
        "    parameter = parameters(input_size, hidden_size, output_size)\n",
        "\n",
        "    for i in range(num_iterations):\n",
        "        A2, cache = forward(X, parameter)\n",
        "\n",
        "        cost = cost_funct(A2, Y)\n",
        "\n",
        "        grads = backward(parameter, cache, X, Y)\n",
        "\n",
        "        parameter = update_parameters(parameter, grads, learning_rate)\n",
        "\n",
        "        if print_cost and i % 1000 == 0:\n",
        "            print(f\"Cost after iteration {i}: {cost}\")\n",
        "\n",
        "    return parameter"
      ],
      "metadata": {
        "id": "x7DOBhxNIxST"
      },
      "execution_count": 17,
      "outputs": []
    },
    {
      "cell_type": "code",
      "source": [
        "from sklearn.metrics import f1_score"
      ],
      "metadata": {
        "id": "eep4SINaX5RM"
      },
      "execution_count": 12,
      "outputs": []
    },
    {
      "cell_type": "code",
      "source": [
        "def predict(X, parameters):\n",
        "    A2, _ = forward(X, parameters)\n",
        "    predictions = np.argmax(A2, axis=0)\n",
        "    return predictions"
      ],
      "metadata": {
        "id": "Hl-1SPqeYGFs"
      },
      "execution_count": 13,
      "outputs": []
    },
    {
      "cell_type": "code",
      "source": [
        "X = iris.data.T\n",
        "Y = np.eye(3)[y].T\n",
        "\n",
        "hidden_size = 4\n",
        "parameter = model(X, Y, hidden_size, num_iterations=5000, learning_rate=0.01, print_cost=True)\n",
        "\n",
        "predictions = predict(X, parameter)\n",
        "\n",
        "f1 = f1_score(y, predictions, average = 'macro')\n",
        "print(f\"F1 Score: {f1}\")"
      ],
      "metadata": {
        "id": "pH7yhg6LI-R4",
        "outputId": "25eb534f-4599-4bac-98dd-d38ef52dd7d3",
        "colab": {
          "base_uri": "https://localhost:8080/"
        }
      },
      "execution_count": 18,
      "outputs": [
        {
          "output_type": "stream",
          "name": "stdout",
          "text": [
            "Cost after iteration 0: 1.0986655627490312\n",
            "Cost after iteration 1000: 1.0900130241700494\n",
            "Cost after iteration 2000: 0.8609174442356656\n",
            "Cost after iteration 3000: 0.5578033333334779\n",
            "Cost after iteration 4000: 0.4680899565755299\n",
            "F1 Score: 0.9665831244778613\n"
          ]
        }
      ]
    }
  ]
}