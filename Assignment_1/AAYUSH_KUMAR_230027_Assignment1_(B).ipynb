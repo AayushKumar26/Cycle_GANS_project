{
  "cells": [
    {
      "cell_type": "markdown",
      "id": "2043b5a2",
      "metadata": {
        "id": "2043b5a2"
      },
      "source": [
        "## Python Basics"
      ]
    },
    {
      "cell_type": "markdown",
      "id": "4da92ed3",
      "metadata": {
        "id": "4da92ed3"
      },
      "source": [
        "### Question 1 (5 points)\n",
        "**Complete the function `str_cmp` to return `True` if two strings are the same irrespective of lowercase/uppercase and whitespaces. Else, return `False`.**"
      ]
    },
    {
      "cell_type": "code",
      "execution_count": 1,
      "id": "35a5617a",
      "metadata": {
        "id": "35a5617a"
      },
      "outputs": [],
      "source": [
        "def str_cmp(str_1, str_2):\n",
        "    str_1new=str_1.replace(\" \",\"\").lower()\n",
        "    str_2new=str_2.replace(\" \",\"\").lower()\n",
        "    return str_1new==str_2new\n",
        "\n"
      ]
    },
    {
      "cell_type": "code",
      "execution_count": 2,
      "id": "de42b747",
      "metadata": {
        "colab": {
          "base_uri": "https://localhost:8080/"
        },
        "id": "de42b747",
        "outputId": "45fef10e-7954-4a64-e0f6-9d0eb0244a6b"
      },
      "outputs": [
        {
          "name": "stdout",
          "output_type": "stream",
          "text": [
            "Passed test case 1\n",
            "====================\n",
            "Passed test case 2\n",
            "====================\n",
            "Passed test case 3\n",
            "====================\n",
            "Passed test case 4\n",
            "====================\n",
            "Passed test case 5\n",
            "====================\n",
            "*****************************\n",
            "**  PASSED ALL TEST CASES  **\n",
            "*****************************\n"
          ]
        }
      ],
      "source": [
        "# TEST CASES -- DO NOT MODIFY\n",
        "\n",
        "# Test Case 1\n",
        "assert str_cmp(\"csce\", \"csce\") == True, \"Failed test case 1\"\n",
        "print(\"Passed test case 1\\n\" + \"=\"*20)\n",
        "\n",
        "# Test Case 2\n",
        "assert str_cmp(\"csce\", \"csce412\") == False, \"Failed test case 2\"\n",
        "print(\"Passed test case 2\\n\" + \"=\"*20)\n",
        "\n",
        "# Test Case 3\n",
        "assert str_cmp(\"MaChine LeArnIng\", \"machine learning\") == True, \"Failed test case 3\"\n",
        "print(\"Passed test case 3\\n\" + \"=\"*20)\n",
        "\n",
        "# Test Case 4\n",
        "assert str_cmp(\"Machine Learning!\", \"Machine Learning\") == False, \"Failed test case 4\"\n",
        "print(\"Passed test case 4\\n\" + \"=\"*20)\n",
        "\n",
        "# Test Case 5\n",
        "assert str_cmp(\"  Machine Learning\", \"machine    Learning \") == True, \"Failed test case 5\"\n",
        "print(\"Passed test case 5\\n\" + \"=\"*20)\n",
        "\n",
        "print(\"*\"*29 + \"\\n**  PASSED ALL TEST CASES  **\\n\" + \"*\"*29)"
      ]
    },
    {
      "cell_type": "markdown",
      "id": "538dfd1a",
      "metadata": {
        "id": "538dfd1a"
      },
      "source": [
        "### Question 2 (5 points)\n",
        "**Complete the function `power_list` in which each element is raised by its index to create a new list. Return the sum of the elements of the new list.**  \n",
        "\n",
        "Example:  \n",
        "given list: [1, 2, 3, 4]  \n",
        "new list: [1, 2, 9, 64]  \n",
        "sum of the elements of new list: 76"
      ]
    },
    {
      "cell_type": "code",
      "execution_count": 3,
      "id": "MmfGFw1b6tky",
      "metadata": {
        "id": "MmfGFw1b6tky"
      },
      "outputs": [],
      "source": [
        "import numpy as np"
      ]
    },
    {
      "cell_type": "code",
      "execution_count": 4,
      "id": "e103a1ec",
      "metadata": {
        "id": "e103a1ec"
      },
      "outputs": [],
      "source": [
        "def power_list(arr):\n",
        "    sum_list=[x**i for i,x in enumerate(arr)]\n",
        "    return np.sum(sum_list)\n"
      ]
    },
    {
      "cell_type": "code",
      "execution_count": 5,
      "id": "945f921a",
      "metadata": {
        "colab": {
          "base_uri": "https://localhost:8080/"
        },
        "id": "945f921a",
        "outputId": "d94a4d40-c1b9-41d5-a724-9b5196f8e43a"
      },
      "outputs": [
        {
          "name": "stdout",
          "output_type": "stream",
          "text": [
            "Passed test case 1\n",
            "====================\n",
            "Passed test case 2\n",
            "====================\n",
            "*****************************\n",
            "**  PASSED ALL TEST CASES  **\n",
            "*****************************\n"
          ]
        }
      ],
      "source": [
        "# TEST CASES -- DO NOT MODIFY\n",
        "\n",
        "# Test Case 1\n",
        "assert power_list([i for i in range(5)]) == 289, \"Failed test case 1\"\n",
        "print(\"Passed test case 1\\n\" + \"=\"*20)\n",
        "\n",
        "# Test Case 2\n",
        "assert power_list([-i for i in range(10, -1, -1)]) == 48, \"Failed test case 2\"\n",
        "print(\"Passed test case 2\\n\" + \"=\"*20)\n",
        "\n",
        "print(\"*\"*29 + \"\\n**  PASSED ALL TEST CASES  **\\n\" + \"*\"*29)"
      ]
    },
    {
      "cell_type": "markdown",
      "id": "bf2cfd31",
      "metadata": {
        "id": "bf2cfd31"
      },
      "source": [
        "### Question 3 (10 points)\n",
        "**Complete the function `create_stats` that returns the mean and median values of the values arranged in a nested list.**"
      ]
    },
    {
      "cell_type": "code",
      "execution_count": 6,
      "id": "663e8d08",
      "metadata": {
        "id": "663e8d08"
      },
      "outputs": [],
      "source": [
        "import statistics\n",
        "\n",
        "def create_stats(universities):\n",
        "    \"\"\"\n",
        "    Return a tuple of (mean students enrolled, median students enrolled, mean tuition, median tuition)\n",
        "    Return a tuple of (mean cars sold, median cars sold, mean MSRP, median MSRP)\n",
        "    \"\"\"\n",
        "    enrolled = [entry[1] for entry in universities]\n",
        "    mean_enrolled = np.sum(enrolled)/len(enrolled)\n",
        "    n=len(enrolled)\n",
        "    enrolled.sort()\n",
        "    if n % 2 == 0:\n",
        "       median_enrolled = (enrolled[n // 2 - 1] + enrolled[n // 2]) / 2\n",
        "    else:\n",
        "        median_enrolled = enrolled[n // 2]\n",
        "\n",
        "\n",
        "\n",
        "\n",
        "    tuition = [entry[2] for entry in universities]\n",
        "    mean_tuition = np.sum(tuition)/len(tuition)\n",
        "    n=len(tuition)\n",
        "    tuition.sort()\n",
        "    if n % 2 == 0:\n",
        "       median_tuition = (tuition[n // 2 - 1] + tuition[n // 2]) / 2\n",
        "    else:\n",
        "        median_tuition = tuition[n // 2]\n",
        "\n",
        "    return (mean_enrolled, median_enrolled, mean_tuition, median_tuition)\n"
      ]
    },
    {
      "cell_type": "code",
      "execution_count": 7,
      "id": "cef665e2",
      "metadata": {
        "colab": {
          "base_uri": "https://localhost:8080/"
        },
        "id": "cef665e2",
        "outputId": "0ddf9e24-b8b5-4c79-9c94-a8dedcd645a9"
      },
      "outputs": [
        {
          "name": "stdout",
          "output_type": "stream",
          "text": [
            "Passed test case 1\n",
            "====================\n",
            "Passed test case 2\n",
            "====================\n",
            "*****************************\n",
            "**  PASSED ALL TEST CASES  **\n",
            "*****************************\n"
          ]
        }
      ],
      "source": [
        "# TEST CASES -- DO NOT MODIFY\n",
        "\n",
        "# [[university name, students enrolled, tuition]]\n",
        "universities = [\n",
        "    [\"Harvard\", 19627, 39849],\n",
        "    [\"Massachusetts Institute of Technology\", 10566, 40732],\n",
        "    [\"Princeton\", 7806, 37000],\n",
        "    [\"Rice\", 5870, 35551],\n",
        "    [\"Stanford\", 19539, 40569],\n",
        "    [\"Yale\", 11706, 40500],\n",
        "]\n",
        "\n",
        "\n",
        "\n",
        "# [[model, cars sold, MSRP]]\n",
        "cars = [\n",
        "    [\"Ford F-series\", 52314, 35000],\n",
        "    [\"Toyota RAV4\", 41145, 30000],\n",
        "    [\"Honda CR-V\", 31530, 32000],\n",
        "    [\"Toyota Camry\", 32959, 28000],\n",
        "    [\"Honda Civic\", 28318, 23000]\n",
        "]\n",
        "\n",
        "# Test Case 1\n",
        "assert create_stats(universities) == (12519.0, 11136.0, 39033.5, 40174.5), \"Failed test case 1\"\n",
        "print(\"Passed test case 1\\n\" + \"=\"*20)\n",
        "\n",
        "# Test Case 2\n",
        "assert create_stats(cars) == (37253.2, 32959, 29600.0, 30000), \"Failed test case 2\"\n",
        "print(\"Passed test case 2\\n\" + \"=\"*20)\n",
        "\n",
        "print(\"*\"*29 + \"\\n**  PASSED ALL TEST CASES  **\\n\" + \"*\"*29)"
      ]
    },
    {
      "cell_type": "markdown",
      "id": "f518dfb5",
      "metadata": {
        "id": "f518dfb5"
      },
      "source": [
        "# NumPy Basics"
      ]
    },
    {
      "cell_type": "code",
      "execution_count": 8,
      "id": "58b94afd",
      "metadata": {
        "id": "58b94afd"
      },
      "outputs": [],
      "source": [
        "import numpy as np"
      ]
    },
    {
      "cell_type": "markdown",
      "id": "9f7c5978",
      "metadata": {
        "id": "9f7c5978"
      },
      "source": [
        "### Question 4 (5 points)\n",
        "**Complete the function `matrix_reshape` to reshape a matrix to the target dimensions given by `n_rows` and `n_cols`.**"
      ]
    },
    {
      "cell_type": "code",
      "execution_count": 9,
      "id": "7b2ee854",
      "metadata": {
        "id": "7b2ee854"
      },
      "outputs": [],
      "source": [
        "def matrix_reshape(mat, n_rows, n_cols):\n",
        "    reshaped=np.reshape(mat,(n_rows,n_cols))\n",
        "    return reshaped\n",
        "\n"
      ]
    },
    {
      "cell_type": "code",
      "execution_count": 10,
      "id": "009922e4",
      "metadata": {
        "colab": {
          "base_uri": "https://localhost:8080/"
        },
        "id": "009922e4",
        "outputId": "c68aaaaa-1bbd-4595-be19-be7e47c01b80"
      },
      "outputs": [
        {
          "name": "stdout",
          "output_type": "stream",
          "text": [
            "Passed test case 1\n",
            "====================\n",
            "Passed test case 2\n",
            "====================\n",
            "*****************************\n",
            "**  PASSED ALL TEST CASES  **\n",
            "*****************************\n"
          ]
        }
      ],
      "source": [
        "# TEST CASES -- DO NOT MODIFY\n",
        "\n",
        "A = np.array([\n",
        "    [3, -4, 2, 9],\n",
        "    [6, 1, -5, 2],\n",
        "    [-7, 8, -1, 6]\n",
        "])\n",
        "\n",
        "# Test Case 1\n",
        "assert (matrix_reshape(np.arange(15), 3, 5) == np.array([[ 0,  1,  2,  3,  4], [ 5,  6,  7,  8,  9],\n",
        "                                                            [10, 11, 12, 13, 14]])).all(), \"Failed test case 1\"\n",
        "print(\"Passed test case 1\\n\" + \"=\"*20)\n",
        "\n",
        "# Test Case 2\n",
        "assert (matrix_reshape(A, 2, 6) == np.array([[ 3, -4,  2,  9,  6,  1],\n",
        "       [-5,  2, -7,  8, -1,  6]])).all(), \"Failed test case 2\"\n",
        "print(\"Passed test case 2\\n\" + \"=\"*20)\n",
        "\n",
        "print(\"*\"*29 + \"\\n**  PASSED ALL TEST CASES  **\\n\" + \"*\"*29)"
      ]
    },
    {
      "cell_type": "markdown",
      "id": "6be8fe6d",
      "metadata": {
        "id": "6be8fe6d"
      },
      "source": [
        "### Question 5 (5 points)\n",
        "**Complete the function `dot_product` that returns the dot product of two matrices. Dot product is also known as matrix multiplication.**"
      ]
    },
    {
      "cell_type": "code",
      "execution_count": 11,
      "id": "477e0de2",
      "metadata": {
        "id": "477e0de2"
      },
      "outputs": [],
      "source": [
        "def dot_product(mat_1, mat_2):\n",
        "    return(np.dot(mat_1,mat_2))\n",
        "\n",
        "\n"
      ]
    },
    {
      "cell_type": "code",
      "execution_count": 12,
      "id": "45463c9e",
      "metadata": {
        "colab": {
          "base_uri": "https://localhost:8080/"
        },
        "id": "45463c9e",
        "outputId": "6acf434a-ba16-445d-ebb8-558a455628d2"
      },
      "outputs": [
        {
          "name": "stdout",
          "output_type": "stream",
          "text": [
            "Passed test case 1\n",
            "====================\n",
            "Passed test case 2\n",
            "====================\n",
            "Passed test case 3\n",
            "====================\n",
            "*****************************\n",
            "**  PASSED ALL TEST CASES  **\n",
            "*****************************\n"
          ]
        }
      ],
      "source": [
        "# TEST CASES -- DO NOT MODIFY\n",
        "\n",
        "A = np.array([\n",
        "    [3, -4, 2, 9],\n",
        "    [6, 1, -5, 2],\n",
        "    [-7, 8, -1, 6]\n",
        "])\n",
        "\n",
        "# Test Case 1\n",
        "assert dot_product(A[0,:], A[1,:]) == 22, \"Failed test case 1\"\n",
        "print(\"Passed test case 1\\n\" + \"=\"*20)\n",
        "\n",
        "# Test Case 2\n",
        "assert (dot_product(A[0,:], A.T) == np.array([110,  22,  -1])).all(), \"Failed test case 2\"\n",
        "print(\"Passed test case 2\\n\" + \"=\"*20)\n",
        "\n",
        "# Test Case 3\n",
        "assert (dot_product(A, A.T) == np.array([[110,  22,  -1], [ 22,  66, -17],\n",
        "                                               [ -1, -17, 150]])).all(), \"Failed test case 3\"\n",
        "print(\"Passed test case 3\\n\" + \"=\"*20)\n",
        "\n",
        "print(\"*\"*29 + \"\\n**  PASSED ALL TEST CASES  **\\n\" + \"*\"*29)"
      ]
    },
    {
      "cell_type": "markdown",
      "id": "7e8ead58",
      "metadata": {
        "id": "7e8ead58"
      },
      "source": [
        "### Question 6 (5 points)\n",
        "**Complete the function `cross_product` that returns the cross product of two matrices.**"
      ]
    },
    {
      "cell_type": "code",
      "execution_count": 13,
      "id": "79123733",
      "metadata": {
        "id": "79123733"
      },
      "outputs": [],
      "source": [
        "def cross_product(mat_1, mat_2):\n",
        "    return(np.cross(mat_1,mat_2))"
      ]
    },
    {
      "cell_type": "code",
      "execution_count": 14,
      "id": "5297b399",
      "metadata": {
        "colab": {
          "base_uri": "https://localhost:8080/"
        },
        "id": "5297b399",
        "outputId": "cfb95d01-ab57-47a3-c370-558f189b58b4"
      },
      "outputs": [
        {
          "name": "stdout",
          "output_type": "stream",
          "text": [
            "Passed test case 1\n",
            "====================\n",
            "Passed test case 2\n",
            "====================\n",
            "*****************************\n",
            "**  PASSED ALL TEST CASES  **\n",
            "*****************************\n"
          ]
        }
      ],
      "source": [
        "# TEST CASES -- DO NOT MODIFY\n",
        "\n",
        "A = np.array([\n",
        "    [3, -4, 2, 9],\n",
        "    [6, 1, -5, 2],\n",
        "    [-7, 8, -1, 6]\n",
        "])\n",
        "\n",
        "# Test Case 1\n",
        "assert cross_product(A[0,:2], A[:2,1]) == -13, \"Failed test case 1\"\n",
        "print(\"Passed test case 1\\n\" + \"=\"*20)\n",
        "\n",
        "# Test Case 2\n",
        "assert cross_product(A[:2,:2], A[2:,2:])[0] == 14, \"Failed test case 2\"\n",
        "print(\"Passed test case 2\\n\" + \"=\"*20)\n",
        "\n",
        "print(\"*\"*29 + \"\\n**  PASSED ALL TEST CASES  **\\n\" + \"*\"*29)"
      ]
    },
    {
      "cell_type": "markdown",
      "id": "cd8ff4f9",
      "metadata": {
        "id": "cd8ff4f9"
      },
      "source": [
        "### Question 7 (5 points)\n",
        "**Complete the function `inverse` that computes the inverse of a matrix.**"
      ]
    },
    {
      "cell_type": "code",
      "execution_count": 15,
      "id": "f6602906",
      "metadata": {
        "id": "f6602906"
      },
      "outputs": [],
      "source": [
        "def inverse(mat):\n",
        "    return(np.linalg.inv(mat))\n",
        "\n"
      ]
    },
    {
      "cell_type": "code",
      "execution_count": 16,
      "id": "ae2d0a7e",
      "metadata": {
        "colab": {
          "base_uri": "https://localhost:8080/"
        },
        "id": "ae2d0a7e",
        "outputId": "e1853ec0-5635-4c48-b95a-c4e185f7c41a"
      },
      "outputs": [
        {
          "name": "stdout",
          "output_type": "stream",
          "text": [
            "Passed test case 1\n",
            "====================\n",
            "Passed test case 2\n",
            "====================\n",
            "*****************************\n",
            "**  PASSED ALL TEST CASES  **\n",
            "*****************************\n"
          ]
        }
      ],
      "source": [
        "# TEST CASES -- DO NOT MODIFY\n",
        "\n",
        "A = np.array([\n",
        "    [6, 1, 1],\n",
        "    [4, -2, 5],\n",
        "    [2, 8, 7]\n",
        "])\n",
        "\n",
        "# Test Case 1\n",
        "assert np.allclose(inverse(A), np.array([[ 0.17647059, -0.00326797, -0.02287582],\n",
        "       [ 0.05882353, -0.13071895,  0.08496732],\n",
        "       [-0.11764706,  0.1503268 ,  0.05228758]])), \"Failed test case 1\"\n",
        "print(\"Passed test case 1\\n\" + \"=\"*20)\n",
        "\n",
        "# Test Case 2\n",
        "assert (inverse(A[:2,:2]) == np.array([[ 0.125 ,  0.0625],\n",
        "       [ 0.25  , -0.375 ]])).all(), \"Failed test case 2\"\n",
        "print(\"Passed test case 2\\n\" + \"=\"*20)\n",
        "\n",
        "print(\"*\"*29 + \"\\n**  PASSED ALL TEST CASES  **\\n\" + \"*\"*29)"
      ]
    },
    {
      "cell_type": "markdown",
      "id": "676a062c",
      "metadata": {
        "id": "676a062c"
      },
      "source": [
        "### Question 8 (10 points)\n",
        "**Complete the function `subtract_mean` that subtracts the row-wise mean from each row of a matrix.**"
      ]
    },
    {
      "cell_type": "code",
      "execution_count": 17,
      "id": "d961fe24",
      "metadata": {
        "id": "d961fe24"
      },
      "outputs": [],
      "source": [
        "def subtract_mean(mat):\n",
        "    mat=mat.astype(float)\n",
        "    row_mean=(np.mean(mat,axis=1))\n",
        "    new_mat=mat.copy()\n",
        "    for i in range(mat.shape[0]):\n",
        "      new_mat[i]=new_mat[i]-row_mean[i]\n",
        "    return new_mat\n"
      ]
    },
    {
      "cell_type": "code",
      "execution_count": 18,
      "id": "2c022f5d",
      "metadata": {
        "colab": {
          "base_uri": "https://localhost:8080/"
        },
        "id": "2c022f5d",
        "outputId": "25f8824e-3117-414c-b4c8-2143e8840417"
      },
      "outputs": [
        {
          "name": "stdout",
          "output_type": "stream",
          "text": [
            "Passed test case 1\n",
            "====================\n",
            "Passed test case 2\n",
            "====================\n",
            "*****************************\n",
            "**  PASSED ALL TEST CASES  **\n",
            "*****************************\n"
          ]
        }
      ],
      "source": [
        "A = np.array([\n",
        "    [3, -4, 2, 9],\n",
        "    [6, 1, -5, 2],\n",
        "    [-7, 8, -1, 6]\n",
        "])\n",
        "\n",
        "# Test Case 1\n",
        "assert (subtract_mean(np.arange(12).reshape(4,3)) == np.array([[-1.,  0.,  1.], [-1.,  0.,  1.],\n",
        "       [-1.,  0.,  1.], [-1.,  0.,  1.]])).all(), \"Failed test case 1\"\n",
        "print(\"Passed test case 1\\n\" + \"=\"*20)\n",
        "\n",
        "# Test Case 2\n",
        "assert (subtract_mean(A) == np.array([[0.5, -6.5, -0.5,  6.5], [5. ,  0. , -6. ,  1. ],\n",
        "        [-8.5,  6.5, -2.5,  4.5]])).all(), \"Failed test case 2\"\n",
        "print(\"Passed test case 2\\n\" + \"=\"*20)\n",
        "\n",
        "print(\"*\"*29 + \"\\n**  PASSED ALL TEST CASES  **\\n\" + \"*\"*29)"
      ]
    },
    {
      "cell_type": "markdown",
      "id": "936fb3bc",
      "metadata": {
        "id": "936fb3bc"
      },
      "source": [
        "### Question 9 (10 points)\n",
        "**Complete the function `moving_average` that computes averages over a sliding window of size `window_size` for a 1-D array.**"
      ]
    },
    {
      "cell_type": "code",
      "execution_count": 19,
      "id": "95012d0c",
      "metadata": {
        "id": "95012d0c"
      },
      "outputs": [],
      "source": [
        "def moving_average(arr, window_size):\n",
        "    i = 0\n",
        "    moving_averages = []\n",
        "\n",
        "    while i < len(arr) - window_size + 1:\n",
        "\n",
        "        window = arr[i : i + window_size]\n",
        "        window_average = np.sum(window) / window_size\n",
        "\n",
        "        moving_averages.append(window_average)\n",
        "\n",
        "        i += 1\n",
        "\n",
        "    return moving_averages\n",
        "\n"
      ]
    },
    {
      "cell_type": "code",
      "execution_count": 20,
      "id": "463a46d1",
      "metadata": {
        "colab": {
          "base_uri": "https://localhost:8080/"
        },
        "id": "463a46d1",
        "outputId": "c4773b81-269d-44d1-979a-27a088c3f79e"
      },
      "outputs": [
        {
          "name": "stdout",
          "output_type": "stream",
          "text": [
            "Passed test case 1\n",
            "====================\n",
            "Passed test case 2\n",
            "====================\n",
            "*****************************\n",
            "**  PASSED ALL TEST CASES  **\n",
            "*****************************\n"
          ]
        }
      ],
      "source": [
        "# Test Case 1\n",
        "assert (moving_average(np.arange(10), 3) == np.arange(8)+1).all(), \"Failed test case 1\"\n",
        "print(\"Passed test case 1\\n\" + \"=\"*20)\n",
        "\n",
        "# Test Case 2\n",
        "assert (moving_average(np.array([-10, 5, 6, -4, 7, 9]), 2) ==\n",
        "        np.array([-2.5, 5.5, 1, 1.5, 8])).all(), \"Failed test case 2\"\n",
        "print(\"Passed test case 2\\n\" + \"=\"*20)\n",
        "\n",
        "print(\"*\"*29 + \"\\n**  PASSED ALL TEST CASES  **\\n\" + \"*\"*29)"
      ]
    },
    {
      "cell_type": "markdown",
      "id": "9aa618f6",
      "metadata": {
        "id": "9aa618f6"
      },
      "source": [
        "# Pandas Basics"
      ]
    },
    {
      "cell_type": "code",
      "execution_count": 21,
      "id": "edd1866d",
      "metadata": {
        "id": "edd1866d"
      },
      "outputs": [],
      "source": [
        "import pandas as pd"
      ]
    },
    {
      "cell_type": "markdown",
      "id": "2395daa3",
      "metadata": {
        "id": "2395daa3"
      },
      "source": [
        "\n",
        "**Data**   \n"
      ]
    },
    {
      "cell_type": "code",
      "execution_count": 22,
      "id": "dc153bef",
      "metadata": {
        "id": "dc153bef"
      },
      "outputs": [],
      "source": [
        "data = {'From': ['delhi', 'Lucknow', 'delhi',\n",
        "                   'Mumbai', 'Chennai'],\n",
        "        'To': ['Hyderabad', 'Kochi', 'Chandigarh', 'Hyderabad', 'Kolkata'],\n",
        "        'FlightNumber': [10045, np.nan, 10065, np.nan, 10085],\n",
        "        'Delay_1': [23, np.nan, 24, 13, 67],\n",
        "        'Delay_2': [47, np.nan, 43, np.nan, 32],\n",
        "        'Delay_3': [np.nan, np.nan, 87, np.nan, np.nan],\n",
        "        'Airline': ['Air India', 'Indigo', 'Go Air',\n",
        "                    'Indigo', 'Vistara']}"
      ]
    },
    {
      "cell_type": "code",
      "execution_count": 23,
      "id": "015629c8",
      "metadata": {
        "id": "015629c8"
      },
      "outputs": [],
      "source": [
        "df = pd.DataFrame(data)"
      ]
    },
    {
      "cell_type": "code",
      "execution_count": 24,
      "id": "6822ed9f",
      "metadata": {
        "colab": {
          "base_uri": "https://localhost:8080/",
          "height": 206
        },
        "id": "6822ed9f",
        "outputId": "01888774-b5a0-4372-e2c1-008eb2416b45"
      },
      "outputs": [
        {
          "data": {
            "text/html": [
              "<div>\n",
              "<style scoped>\n",
              "    .dataframe tbody tr th:only-of-type {\n",
              "        vertical-align: middle;\n",
              "    }\n",
              "\n",
              "    .dataframe tbody tr th {\n",
              "        vertical-align: top;\n",
              "    }\n",
              "\n",
              "    .dataframe thead th {\n",
              "        text-align: right;\n",
              "    }\n",
              "</style>\n",
              "<table border=\"1\" class=\"dataframe\">\n",
              "  <thead>\n",
              "    <tr style=\"text-align: right;\">\n",
              "      <th></th>\n",
              "      <th>From</th>\n",
              "      <th>To</th>\n",
              "      <th>FlightNumber</th>\n",
              "      <th>Delay_1</th>\n",
              "      <th>Delay_2</th>\n",
              "      <th>Delay_3</th>\n",
              "      <th>Airline</th>\n",
              "    </tr>\n",
              "  </thead>\n",
              "  <tbody>\n",
              "    <tr>\n",
              "      <th>0</th>\n",
              "      <td>delhi</td>\n",
              "      <td>Hyderabad</td>\n",
              "      <td>10045.0</td>\n",
              "      <td>23.0</td>\n",
              "      <td>47.0</td>\n",
              "      <td>NaN</td>\n",
              "      <td>Air India</td>\n",
              "    </tr>\n",
              "    <tr>\n",
              "      <th>1</th>\n",
              "      <td>Lucknow</td>\n",
              "      <td>Kochi</td>\n",
              "      <td>NaN</td>\n",
              "      <td>NaN</td>\n",
              "      <td>NaN</td>\n",
              "      <td>NaN</td>\n",
              "      <td>Indigo</td>\n",
              "    </tr>\n",
              "    <tr>\n",
              "      <th>2</th>\n",
              "      <td>delhi</td>\n",
              "      <td>Chandigarh</td>\n",
              "      <td>10065.0</td>\n",
              "      <td>24.0</td>\n",
              "      <td>43.0</td>\n",
              "      <td>87.0</td>\n",
              "      <td>Go Air</td>\n",
              "    </tr>\n",
              "    <tr>\n",
              "      <th>3</th>\n",
              "      <td>Mumbai</td>\n",
              "      <td>Hyderabad</td>\n",
              "      <td>NaN</td>\n",
              "      <td>13.0</td>\n",
              "      <td>NaN</td>\n",
              "      <td>NaN</td>\n",
              "      <td>Indigo</td>\n",
              "    </tr>\n",
              "    <tr>\n",
              "      <th>4</th>\n",
              "      <td>Chennai</td>\n",
              "      <td>Kolkata</td>\n",
              "      <td>10085.0</td>\n",
              "      <td>67.0</td>\n",
              "      <td>32.0</td>\n",
              "      <td>NaN</td>\n",
              "      <td>Vistara</td>\n",
              "    </tr>\n",
              "  </tbody>\n",
              "</table>\n",
              "</div>"
            ],
            "text/plain": [
              "      From          To  FlightNumber  Delay_1  Delay_2  Delay_3    Airline\n",
              "0    delhi   Hyderabad       10045.0     23.0     47.0      NaN  Air India\n",
              "1  Lucknow       Kochi           NaN      NaN      NaN      NaN     Indigo\n",
              "2    delhi  Chandigarh       10065.0     24.0     43.0     87.0     Go Air\n",
              "3   Mumbai   Hyderabad           NaN     13.0      NaN      NaN     Indigo\n",
              "4  Chennai     Kolkata       10085.0     67.0     32.0      NaN    Vistara"
            ]
          },
          "execution_count": 24,
          "metadata": {},
          "output_type": "execute_result"
        }
      ],
      "source": [
        "df.head()"
      ]
    },
    {
      "cell_type": "code",
      "execution_count": null,
      "id": "be69dd54",
      "metadata": {},
      "outputs": [],
      "source": []
    },
    {
      "cell_type": "markdown",
      "id": "1d9d8114",
      "metadata": {
        "id": "1d9d8114"
      },
      "source": [
        "### Question 10 (5 points)\n",
        "**Calculate the number of unique cities in `df`.**"
      ]
    },
    {
      "cell_type": "code",
      "execution_count": 25,
      "id": "346c1a8a",
      "metadata": {
        "colab": {
          "base_uri": "https://localhost:8080/"
        },
        "id": "346c1a8a",
        "outputId": "eff3cf1a-3000-4b64-ef00-9cca7c0a4d36"
      },
      "outputs": [
        {
          "name": "stdout",
          "output_type": "stream",
          "text": [
            "8\n"
          ]
        }
      ],
      "source": [
        "cities=[]\n",
        "for i in range(0,5):\n",
        "   cities.append(df['From'][i])\n",
        "   cities.append(df['To'][i])\n",
        "\n",
        "count=len(np.unique(cities))\n",
        "print(count)\n"
      ]
    },
    {
      "cell_type": "markdown",
      "id": "c465de2a",
      "metadata": {
        "id": "c465de2a"
      },
      "source": [
        "### Question 11 (5 points)\n",
        "**Compute the no. of flights flying out of `Delhi`.**"
      ]
    },
    {
      "cell_type": "code",
      "execution_count": 26,
      "id": "8d9d5fe8",
      "metadata": {
        "colab": {
          "base_uri": "https://localhost:8080/"
        },
        "id": "8d9d5fe8",
        "outputId": "8b3fca6d-a40a-43af-d4b6-deb55070b6fa"
      },
      "outputs": [
        {
          "name": "stdout",
          "output_type": "stream",
          "text": [
            "2\n"
          ]
        }
      ],
      "source": [
        "## YOUR CODE HERE\n",
        "from_delhi=df['From'].value_counts()['delhi']\n",
        "print(from_delhi)"
      ]
    },
    {
      "cell_type": "markdown",
      "id": "b68b65f8",
      "metadata": {
        "id": "b68b65f8"
      },
      "source": [
        "### Question 12 (5 points)\n",
        "**Which cities are served by `Indigo`?**"
      ]
    },
    {
      "cell_type": "code",
      "execution_count": 27,
      "id": "e4df6980",
      "metadata": {},
      "outputs": [
        {
          "data": {
            "text/html": [
              "<div>\n",
              "<style scoped>\n",
              "    .dataframe tbody tr th:only-of-type {\n",
              "        vertical-align: middle;\n",
              "    }\n",
              "\n",
              "    .dataframe tbody tr th {\n",
              "        vertical-align: top;\n",
              "    }\n",
              "\n",
              "    .dataframe thead th {\n",
              "        text-align: right;\n",
              "    }\n",
              "</style>\n",
              "<table border=\"1\" class=\"dataframe\">\n",
              "  <thead>\n",
              "    <tr style=\"text-align: right;\">\n",
              "      <th></th>\n",
              "      <th>From</th>\n",
              "      <th>To</th>\n",
              "      <th>FlightNumber</th>\n",
              "      <th>Delay_1</th>\n",
              "      <th>Delay_2</th>\n",
              "      <th>Delay_3</th>\n",
              "      <th>Airline</th>\n",
              "    </tr>\n",
              "  </thead>\n",
              "  <tbody>\n",
              "    <tr>\n",
              "      <th>0</th>\n",
              "      <td>delhi</td>\n",
              "      <td>Hyderabad</td>\n",
              "      <td>10045.0</td>\n",
              "      <td>23.0</td>\n",
              "      <td>47.0</td>\n",
              "      <td>NaN</td>\n",
              "      <td>Air India</td>\n",
              "    </tr>\n",
              "    <tr>\n",
              "      <th>1</th>\n",
              "      <td>Lucknow</td>\n",
              "      <td>Kochi</td>\n",
              "      <td>NaN</td>\n",
              "      <td>NaN</td>\n",
              "      <td>NaN</td>\n",
              "      <td>NaN</td>\n",
              "      <td>Indigo</td>\n",
              "    </tr>\n",
              "    <tr>\n",
              "      <th>2</th>\n",
              "      <td>delhi</td>\n",
              "      <td>Chandigarh</td>\n",
              "      <td>10065.0</td>\n",
              "      <td>24.0</td>\n",
              "      <td>43.0</td>\n",
              "      <td>87.0</td>\n",
              "      <td>Go Air</td>\n",
              "    </tr>\n",
              "    <tr>\n",
              "      <th>3</th>\n",
              "      <td>Mumbai</td>\n",
              "      <td>Hyderabad</td>\n",
              "      <td>NaN</td>\n",
              "      <td>13.0</td>\n",
              "      <td>NaN</td>\n",
              "      <td>NaN</td>\n",
              "      <td>Indigo</td>\n",
              "    </tr>\n",
              "    <tr>\n",
              "      <th>4</th>\n",
              "      <td>Chennai</td>\n",
              "      <td>Kolkata</td>\n",
              "      <td>10085.0</td>\n",
              "      <td>67.0</td>\n",
              "      <td>32.0</td>\n",
              "      <td>NaN</td>\n",
              "      <td>Vistara</td>\n",
              "    </tr>\n",
              "  </tbody>\n",
              "</table>\n",
              "</div>"
            ],
            "text/plain": [
              "      From          To  FlightNumber  Delay_1  Delay_2  Delay_3    Airline\n",
              "0    delhi   Hyderabad       10045.0     23.0     47.0      NaN  Air India\n",
              "1  Lucknow       Kochi           NaN      NaN      NaN      NaN     Indigo\n",
              "2    delhi  Chandigarh       10065.0     24.0     43.0     87.0     Go Air\n",
              "3   Mumbai   Hyderabad           NaN     13.0      NaN      NaN     Indigo\n",
              "4  Chennai     Kolkata       10085.0     67.0     32.0      NaN    Vistara"
            ]
          },
          "execution_count": 27,
          "metadata": {},
          "output_type": "execute_result"
        }
      ],
      "source": [
        "df.head()"
      ]
    },
    {
      "cell_type": "code",
      "execution_count": 28,
      "id": "52a725d4",
      "metadata": {},
      "outputs": [],
      "source": [
        "# print((df.loc[df.index[df[\"From\"]==\"Lucknow\"]])['To'])"
      ]
    },
    {
      "cell_type": "code",
      "execution_count": 29,
      "id": "717d4485",
      "metadata": {
        "colab": {
          "base_uri": "https://localhost:8080/"
        },
        "id": "717d4485",
        "outputId": "e88e1fdd-7253-4b20-d6da-c05078edff09"
      },
      "outputs": [
        {
          "name": "stdout",
          "output_type": "stream",
          "text": [
            "From Cities:   ['Lucknow', 'Mumbai']\n",
            "To Cities:   ['Kochi', 'Hyderabad']\n"
          ]
        }
      ],
      "source": [
        "## YOUR CODE HERE\n",
        "from_cities=[]\n",
        "to_cities=[]\n",
        "index=df.index[df['Airline'] == 'Indigo'].tolist()\n",
        "for i in index:\n",
        "  from_cities.append(df['From'][i])\n",
        "  to_cities.append(df['To'][i])\n",
        "print(\"From Cities:  \",from_cities)\n",
        "print(\"To Cities:  \",to_cities)"
      ]
    },
    {
      "cell_type": "markdown",
      "id": "466270e6",
      "metadata": {
        "id": "466270e6"
      },
      "source": [
        "### Question 13 (5 points)\n",
        "**Calculate the total number of missing values (they are `NaN`) in `df`.**"
      ]
    },
    {
      "cell_type": "code",
      "execution_count": 30,
      "id": "2d8f4abd",
      "metadata": {
        "colab": {
          "base_uri": "https://localhost:8080/"
        },
        "id": "2d8f4abd",
        "outputId": "faa428f0-6660-479b-b098-b97b2aaf04c7"
      },
      "outputs": [
        {
          "name": "stdout",
          "output_type": "stream",
          "text": [
            "9\n"
          ]
        }
      ],
      "source": [
        "## YOUR CODE HERE\n",
        "print(df.isna().sum().sum())\n"
      ]
    },
    {
      "cell_type": "markdown",
      "id": "b26b0d55",
      "metadata": {
        "id": "b26b0d55"
      },
      "source": [
        "### Task 14 (10 points)\n",
        "**Compute the average delay, disregarding any `NaN` values, across all flights. Subsequently, update `df` by substituting all `NaN` values within the `Delay_1`, `Delay_2`, and `Delay_3` columns with this computed average delay.**"
      ]
    },
    {
      "cell_type": "code",
      "execution_count": 31,
      "id": "b0e6425c",
      "metadata": {
        "id": "b0e6425c"
      },
      "outputs": [],
      "source": [
        "# YOUR CODE HERE\n",
        "avg = df[['Delay_1', 'Delay_2', 'Delay_3']].mean(skipna=True)\n",
        "average=avg.mean()\n",
        "df = pd.DataFrame(data)\n",
        "df1=df.copy()\n",
        "df1['Delay_1'] = df['Delay_1'].fillna(average)\n",
        "df2 = df1.copy()\n",
        "df2['Delay_2'] = df1['Delay_2'].fillna(average)\n",
        "df3=df2.copy()\n",
        "df3['Delay_3'] = df2['Delay_3'].fillna(average)\n",
        "df=df3.copy()"
      ]
    },
    {
      "cell_type": "code",
      "execution_count": 32,
      "id": "94c59963",
      "metadata": {
        "colab": {
          "base_uri": "https://localhost:8080/",
          "height": 206
        },
        "id": "94c59963",
        "outputId": "7d82a70b-13d0-4931-b39a-2c0e08a5d643"
      },
      "outputs": [
        {
          "data": {
            "text/html": [
              "<div>\n",
              "<style scoped>\n",
              "    .dataframe tbody tr th:only-of-type {\n",
              "        vertical-align: middle;\n",
              "    }\n",
              "\n",
              "    .dataframe tbody tr th {\n",
              "        vertical-align: top;\n",
              "    }\n",
              "\n",
              "    .dataframe thead th {\n",
              "        text-align: right;\n",
              "    }\n",
              "</style>\n",
              "<table border=\"1\" class=\"dataframe\">\n",
              "  <thead>\n",
              "    <tr style=\"text-align: right;\">\n",
              "      <th></th>\n",
              "      <th>From</th>\n",
              "      <th>To</th>\n",
              "      <th>FlightNumber</th>\n",
              "      <th>Delay_1</th>\n",
              "      <th>Delay_2</th>\n",
              "      <th>Delay_3</th>\n",
              "      <th>Airline</th>\n",
              "    </tr>\n",
              "  </thead>\n",
              "  <tbody>\n",
              "    <tr>\n",
              "      <th>0</th>\n",
              "      <td>delhi</td>\n",
              "      <td>Hyderabad</td>\n",
              "      <td>10045.0</td>\n",
              "      <td>23.000000</td>\n",
              "      <td>47.000000</td>\n",
              "      <td>53.138889</td>\n",
              "      <td>Air India</td>\n",
              "    </tr>\n",
              "    <tr>\n",
              "      <th>1</th>\n",
              "      <td>Lucknow</td>\n",
              "      <td>Kochi</td>\n",
              "      <td>NaN</td>\n",
              "      <td>53.138889</td>\n",
              "      <td>53.138889</td>\n",
              "      <td>53.138889</td>\n",
              "      <td>Indigo</td>\n",
              "    </tr>\n",
              "    <tr>\n",
              "      <th>2</th>\n",
              "      <td>delhi</td>\n",
              "      <td>Chandigarh</td>\n",
              "      <td>10065.0</td>\n",
              "      <td>24.000000</td>\n",
              "      <td>43.000000</td>\n",
              "      <td>87.000000</td>\n",
              "      <td>Go Air</td>\n",
              "    </tr>\n",
              "    <tr>\n",
              "      <th>3</th>\n",
              "      <td>Mumbai</td>\n",
              "      <td>Hyderabad</td>\n",
              "      <td>NaN</td>\n",
              "      <td>13.000000</td>\n",
              "      <td>53.138889</td>\n",
              "      <td>53.138889</td>\n",
              "      <td>Indigo</td>\n",
              "    </tr>\n",
              "    <tr>\n",
              "      <th>4</th>\n",
              "      <td>Chennai</td>\n",
              "      <td>Kolkata</td>\n",
              "      <td>10085.0</td>\n",
              "      <td>67.000000</td>\n",
              "      <td>32.000000</td>\n",
              "      <td>53.138889</td>\n",
              "      <td>Vistara</td>\n",
              "    </tr>\n",
              "  </tbody>\n",
              "</table>\n",
              "</div>"
            ],
            "text/plain": [
              "      From          To  FlightNumber    Delay_1    Delay_2    Delay_3  \\\n",
              "0    delhi   Hyderabad       10045.0  23.000000  47.000000  53.138889   \n",
              "1  Lucknow       Kochi           NaN  53.138889  53.138889  53.138889   \n",
              "2    delhi  Chandigarh       10065.0  24.000000  43.000000  87.000000   \n",
              "3   Mumbai   Hyderabad           NaN  13.000000  53.138889  53.138889   \n",
              "4  Chennai     Kolkata       10085.0  67.000000  32.000000  53.138889   \n",
              "\n",
              "     Airline  \n",
              "0  Air India  \n",
              "1     Indigo  \n",
              "2     Go Air  \n",
              "3     Indigo  \n",
              "4    Vistara  "
            ]
          },
          "execution_count": 32,
          "metadata": {},
          "output_type": "execute_result"
        }
      ],
      "source": [
        "df.head()"
      ]
    },
    {
      "cell_type": "markdown",
      "id": "c5452f65",
      "metadata": {
        "id": "c5452f65"
      },
      "source": [
        "### Task 15 (10 points)\n",
        "**Fill in missing values in the `FlightNumber` column. The `FlightNumber` is expected to increase by 10 with each subsequent row. For instance, at row indices 1 and 3, the `FlightNumber` should be 10055 and 10075 respectively. Adjust the `df` to incorporate these changes and convert the column to integer type.**"
      ]
    },
    {
      "cell_type": "code",
      "execution_count": 33,
      "id": "cce26572",
      "metadata": {
        "colab": {
          "base_uri": "https://localhost:8080/"
        },
        "id": "cce26572",
        "outputId": "e5718cd7-6895-4ac3-a385-fc043cf959cf"
      },
      "outputs": [
        {
          "name": "stdout",
          "output_type": "stream",
          "text": [
            "      From          To  FlightNumber    Delay_1    Delay_2    Delay_3  \\\n",
            "0    delhi   Hyderabad         10045  23.000000  47.000000  53.138889   \n",
            "1  Lucknow       Kochi         10055  53.138889  53.138889  53.138889   \n",
            "2    delhi  Chandigarh         10065  24.000000  43.000000  87.000000   \n",
            "3   Mumbai   Hyderabad         10075  13.000000  53.138889  53.138889   \n",
            "4  Chennai     Kolkata         10085  67.000000  32.000000  53.138889   \n",
            "\n",
            "     Airline  \n",
            "0  Air India  \n",
            "1     Indigo  \n",
            "2     Go Air  \n",
            "3     Indigo  \n",
            "4    Vistara  \n"
          ]
        },
        {
          "name": "stderr",
          "output_type": "stream",
          "text": [
            "C:\\Users\\Aayush\\AppData\\Local\\Temp\\ipykernel_59096\\759912295.py:4: FutureWarning: ChainedAssignmentError: behaviour will change in pandas 3.0!\n",
            "You are setting values through chained assignment. Currently this works in certain cases, but when using Copy-on-Write (which will become the default behaviour in pandas 3.0) this will never work to update the original DataFrame or Series, because the intermediate object on which we are setting values will behave as a copy.\n",
            "A typical example is when you are setting values in a column of a DataFrame, like:\n",
            "\n",
            "df[\"col\"][row_indexer] = value\n",
            "\n",
            "Use `df.loc[row_indexer, \"col\"] = values` instead, to perform the assignment in a single step and ensure this keeps updating the original `df`.\n",
            "\n",
            "See the caveats in the documentation: https://pandas.pydata.org/pandas-docs/stable/user_guide/indexing.html#returning-a-view-versus-a-copy\n",
            "\n",
            "  df['FlightNumber'][i]=df['FlightNumber'][i-1]+10\n",
            "C:\\Users\\Aayush\\AppData\\Local\\Temp\\ipykernel_59096\\759912295.py:4: SettingWithCopyWarning: \n",
            "A value is trying to be set on a copy of a slice from a DataFrame\n",
            "\n",
            "See the caveats in the documentation: https://pandas.pydata.org/pandas-docs/stable/user_guide/indexing.html#returning-a-view-versus-a-copy\n",
            "  df['FlightNumber'][i]=df['FlightNumber'][i-1]+10\n",
            "C:\\Users\\Aayush\\AppData\\Local\\Temp\\ipykernel_59096\\759912295.py:4: FutureWarning: ChainedAssignmentError: behaviour will change in pandas 3.0!\n",
            "You are setting values through chained assignment. Currently this works in certain cases, but when using Copy-on-Write (which will become the default behaviour in pandas 3.0) this will never work to update the original DataFrame or Series, because the intermediate object on which we are setting values will behave as a copy.\n",
            "A typical example is when you are setting values in a column of a DataFrame, like:\n",
            "\n",
            "df[\"col\"][row_indexer] = value\n",
            "\n",
            "Use `df.loc[row_indexer, \"col\"] = values` instead, to perform the assignment in a single step and ensure this keeps updating the original `df`.\n",
            "\n",
            "See the caveats in the documentation: https://pandas.pydata.org/pandas-docs/stable/user_guide/indexing.html#returning-a-view-versus-a-copy\n",
            "\n",
            "  df['FlightNumber'][i]=df['FlightNumber'][i-1]+10\n",
            "C:\\Users\\Aayush\\AppData\\Local\\Temp\\ipykernel_59096\\759912295.py:4: SettingWithCopyWarning: \n",
            "A value is trying to be set on a copy of a slice from a DataFrame\n",
            "\n",
            "See the caveats in the documentation: https://pandas.pydata.org/pandas-docs/stable/user_guide/indexing.html#returning-a-view-versus-a-copy\n",
            "  df['FlightNumber'][i]=df['FlightNumber'][i-1]+10\n"
          ]
        }
      ],
      "source": [
        "## YOUR CODE HERE\n",
        "index1=df.loc[pd.isna(df['FlightNumber']), :].index.tolist()\n",
        "for i in index1:\n",
        "  df['FlightNumber'][i]=df['FlightNumber'][i-1]+10\n",
        "\n",
        "df['FlightNumber']=df['FlightNumber'].astype(int)\n",
        "print(df)"
      ]
    },
    {
      "cell_type": "code",
      "execution_count": 34,
      "id": "7f581e05",
      "metadata": {
        "colab": {
          "base_uri": "https://localhost:8080/",
          "height": 206
        },
        "id": "7f581e05",
        "outputId": "07227ef0-575d-4e7d-d064-4ed88865c00b"
      },
      "outputs": [
        {
          "data": {
            "text/html": [
              "<div>\n",
              "<style scoped>\n",
              "    .dataframe tbody tr th:only-of-type {\n",
              "        vertical-align: middle;\n",
              "    }\n",
              "\n",
              "    .dataframe tbody tr th {\n",
              "        vertical-align: top;\n",
              "    }\n",
              "\n",
              "    .dataframe thead th {\n",
              "        text-align: right;\n",
              "    }\n",
              "</style>\n",
              "<table border=\"1\" class=\"dataframe\">\n",
              "  <thead>\n",
              "    <tr style=\"text-align: right;\">\n",
              "      <th></th>\n",
              "      <th>From</th>\n",
              "      <th>To</th>\n",
              "      <th>FlightNumber</th>\n",
              "      <th>Delay_1</th>\n",
              "      <th>Delay_2</th>\n",
              "      <th>Delay_3</th>\n",
              "      <th>Airline</th>\n",
              "    </tr>\n",
              "  </thead>\n",
              "  <tbody>\n",
              "    <tr>\n",
              "      <th>0</th>\n",
              "      <td>delhi</td>\n",
              "      <td>Hyderabad</td>\n",
              "      <td>10045</td>\n",
              "      <td>23.000000</td>\n",
              "      <td>47.000000</td>\n",
              "      <td>53.138889</td>\n",
              "      <td>Air India</td>\n",
              "    </tr>\n",
              "    <tr>\n",
              "      <th>1</th>\n",
              "      <td>Lucknow</td>\n",
              "      <td>Kochi</td>\n",
              "      <td>10055</td>\n",
              "      <td>53.138889</td>\n",
              "      <td>53.138889</td>\n",
              "      <td>53.138889</td>\n",
              "      <td>Indigo</td>\n",
              "    </tr>\n",
              "    <tr>\n",
              "      <th>2</th>\n",
              "      <td>delhi</td>\n",
              "      <td>Chandigarh</td>\n",
              "      <td>10065</td>\n",
              "      <td>24.000000</td>\n",
              "      <td>43.000000</td>\n",
              "      <td>87.000000</td>\n",
              "      <td>Go Air</td>\n",
              "    </tr>\n",
              "    <tr>\n",
              "      <th>3</th>\n",
              "      <td>Mumbai</td>\n",
              "      <td>Hyderabad</td>\n",
              "      <td>10075</td>\n",
              "      <td>13.000000</td>\n",
              "      <td>53.138889</td>\n",
              "      <td>53.138889</td>\n",
              "      <td>Indigo</td>\n",
              "    </tr>\n",
              "    <tr>\n",
              "      <th>4</th>\n",
              "      <td>Chennai</td>\n",
              "      <td>Kolkata</td>\n",
              "      <td>10085</td>\n",
              "      <td>67.000000</td>\n",
              "      <td>32.000000</td>\n",
              "      <td>53.138889</td>\n",
              "      <td>Vistara</td>\n",
              "    </tr>\n",
              "  </tbody>\n",
              "</table>\n",
              "</div>"
            ],
            "text/plain": [
              "      From          To  FlightNumber    Delay_1    Delay_2    Delay_3  \\\n",
              "0    delhi   Hyderabad         10045  23.000000  47.000000  53.138889   \n",
              "1  Lucknow       Kochi         10055  53.138889  53.138889  53.138889   \n",
              "2    delhi  Chandigarh         10065  24.000000  43.000000  87.000000   \n",
              "3   Mumbai   Hyderabad         10075  13.000000  53.138889  53.138889   \n",
              "4  Chennai     Kolkata         10085  67.000000  32.000000  53.138889   \n",
              "\n",
              "     Airline  \n",
              "0  Air India  \n",
              "1     Indigo  \n",
              "2     Go Air  \n",
              "3     Indigo  \n",
              "4    Vistara  "
            ]
          },
          "execution_count": 34,
          "metadata": {},
          "output_type": "execute_result"
        }
      ],
      "source": [
        "df.head()"
      ]
    },
    {
      "cell_type": "code",
      "execution_count": 35,
      "id": "3b3dc16b",
      "metadata": {
        "colab": {
          "base_uri": "https://localhost:8080/"
        },
        "id": "3b3dc16b",
        "outputId": "4c32f492-92e7-4aa2-d755-181815d6ae40"
      },
      "outputs": [
        {
          "name": "stdout",
          "output_type": "stream",
          "text": [
            "<class 'pandas.core.frame.DataFrame'>\n",
            "RangeIndex: 5 entries, 0 to 4\n",
            "Data columns (total 7 columns):\n",
            " #   Column        Non-Null Count  Dtype  \n",
            "---  ------        --------------  -----  \n",
            " 0   From          5 non-null      object \n",
            " 1   To            5 non-null      object \n",
            " 2   FlightNumber  5 non-null      int32  \n",
            " 3   Delay_1       5 non-null      float64\n",
            " 4   Delay_2       5 non-null      float64\n",
            " 5   Delay_3       5 non-null      float64\n",
            " 6   Airline       5 non-null      object \n",
            "dtypes: float64(3), int32(1), object(3)\n",
            "memory usage: 392.0+ bytes\n"
          ]
        }
      ],
      "source": [
        "df.info()"
      ]
    }
  ],
  "metadata": {
    "colab": {
      "provenance": []
    },
    "kernelspec": {
      "display_name": "Python 3",
      "language": "python",
      "name": "python3"
    },
    "language_info": {
      "codemirror_mode": {
        "name": "ipython",
        "version": 3
      },
      "file_extension": ".py",
      "mimetype": "text/x-python",
      "name": "python",
      "nbconvert_exporter": "python",
      "pygments_lexer": "ipython3",
      "version": "3.12.3"
    }
  },
  "nbformat": 4,
  "nbformat_minor": 5
}
