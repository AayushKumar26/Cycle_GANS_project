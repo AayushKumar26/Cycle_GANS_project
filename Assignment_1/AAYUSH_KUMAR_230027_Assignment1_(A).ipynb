{
  "cells": [
    {
      "cell_type": "markdown",
      "metadata": {
        "id": "kIAcUXNYVeGR"
      },
      "source": [
        "Instructions for the assignment\n",
        "\n",
        "\n",
        "*   Fill the codeblocks according to the comments given\n",
        "*   Hints are given wherever required\n",
        "*   Please note that copying will not be tolerated, and appropriate action will be taken if we suspect any misconduct.\n",
        "*   You're welcome to utilize any online resources in case you feel stuck anywhere :-)\n",
        "\n",
        "\n",
        "\n",
        "\n",
        "\n",
        "\n",
        "\n"
      ]
    },
    {
      "cell_type": "markdown",
      "metadata": {
        "id": "UhXvUdK6Stt_"
      },
      "source": [
        "# Section A *(2 Marks each)*"
      ]
    },
    {
      "cell_type": "markdown",
      "metadata": {
        "id": "oc77CrhjAGlR"
      },
      "source": [
        "## NumPy (Numerical Python)\n",
        "**bold text**\n",
        "### Multidimensional array object\n",
        "- Array is a grid of homogeneous elements which can be indexed in various ways\n",
        "- Different from Python list which can store different data types\n",
        "- NumPy stores multidimensional arrays as an instance of **ndarray**\n",
        "\n"
      ]
    },
    {
      "cell_type": "code",
      "execution_count": 11,
      "metadata": {
        "id": "WGtRigfyBpgb"
      },
      "outputs": [],
      "source": [
        "import numpy as np"
      ]
    },
    {
      "cell_type": "code",
      "execution_count": 12,
      "metadata": {
        "colab": {
          "base_uri": "https://localhost:8080/"
        },
        "id": "UR9ftRnU8_lu",
        "outputId": "b030f5cb-e9e0-4448-9a9c-8da76cf15308"
      },
      "outputs": [
        {
          "name": "stdout",
          "output_type": "stream",
          "text": [
            "[1 2 3 4 5]\n",
            "[[1 2 3]\n",
            " [4 5 6]\n",
            " [7 8 9]]\n"
          ]
        }
      ],
      "source": [
        "# Python list to initialize a one dimensional NumPy array of numbers 1 to 5 and then print it\n",
        "numbers=[1,2,3,4,5]\n",
        "arr= np.array(numbers)\n",
        "print(arr)\n",
        "# Python list to initialize a two dimensional NumPy array of shape [3,3] and then print it\n",
        "twoD= np.array([[1,2,3],[4,5,6],[7,8,9]])\n",
        "print(twoD)"
      ]
    },
    {
      "cell_type": "code",
      "execution_count": 13,
      "metadata": {
        "colab": {
          "base_uri": "https://localhost:8080/"
        },
        "id": "WZf-M7KnBkhu",
        "outputId": "15aa1090-f7a8-45bd-8e97-8480e5edd4fa"
      },
      "outputs": [
        {
          "name": "stdout",
          "output_type": "stream",
          "text": [
            "[[0.76801286 0.080463   0.07035443 0.00680752]\n",
            " [0.47428302 0.60153759 0.21987711 0.83269755]\n",
            " [0.96029274 0.14940176 0.5947036  0.80154648]]\n",
            "[[0. 0. 0. 0.]\n",
            " [0. 0. 0. 0.]\n",
            " [0. 0. 0. 0.]]\n",
            "[[1. 1. 1. 1.]\n",
            " [1. 1. 1. 1.]\n",
            " [1. 1. 1. 1.]]\n"
          ]
        }
      ],
      "source": [
        "# Write a NumPy function to create an array with random values of shape [3,4]\n",
        "ran=np.random.rand(3,4)\n",
        "print(ran)\n",
        "# Write a NumPy function to create an array with all elements initialized as zero of shape [3,4]\n",
        "arr1=np.zeros((3,4))\n",
        "print(arr1)\n",
        "# Write a NumPy function to create an array with all elements initialized as ones of shape [3,4]\n",
        "arr2=np.ones((3,4))\n",
        "print(arr2)"
      ]
    },
    {
      "cell_type": "code",
      "execution_count": 14,
      "metadata": {
        "colab": {
          "base_uri": "https://localhost:8080/"
        },
        "id": "Uagv5WtWBknb",
        "outputId": "6fb36d02-b29f-47e0-d01d-22b830d9705f"
      },
      "outputs": [
        {
          "name": "stdout",
          "output_type": "stream",
          "text": [
            "[ 3  4  5  6  7  8  9 10 11 12 13 14 15 16 17]\n"
          ]
        }
      ],
      "source": [
        "# Write a NumPy function to create an array containing a range of evenly spaced intervals\n",
        "even= np.arange(3,18)\n",
        "print(even)\n",
        "# Hint : Use np.arange or np.linspace"
      ]
    },
    {
      "cell_type": "markdown",
      "metadata": {
        "id": "dFeKiGA5CNXx"
      },
      "source": [
        "### Basic array operations\n",
        "- algebraic operations\n",
        "- logical operations"
      ]
    },
    {
      "cell_type": "code",
      "execution_count": 15,
      "metadata": {
        "id": "mZbgCNnRDVbV"
      },
      "outputs": [],
      "source": [
        "a = np.array([[-4,6,8], [9, 3, 1], [1, 8, 5]])\n",
        "b = np.array([[11,16,18], [90, 37, 81], [61, 48, 75]])"
      ]
    },
    {
      "cell_type": "code",
      "execution_count": 16,
      "metadata": {
        "colab": {
          "base_uri": "https://localhost:8080/"
        },
        "id": "QajfAkNHCMqe",
        "outputId": "31f89372-938a-407d-dc7b-e53b868c1ef5"
      },
      "outputs": [
        {
          "name": "stdout",
          "output_type": "stream",
          "text": [
            "[[ 7 22 26]\n",
            " [99 40 82]\n",
            " [62 56 80]]\n",
            "[[-15 -10 -10]\n",
            " [-81 -34 -80]\n",
            " [-60 -40 -70]]\n",
            "[[-44  96 144]\n",
            " [810 111  81]\n",
            " [ 61 384 375]]\n",
            "[[-0.36363636  0.375       0.44444444]\n",
            " [ 0.1         0.08108108  0.01234568]\n",
            " [ 0.01639344  0.16666667  0.06666667]]\n"
          ]
        }
      ],
      "source": [
        "# Write a NumPy function to add, subtract, multiply and divide arrays 'a' and 'b'\n",
        "sum=np.add(a,b)\n",
        "print(sum)\n",
        "diff=np.subtract(a,b)\n",
        "print(diff)\n",
        "pdt=np.multiply(a,b)\n",
        "print(pdt)\n",
        "div=np.divide(a,b)\n",
        "print(div)"
      ]
    },
    {
      "cell_type": "code",
      "execution_count": 17,
      "metadata": {
        "colab": {
          "base_uri": "https://localhost:8080/"
        },
        "id": "hfBR7r80C_qh",
        "outputId": "d8c933a1-ee96-4460-a0c8-bb962a2dd8b0"
      },
      "outputs": [
        {
          "name": "stdout",
          "output_type": "stream",
          "text": [
            "[ 6 17 14]\n",
            "[10 13 14]\n"
          ]
        }
      ],
      "source": [
        "# Write a NumPy function to get the sum of the array 'a' along axis=0\n",
        "alongZERO=np.sum(a,axis=0)\n",
        "print(alongZERO)\n",
        "# Write a NumPy function to get the sum of the array 'a' along axis=1\n",
        "alongONE=np.sum(a,axis=1)\n",
        "print(alongONE)"
      ]
    },
    {
      "cell_type": "code",
      "execution_count": 18,
      "metadata": {
        "colab": {
          "base_uri": "https://localhost:8080/"
        },
        "id": "rBTxfTuFDSiA",
        "outputId": "c77c7b3c-f7a5-4665-a013-9c88fda209c4"
      },
      "outputs": [
        {
          "name": "stdout",
          "output_type": "stream",
          "text": [
            "[[ 5  8  1]\n",
            " [ 1  3  9]\n",
            " [ 8  6 -4]]\n",
            "[[ 1  8  5]\n",
            " [ 9  3  1]\n",
            " [-4  6  8]]\n",
            "[[ 8  6 -4]\n",
            " [ 1  3  9]\n",
            " [ 5  8  1]]\n"
          ]
        }
      ],
      "source": [
        "# Write a NumPy function to reverse the array 'a'\n",
        "rev=np.flip(a)\n",
        "print(rev)\n",
        "# Write a NumPy function to reverse the array 'a' along axis=0\n",
        "rev1=np.flip(a,axis=0)\n",
        "print(rev1)\n",
        "# Write a NumPy function to reverse the array 'a' along axis=1\n",
        "rev2=np.flip(a,axis=1)\n",
        "print(rev2)"
      ]
    },
    {
      "cell_type": "markdown",
      "metadata": {
        "id": "WnCvXc3jCdWH"
      },
      "source": [
        "### Sorting and concatenation\n",
        "- sort arrays\n",
        "- join multiple arrays\n"
      ]
    },
    {
      "cell_type": "code",
      "execution_count": 19,
      "metadata": {
        "id": "Qsg-EPq7EbPx"
      },
      "outputs": [],
      "source": [
        "a = np.array([[-4,6,8], [9, 3, 1], [1, 8, 5]])\n",
        "\n",
        "b = np.array([[11,16,18], [90, 37, 81], [61, 48, 75]])"
      ]
    },
    {
      "cell_type": "code",
      "execution_count": 20,
      "metadata": {
        "colab": {
          "base_uri": "https://localhost:8080/"
        },
        "id": "_7VfP1anCc0O",
        "outputId": "b331511d-cc0f-461f-e334-eecb14c2da96"
      },
      "outputs": [
        {
          "name": "stdout",
          "output_type": "stream",
          "text": [
            "[[-4  6  8]\n",
            " [ 1  3  9]\n",
            " [ 1  5  8]]\n",
            "[[-4  3  1]\n",
            " [ 1  6  5]\n",
            " [ 9  8  8]]\n",
            "[[-4  6  8]\n",
            " [ 1  3  9]\n",
            " [ 1  5  8]]\n",
            "[[ 9  8  8]\n",
            " [ 1  6  5]\n",
            " [-4  3  1]]\n"
          ]
        }
      ],
      "source": [
        "# Write a NumPy function to sort the array 'a'\n",
        "sort1=np.sort(a)\n",
        "print(sort1)\n",
        "# Write a NumPy function to sort the array 'a' along axis=0\n",
        "sort2=np.sort(a,axis=0)\n",
        "print(sort2)\n",
        "# Write a NumPy function to sort the array 'a' along axis=1\n",
        "sort3=np.sort(a,axis=1)\n",
        "print(sort3)\n",
        "# Write a NumPy function to sort the array 'a' in descending order along axis=0\n",
        "sort4=np.sort(a,axis=0)[::-1]\n",
        "print(sort4)"
      ]
    },
    {
      "cell_type": "code",
      "execution_count": 21,
      "metadata": {
        "colab": {
          "base_uri": "https://localhost:8080/"
        },
        "id": "6BqbtdLYEWng",
        "outputId": "5fbe6603-d5ba-434b-98d2-d8465527bfda"
      },
      "outputs": [
        {
          "name": "stdout",
          "output_type": "stream",
          "text": [
            "[[0 1 1]\n",
            " [2 0 2]\n",
            " [1 2 0]]\n",
            "[[0 1 2]\n",
            " [2 1 0]\n",
            " [0 2 1]]\n"
          ]
        }
      ],
      "source": [
        "# Write a NumPy function to argsort the array along axis=0\n",
        "sort5=np.argsort(a,axis=0)\n",
        "print(sort5)\n",
        "# Write a NumPy function to argsort the array along axis=1\n",
        "sort6=np.argsort(a,axis=1)\n",
        "print(sort6)"
      ]
    },
    {
      "cell_type": "code",
      "execution_count": 22,
      "metadata": {
        "colab": {
          "base_uri": "https://localhost:8080/"
        },
        "id": "cixOoXZhEY8-",
        "outputId": "4f16bf69-1f15-4742-9c37-9104e1f906e7"
      },
      "outputs": [
        {
          "name": "stdout",
          "output_type": "stream",
          "text": [
            "[[-4  6  8]\n",
            " [ 9  3  1]\n",
            " [ 1  8  5]\n",
            " [11 16 18]\n",
            " [90 37 81]\n",
            " [61 48 75]]\n",
            "[[-4  6  8]\n",
            " [ 9  3  1]\n",
            " [ 1  8  5]\n",
            " [11 16 18]\n",
            " [90 37 81]\n",
            " [61 48 75]]\n",
            "[[-4  6  8]\n",
            " [ 9  3  1]\n",
            " [ 1  8  5]\n",
            " [11 16 18]\n",
            " [90 37 81]\n",
            " [61 48 75]]\n",
            "[[-4  6  8 11 16 18]\n",
            " [ 9  3  1 90 37 81]\n",
            " [ 1  8  5 61 48 75]]\n"
          ]
        }
      ],
      "source": [
        "# Write a NumPy function to concatenate the arrays 'a' and 'b'\n",
        "conc1= np.concatenate((a,b))\n",
        "print(conc1)\n",
        "# Write a NumPy function to concatenate the arrays 'a' and 'b' along axis = 0\n",
        "conc2= np.concatenate((a,b),axis=0)\n",
        "print(conc2)\n",
        "# Note: You can do the same function using stacking, discover and try that :)\n",
        "stack1=np.vstack((a,b))   #along columns\n",
        "print(stack1)  #along columns\n",
        "stack2=np.hstack((a,b))   #along rows\n",
        "print(stack2)"
      ]
    },
    {
      "cell_type": "markdown",
      "metadata": {
        "id": "aY0j33z2EjNx"
      },
      "source": [
        "### Reshaping arrays\n",
        "- the number of dimensions of the array\n",
        "-  shape of n-dimensional array as a tuple with n elements s.t. $i^{th}$ element is the length of the $i^{th}$ dimension of the array\n",
        "- total number of elements of the array\n",
        "- reshapes the array\n",
        "- flattens multidimensional array into a 1D array\n",
        "- adds new dimensions to the array"
      ]
    },
    {
      "cell_type": "code",
      "execution_count": 23,
      "metadata": {
        "id": "sStUkoh1FG4N"
      },
      "outputs": [],
      "source": [
        "a = np.array([[4,6,8], [9, 3, 1], [1, 8, 5]])"
      ]
    },
    {
      "cell_type": "code",
      "execution_count": 24,
      "metadata": {
        "colab": {
          "base_uri": "https://localhost:8080/"
        },
        "id": "vb35oi57Ev1f",
        "outputId": "0ea4e581-387c-46cc-8843-05c6ead39b67"
      },
      "outputs": [
        {
          "name": "stdout",
          "output_type": "stream",
          "text": [
            "2\n",
            "(3, 3)\n",
            "9\n"
          ]
        }
      ],
      "source": [
        "# Write a NumPy function to get the Number of dimensions\n",
        "d=np.ndim(a)\n",
        "print(d)\n",
        "# Write a NumPy function to get the Shape of the array\n",
        "sha=np.shape(a)\n",
        "print(sha)\n",
        "# Write a NumPy function to get the Size of the array\n",
        "siz=np.size(a)\n",
        "print(siz)"
      ]
    },
    {
      "cell_type": "code",
      "execution_count": 25,
      "metadata": {
        "colab": {
          "base_uri": "https://localhost:8080/"
        },
        "id": "MznU0NWKE54c",
        "outputId": "237b9c26-1b80-4a95-e39d-d2d798ff14ca"
      },
      "outputs": [
        {
          "name": "stdout",
          "output_type": "stream",
          "text": [
            "[[4 6 8 9 3 1 1 8 5]]\n"
          ]
        }
      ],
      "source": [
        "# Write a NumPy function to Reshape the array 'a' to the dimension (1,9)\n",
        "reshaped=np.reshape(a,(1,9))\n",
        "print(reshaped)"
      ]
    },
    {
      "cell_type": "code",
      "execution_count": 26,
      "metadata": {
        "colab": {
          "base_uri": "https://localhost:8080/"
        },
        "id": "p1dlxcNYE8tv",
        "outputId": "61734e14-a589-4323-e617-34d65df19b7f"
      },
      "outputs": [
        {
          "name": "stdout",
          "output_type": "stream",
          "text": [
            "3\n",
            "(1, 3, 3)\n",
            "3\n",
            "(3, 1, 3)\n"
          ]
        }
      ],
      "source": [
        "# Write a NumPy function to add a new axis to the array 'a'\n",
        "\n",
        "# Note : Show atleast two different ways of doing this\n",
        "#1st way:\n",
        "ThreeD=a[np.newaxis]\n",
        "print(np.ndim(ThreeD))\n",
        "print(np.shape(ThreeD))\n",
        "#2nd way:\n",
        "ThreeD2= np.expand_dims(a,axis=1)\n",
        "print(np.ndim(ThreeD2))\n",
        "print(np.shape(ThreeD2))"
      ]
    },
    {
      "cell_type": "markdown",
      "metadata": {
        "id": "Ng4xWkwpFtao"
      },
      "source": [
        "### Indexing and slicing\n",
        "- NumPy allows indexing array using tuple of nonnegative integers, booleans, array or integers"
      ]
    },
    {
      "cell_type": "code",
      "execution_count": 27,
      "metadata": {
        "id": "swrtOhPGGB7r"
      },
      "outputs": [],
      "source": [
        "a = np.array([[4,6,0], [0, 3, 1], [1, 8, 5]])"
      ]
    },
    {
      "cell_type": "code",
      "execution_count": 28,
      "metadata": {
        "colab": {
          "base_uri": "https://localhost:8080/"
        },
        "id": "w3QaVYRyFs77",
        "outputId": "076c122b-46c0-4831-e579-6050868c1c48"
      },
      "outputs": [
        {
          "name": "stdout",
          "output_type": "stream",
          "text": [
            "3\n",
            "[[0 3]\n",
            " [1 8]]\n",
            "[4 3 5]\n",
            "[4 6 0]\n",
            "4\n",
            "6\n",
            "0\n",
            "0\n",
            "3\n",
            "1\n",
            "1\n",
            "8\n",
            "5\n"
          ]
        }
      ],
      "source": [
        "# Write a NumPy function to index and slice NumPy arrays similar to Python lists\n",
        "print(a[1,1])\n",
        "print(a[1:3,0:2])\n",
        "# Show all three - indexing by a integer, indexing by a tuple, using range\n",
        "#indexing by integer\n",
        "print(a[[0,1,2],[0,1,2]])\n",
        "#indexing by a tuple\n",
        "print(a[(0,1,2)[0]])\n",
        "#indexing using range\n",
        "for i in range(3):\n",
        "  for j in range(3):\n",
        "     print(a[i][j])"
      ]
    },
    {
      "cell_type": "code",
      "execution_count": 29,
      "metadata": {
        "colab": {
          "base_uri": "https://localhost:8080/"
        },
        "id": "Xn2_z5h-Fmrd",
        "outputId": "ac5a203d-5802-4ac3-f6b1-2be0973a1366"
      },
      "outputs": [
        {
          "name": "stdout",
          "output_type": "stream",
          "text": [
            "[6 8 5]\n",
            "[6 8]\n"
          ]
        }
      ],
      "source": [
        "# Write a NumPy function to select values satisfying a specific condition like Values greater than 4\n",
        "selected= np.extract([a>4],[a])\n",
        "print(selected)\n",
        "# Write a NumPy function to select values satisfying mulitple conditions like Values greater than 4 and divisible by 2\n",
        "selectedM=np.extract([(a>4) & (a%2==0)],[a])\n",
        "print(selectedM)"
      ]
    },
    {
      "cell_type": "markdown",
      "metadata": {
        "id": "GWU0EfaAG2ll"
      },
      "source": [
        "### Copying arrays\n",
        "- new array object with a copy of the data\n",
        "- Changes made in the copy array is not reflected in the original array"
      ]
    },
    {
      "cell_type": "code",
      "execution_count": 30,
      "metadata": {
        "id": "ijdgy02lHMJW"
      },
      "outputs": [],
      "source": [
        "a = np.array([[4,6,0], [0, 3, 1], [1, 8, 5]])"
      ]
    },
    {
      "cell_type": "code",
      "execution_count": 31,
      "metadata": {
        "colab": {
          "base_uri": "https://localhost:8080/"
        },
        "id": "FmgUdh66GuQH",
        "outputId": "15106d4a-a7a8-45c9-9d5c-3e5d67b61d29"
      },
      "outputs": [
        {
          "name": "stdout",
          "output_type": "stream",
          "text": [
            "[[5 7 1]\n",
            " [1 4 2]\n",
            " [2 9 6]]\n"
          ]
        }
      ],
      "source": [
        "# Write a NumPy function to copy the array 'a' and finally print an array where all elements are increased by 1\n",
        "copied=np.copy(a)\n",
        "copied+=1\n",
        "print(copied)"
      ]
    },
    {
      "cell_type": "markdown",
      "metadata": {
        "id": "M1KLD5QxHsVw"
      },
      "source": [
        "## Pandas ( Python Data Analysis Library)\n",
        "\n",
        "### Main Features\n",
        "- Easy handling of missing data in both floating point and non-floating point data.\n",
        "- Automatic and explicit data alignment, making it easy to perform computations and transformations on data sets.\n",
        "\n"
      ]
    },
    {
      "cell_type": "markdown",
      "metadata": {
        "id": "v1CuU3FeIq1a"
      },
      "source": [
        "#### Generating the dataset"
      ]
    },
    {
      "cell_type": "markdown",
      "metadata": {
        "id": "fp36ZqOMIy7k"
      },
      "source": [
        "Run the following load command to get the 2-Dim iris dataset. Do the following operations on it and please dont edit this cell"
      ]
    },
    {
      "cell_type": "code",
      "execution_count": 32,
      "metadata": {
        "id": "3X7bVtF-T10_"
      },
      "outputs": [],
      "source": [
        "import pandas as pd"
      ]
    },
    {
      "cell_type": "code",
      "execution_count": 33,
      "metadata": {
        "id": "A_O5RTBXIyK-"
      },
      "outputs": [],
      "source": [
        "url = 'https://archive.ics.uci.edu/ml/machine-learning-databases/iris/iris.data'\n",
        "iris_2d = np.genfromtxt(url, delimiter=',', dtype='float', usecols=[0,1,2,3])"
      ]
    },
    {
      "cell_type": "markdown",
      "metadata": {
        "id": "EILb6pPrS8Ju"
      },
      "source": [
        "#### Basic Data Analysis"
      ]
    },
    {
      "cell_type": "code",
      "execution_count": 34,
      "metadata": {
        "colab": {
          "base_uri": "https://localhost:8080/"
        },
        "id": "bViO1LLoI7sz",
        "outputId": "f58b606d-fa01-469c-c8cc-b4f445603016"
      },
      "outputs": [
        {
          "name": "stdout",
          "output_type": "stream",
          "text": [
            "       0    1    2    3\n",
            "0    5.1  3.5  1.4  0.2\n",
            "1    4.9  3.0  1.4  0.2\n",
            "2    4.7  3.2  1.3  0.2\n",
            "3    4.6  3.1  1.5  0.2\n",
            "4    5.0  3.6  1.4  0.2\n",
            "..   ...  ...  ...  ...\n",
            "145  6.7  3.0  5.2  2.3\n",
            "146  6.3  2.5  5.0  1.9\n",
            "147  6.5  3.0  5.2  2.0\n",
            "148  6.2  3.4  5.4  2.3\n",
            "149  5.9  3.0  5.1  1.8\n",
            "\n",
            "[150 rows x 4 columns]\n"
          ]
        }
      ],
      "source": [
        "# Write a Pandas function to drop rows that contain a missing value.\n",
        "\n",
        "dframe=pd.DataFrame(iris_2d)\n",
        "afterDrop=dframe.dropna()\n",
        "print(afterDrop)"
      ]
    },
    {
      "cell_type": "code",
      "execution_count": 35,
      "metadata": {
        "colab": {
          "base_uri": "https://localhost:8080/"
        },
        "id": "zp_BYv5EJDjJ",
        "outputId": "acab38d5-e4b7-44d8-aa07-1d661af653a1"
      },
      "outputs": [
        {
          "name": "stdout",
          "output_type": "stream",
          "text": [
            "-0.10936924995064938\n"
          ]
        }
      ],
      "source": [
        "# Write a Pandas function to find the correlation between the first two columns.\n",
        "correlation=dframe[0].corr(dframe[1])\n",
        "print(correlation)"
      ]
    },
    {
      "cell_type": "code",
      "execution_count": 36,
      "metadata": {
        "colab": {
          "base_uri": "https://localhost:8080/"
        },
        "id": "0mjeoZCwJDoW",
        "outputId": "af5514a8-1ca6-4341-96cf-8bce2d1508ad"
      },
      "outputs": [
        {
          "name": "stdout",
          "output_type": "stream",
          "text": [
            "3.758666666666666\n",
            "4.35\n",
            "1.7644204199522626\n"
          ]
        }
      ],
      "source": [
        "# Write a Pandas function to find the mean, median and standard deviation of column 3.\n",
        "mean=dframe[2].mean()\n",
        "print(mean)\n",
        "median=dframe[2].median()\n",
        "print(median)\n",
        "std=dframe[2].std()\n",
        "print(std)\n"
      ]
    },
    {
      "cell_type": "code",
      "execution_count": 37,
      "metadata": {
        "colab": {
          "base_uri": "https://localhost:8080/"
        },
        "id": "bRiYEhWTJDrM",
        "outputId": "d81a5fa9-28d2-44bc-9aee-6e5f6bd0f429"
      },
      "outputs": [
        {
          "name": "stdout",
          "output_type": "stream",
          "text": [
            "       0    1    2    3      Volume\n",
            "0    5.1  3.5  1.4  0.2   38.132652\n",
            "1    4.9  3.0  1.4  0.2   35.200498\n",
            "2    4.7  3.2  1.3  0.2   30.072372\n",
            "3    4.6  3.1  1.5  0.2   33.238050\n",
            "4    5.0  3.6  1.4  0.2   36.651914\n",
            "..   ...  ...  ...  ...         ...\n",
            "145  6.7  3.0  5.2  2.3  244.445230\n",
            "146  6.3  2.5  5.0  1.9  207.816354\n",
            "147  6.5  3.0  5.2  2.0  230.069302\n",
            "148  6.2  3.4  5.4  2.3  217.373079\n",
            "149  5.9  3.0  5.1  1.8  185.910028\n",
            "\n",
            "[150 rows x 5 columns]\n"
          ]
        }
      ],
      "source": [
        "# Write a Pandas function to create a new column for volume in iris_2d, where volume is (pi x petallength x sepal_length^2)/3\n",
        "# Hints:\n",
        "# 1. Introduce new dimension to match iris_2d's\n",
        "# 2. Add the new column\n",
        "\n",
        "dframe['Volume'] = (np.pi * dframe[2] * dframe[0]**2) / 3\n",
        "print(dframe)"
      ]
    },
    {
      "cell_type": "markdown",
      "metadata": {
        "id": "dGqrG93ELEQ3"
      },
      "source": [
        "# Section B *(2 Marks each)*"
      ]
    },
    {
      "cell_type": "markdown",
      "metadata": {
        "id": "OLm8jv7tMH6h"
      },
      "source": [
        "###NumPy"
      ]
    },
    {
      "cell_type": "markdown",
      "metadata": {
        "id": "zE1n0x7ZLRLU"
      },
      "source": [
        "Q1 Let x = np.arange(4, dtype=np.int64). Create an array of ones with the same shape and type as X."
      ]
    },
    {
      "cell_type": "code",
      "execution_count": 38,
      "metadata": {
        "id": "KmlMhLH8rPOE"
      },
      "outputs": [],
      "source": [
        "import numpy as np\n",
        "x = np.arange(4, dtype=np.int64)"
      ]
    },
    {
      "cell_type": "code",
      "execution_count": 39,
      "metadata": {
        "colab": {
          "base_uri": "https://localhost:8080/"
        },
        "id": "H8o9C6b7LJzA",
        "outputId": "223acdec-3fa8-44d7-9c21-6e0aae64451a"
      },
      "outputs": [
        {
          "name": "stdout",
          "output_type": "stream",
          "text": [
            "[1 1 1 1]\n"
          ]
        }
      ],
      "source": [
        "copy=np.ones_like(x)\n",
        "print(copy)"
      ]
    },
    {
      "cell_type": "markdown",
      "metadata": {
        "id": "PPYeTqoHLSNj"
      },
      "source": [
        "Q2 Let x be an array [1, 2, 3, ..., 9]. Split x into 3 arrays, each of which has 4, 2, and 3 elements in the original order."
      ]
    },
    {
      "cell_type": "code",
      "execution_count": 40,
      "metadata": {
        "colab": {
          "base_uri": "https://localhost:8080/"
        },
        "id": "DS9mr30LLYdg",
        "outputId": "d6ef1480-d848-4930-d1e8-c77a2cbebb0f"
      },
      "outputs": [
        {
          "name": "stdout",
          "output_type": "stream",
          "text": [
            "[array([1, 2, 3, 4]), array([5, 6]), array([7, 8, 9])]\n"
          ]
        }
      ],
      "source": [
        "arr=np.array([1,2,3,4,5,6,7,8,9])\n",
        "split=np.split(arr,[4,6])\n",
        "print(split)"
      ]
    },
    {
      "cell_type": "markdown",
      "metadata": {
        "id": "b1wJaooRLXjN"
      },
      "source": [
        "Q3 Initiate x as a 2x5 array with random values from 0 to 10(not inclusive).Get the maximum and minimum values and their indices of x along the second axis."
      ]
    },
    {
      "cell_type": "code",
      "execution_count": 41,
      "metadata": {
        "colab": {
          "base_uri": "https://localhost:8080/"
        },
        "id": "GnXDqksjLf89",
        "outputId": "6a74d2bd-fc34-4df0-ac6e-7615006f8c14"
      },
      "outputs": [
        {
          "name": "stdout",
          "output_type": "stream",
          "text": [
            "[[0 1 2 3 4]\n",
            " [5 6 7 8 9]]\n",
            "[4 9]\n",
            "[4 4]\n",
            "[0 5]\n",
            "[0 0]\n"
          ]
        }
      ],
      "source": [
        "x=np.arange(0,10)\n",
        "x=x.reshape(2,5)\n",
        "print(x)\n",
        "\n",
        "max_value = np.max(x, axis=1)\n",
        "max_indices = np.argmax(x, axis=1)\n",
        "print(max_value)\n",
        "print(max_indices)\n",
        "\n",
        "min_value = np.min(x, axis=1)\n",
        "min_indices = np.argmin(x, axis=1)\n",
        "print(min_value)\n",
        "print(min_indices)"
      ]
    },
    {
      "cell_type": "markdown",
      "metadata": {
        "id": "8_Q7fbyxMMHM"
      },
      "source": [
        "### Pandas"
      ]
    },
    {
      "cell_type": "markdown",
      "metadata": {
        "id": "3QpaFHkxJUho"
      },
      "source": [
        "Run the following load command and solve the following questions"
      ]
    },
    {
      "cell_type": "code",
      "execution_count": 42,
      "metadata": {
        "id": "_G1SO2ZDNPjl"
      },
      "outputs": [],
      "source": [
        "import pandas as pd"
      ]
    },
    {
      "cell_type": "code",
      "execution_count": 43,
      "metadata": {
        "id": "mLdcY49iJDtl"
      },
      "outputs": [],
      "source": [
        "url = 'https://archive.ics.uci.edu/ml/machine-learning-databases/iris/iris.data'\n",
        "iris = np.genfromtxt(url, delimiter=',', dtype='object')\n",
        "names = ('sepallength', 'sepalwidth', 'petallength', 'petalwidth', 'species')"
      ]
    },
    {
      "cell_type": "code",
      "execution_count": 44,
      "metadata": {
        "colab": {
          "base_uri": "https://localhost:8080/"
        },
        "id": "SBOKcO5wM5fx",
        "outputId": "21897d14-ddc9-48b9-b080-3889bedda455"
      },
      "outputs": [
        {
          "name": "stdout",
          "output_type": "stream",
          "text": [
            "          0       1       2       3                  4\n",
            "0    b'5.1'  b'3.5'  b'1.4'  b'0.2'     b'Iris-setosa'\n",
            "1    b'4.9'  b'3.0'  b'1.4'  b'0.2'     b'Iris-setosa'\n",
            "2    b'4.7'  b'3.2'  b'1.3'  b'0.2'     b'Iris-setosa'\n",
            "3    b'4.6'  b'3.1'  b'1.5'  b'0.2'     b'Iris-setosa'\n",
            "4    b'5.0'  b'3.6'  b'1.4'  b'0.2'     b'Iris-setosa'\n",
            "..      ...     ...     ...     ...                ...\n",
            "145  b'6.7'  b'3.0'  b'5.2'  b'2.3'  b'Iris-virginica'\n",
            "146  b'6.3'  b'2.5'  b'5.0'  b'1.9'  b'Iris-virginica'\n",
            "147  b'6.5'  b'3.0'  b'5.2'  b'2.0'  b'Iris-virginica'\n",
            "148  b'6.2'  b'3.4'  b'5.4'  b'2.3'  b'Iris-virginica'\n",
            "149  b'5.9'  b'3.0'  b'5.1'  b'1.8'  b'Iris-virginica'\n",
            "\n",
            "[150 rows x 5 columns]\n"
          ]
        }
      ],
      "source": [
        "dataFrame=pd.DataFrame(iris)\n",
        "print(dataFrame)\n"
      ]
    },
    {
      "cell_type": "markdown",
      "metadata": {
        "id": "zbDepnx9RtV8"
      },
      "source": [
        "Q4 Write a Pandas function to find the count of unique species."
      ]
    },
    {
      "cell_type": "code",
      "execution_count": 45,
      "metadata": {
        "colab": {
          "base_uri": "https://localhost:8080/"
        },
        "id": "oAkO0UnqJDv7",
        "outputId": "8a751acb-6506-461f-ee2e-22cb6a443b26"
      },
      "outputs": [
        {
          "name": "stdout",
          "output_type": "stream",
          "text": [
            "0    35\n",
            "1    23\n",
            "2    43\n",
            "3    22\n",
            "4     3\n",
            "dtype: int64\n"
          ]
        }
      ],
      "source": [
        "count=dataFrame.nunique()\n",
        "print(count)"
      ]
    },
    {
      "cell_type": "markdown",
      "metadata": {
        "id": "Usj5HlvyRxal"
      },
      "source": [
        "# Q5 Write a Pandas function to bin the petal length (3rd) column of iris_2d to form a text array, such that if petal length is:\n",
        "- Less than 3 –> ‘small’\n",
        "- 3-5 –> ‘medium’\n",
        "- greater than equal to 5 –> ‘large’"
      ]
    },
    {
      "cell_type": "code",
      "execution_count": 46,
      "metadata": {
        "colab": {
          "base_uri": "https://localhost:8080/"
        },
        "id": "gTWWJoLMJDxx",
        "outputId": "b5186c15-da4c-4493-f3bc-fd2f6ca18b90"
      },
      "outputs": [
        {
          "name": "stdout",
          "output_type": "stream",
          "text": [
            "          0       1    2       3                  4 petal_length\n",
            "0    b'5.1'  b'3.5'  1.4  b'0.2'     b'Iris-setosa'        small\n",
            "1    b'4.9'  b'3.0'  1.4  b'0.2'     b'Iris-setosa'        small\n",
            "2    b'4.7'  b'3.2'  1.3  b'0.2'     b'Iris-setosa'        small\n",
            "3    b'4.6'  b'3.1'  1.5  b'0.2'     b'Iris-setosa'        small\n",
            "4    b'5.0'  b'3.6'  1.4  b'0.2'     b'Iris-setosa'        small\n",
            "..      ...     ...  ...     ...                ...          ...\n",
            "145  b'6.7'  b'3.0'  5.2  b'2.3'  b'Iris-virginica'        large\n",
            "146  b'6.3'  b'2.5'  5.0  b'1.9'  b'Iris-virginica'        large\n",
            "147  b'6.5'  b'3.0'  5.2  b'2.0'  b'Iris-virginica'        large\n",
            "148  b'6.2'  b'3.4'  5.4  b'2.3'  b'Iris-virginica'        large\n",
            "149  b'5.9'  b'3.0'  5.1  b'1.8'  b'Iris-virginica'        large\n",
            "\n",
            "[150 rows x 6 columns]\n"
          ]
        }
      ],
      "source": [
        "    dataFrame[2]=dataFrame[2].astype(float)\n",
        "    bins = [0, 2.9, 4.9, float('inf')]\n",
        "    labels = ['small', 'medium', 'large']\n",
        "\n",
        "    dataFrame['petal_length'] = pd.cut(dataFrame[2], bins=bins, labels=labels)\n",
        "    print(dataFrame)\n",
        "\n",
        "\n"
      ]
    },
    {
      "cell_type": "markdown",
      "metadata": {
        "id": "IbBYP_8sSBrB"
      },
      "source": [
        "Q6 Write a Pandas function to find the most frequent value of petal length (3rd column) in iris dataset"
      ]
    },
    {
      "cell_type": "code",
      "execution_count": 47,
      "metadata": {
        "colab": {
          "base_uri": "https://localhost:8080/"
        },
        "id": "DNk_tlVWJufR",
        "outputId": "84d7a982-3a72-4bd4-e238-d4e564cca847"
      },
      "outputs": [
        {
          "name": "stdout",
          "output_type": "stream",
          "text": [
            "0    1.5\n",
            "Name: 2, dtype: float64\n"
          ]
        }
      ],
      "source": [
        "most_frequent = dataFrame[2].mode()\n",
        "print(most_frequent)"
      ]
    }
  ],
  "metadata": {
    "colab": {
      "provenance": []
    },
    "kernelspec": {
      "display_name": "Python 3",
      "name": "python3"
    },
    "language_info": {
      "codemirror_mode": {
        "name": "ipython",
        "version": 3
      },
      "file_extension": ".py",
      "mimetype": "text/x-python",
      "name": "python",
      "nbconvert_exporter": "python",
      "pygments_lexer": "ipython3",
      "version": "3.12.3"
    }
  },
  "nbformat": 4,
  "nbformat_minor": 0
}
