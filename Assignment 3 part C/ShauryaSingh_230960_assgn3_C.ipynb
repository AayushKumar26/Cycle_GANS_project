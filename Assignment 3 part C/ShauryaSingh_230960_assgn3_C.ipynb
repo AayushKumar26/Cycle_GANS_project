{
  "nbformat": 4,
  "nbformat_minor": 0,
  "metadata": {
    "colab": {
      "provenance": []
    },
    "kernelspec": {
      "name": "python3",
      "display_name": "Python 3"
    },
    "language_info": {
      "name": "python"
    }
  },
  "cells": [
    {
      "cell_type": "code",
      "execution_count": 127,
      "metadata": {
        "id": "kGOfuRlvOjEd"
      },
      "outputs": [],
      "source": [
        "import numpy as np\n",
        "import pandas as pd\n",
        "from sklearn.preprocessing import StandardScaler, LabelEncoder\n",
        "from sklearn.model_selection import train_test_split\n",
        "import tensorflow as tf\n",
        "from tensorflow.keras.utils import to_categorical\n",
        "from tensorflow.keras.models import Sequential\n",
        "from tensorflow.keras.layers import Dense, Dropout"
      ]
    },
    {
      "cell_type": "code",
      "source": [
        "data = pd.read_csv('/content/Train.csv')"
      ],
      "metadata": {
        "id": "5W2_zpCiOnKB"
      },
      "execution_count": 115,
      "outputs": []
    },
    {
      "cell_type": "code",
      "source": [
        "print(data.isnull().sum())"
      ],
      "metadata": {
        "colab": {
          "base_uri": "https://localhost:8080/"
        },
        "id": "GHarVD_EOxX6",
        "outputId": "56e6c964-dd89-4743-96c6-dfb1f8172b28"
      },
      "execution_count": 116,
      "outputs": [
        {
          "output_type": "stream",
          "name": "stdout",
          "text": [
            "Team1            0\n",
            "Team2            0\n",
            "Stadium          0\n",
            "HostCountry      0\n",
            "Team1_Venue      0\n",
            "Team2_Venue      0\n",
            "Team1_Innings    0\n",
            "Team2_Innings    0\n",
            "MonthOfMatch     0\n",
            "MatchWinner      0\n",
            "dtype: int64\n"
          ]
        }
      ]
    },
    {
      "cell_type": "code",
      "source": [
        "label_encoder = LabelEncoder()\n",
        "data['Team1_Innings'] = label_encoder.fit_transform(data['Team1_Innings'])\n",
        "data['Team2_Innings'] = label_encoder.fit_transform(data['Team2_Innings'])\n",
        "data['MonthOfMatch'] = label_encoder.fit_transform(data['MonthOfMatch'])\n",
        "data['Team1_Venue'] = label_encoder.fit_transform(data['Team1_Venue'])\n",
        "data['Team2_Venue'] = label_encoder.fit_transform(data['Team2_Venue'])"
      ],
      "metadata": {
        "id": "PBq4w8NRO28P"
      },
      "execution_count": 117,
      "outputs": []
    },
    {
      "cell_type": "code",
      "source": [
        "test_data = data.tail(400)\n",
        "train_data = data.iloc[:-400]\n",
        "\n",
        "X_train = train_data.drop('MatchWinner', axis=1)\n",
        "y_train = train_data['MatchWinner']\n",
        "X_test = test_data.drop('MatchWinner', axis=1)\n",
        "y_test = test_data['MatchWinner']\n"
      ],
      "metadata": {
        "id": "BUFIZ9_eO-Bb"
      },
      "execution_count": 118,
      "outputs": []
    },
    {
      "cell_type": "code",
      "source": [
        "scaler = StandardScaler()\n",
        "X_train_scaled = scaler.fit_transform(X_train)\n",
        "X_test_scaled = scaler.transform(X_test)"
      ],
      "metadata": {
        "id": "MsbUT2nWSuRc"
      },
      "execution_count": 119,
      "outputs": []
    },
    {
      "cell_type": "code",
      "source": [
        "y_train_categorical = to_categorical(y_train)\n",
        "y_test_categorical = to_categorical(y_test)"
      ],
      "metadata": {
        "id": "GJw_xl6QPAG7"
      },
      "execution_count": 120,
      "outputs": []
    },
    {
      "cell_type": "code",
      "source": [
        "print(X_train.shape, X_test.shape, y_train_categorical.shape, y_test_categorical.shape)\n"
      ],
      "metadata": {
        "colab": {
          "base_uri": "https://localhost:8080/"
        },
        "id": "XYJFLqlxPClG",
        "outputId": "5c0eaff4-0c5d-4340-9b84-bc9993832aff"
      },
      "execution_count": 121,
      "outputs": [
        {
          "output_type": "stream",
          "name": "stdout",
          "text": [
            "(2108, 9) (400, 9) (2108, 16) (400, 16)\n"
          ]
        }
      ]
    },
    {
      "cell_type": "code",
      "source": [
        "model = Sequential()\n",
        "model.add(Dense(128, activation='relu', input_shape=(X_train.shape[1],)))\n",
        "model.add(Dropout(0.3))\n",
        "model.add(Dense(64, activation='relu'))\n",
        "model.add(Dropout(0.3))\n",
        "model.add(Dense(y_train_categorical.shape[1], activation='softmax'))"
      ],
      "metadata": {
        "id": "MVO218AVPDbS"
      },
      "execution_count": 122,
      "outputs": []
    },
    {
      "cell_type": "code",
      "source": [
        "model.compile(optimizer='adam', loss='categorical_crossentropy', metrics=['accuracy'])"
      ],
      "metadata": {
        "id": "HwX4T-r8PKlS"
      },
      "execution_count": 123,
      "outputs": []
    },
    {
      "cell_type": "code",
      "source": [
        "history = model.fit(X_train_scaled, y_train_categorical, epochs=100, batch_size=32, validation_data=(X_test_scaled, y_test_categorical))\n"
      ],
      "metadata": {
        "colab": {
          "base_uri": "https://localhost:8080/"
        },
        "id": "TT-M75iQPMUG",
        "outputId": "eb553f10-1619-4ffb-c0a5-f5d7e17a4ae6"
      },
      "execution_count": 124,
      "outputs": [
        {
          "output_type": "stream",
          "name": "stdout",
          "text": [
            "Epoch 1/100\n",
            "66/66 [==============================] - 1s 7ms/step - loss: 2.5871 - accuracy: 0.1594 - val_loss: 2.4161 - val_accuracy: 0.1700\n",
            "Epoch 2/100\n",
            "66/66 [==============================] - 0s 4ms/step - loss: 2.2909 - accuracy: 0.2339 - val_loss: 2.2426 - val_accuracy: 0.2300\n",
            "Epoch 3/100\n",
            "66/66 [==============================] - 0s 3ms/step - loss: 2.1901 - accuracy: 0.2481 - val_loss: 2.1862 - val_accuracy: 0.2400\n",
            "Epoch 4/100\n",
            "66/66 [==============================] - 0s 3ms/step - loss: 2.1226 - accuracy: 0.2600 - val_loss: 2.1521 - val_accuracy: 0.2425\n",
            "Epoch 5/100\n",
            "66/66 [==============================] - 0s 4ms/step - loss: 2.0951 - accuracy: 0.2785 - val_loss: 2.1314 - val_accuracy: 0.2500\n",
            "Epoch 6/100\n",
            "66/66 [==============================] - 0s 4ms/step - loss: 2.0607 - accuracy: 0.2761 - val_loss: 2.1018 - val_accuracy: 0.2675\n",
            "Epoch 7/100\n",
            "66/66 [==============================] - 0s 3ms/step - loss: 2.0339 - accuracy: 0.2932 - val_loss: 2.0857 - val_accuracy: 0.2750\n",
            "Epoch 8/100\n",
            "66/66 [==============================] - 0s 4ms/step - loss: 2.0077 - accuracy: 0.3012 - val_loss: 2.0749 - val_accuracy: 0.3000\n",
            "Epoch 9/100\n",
            "66/66 [==============================] - 0s 5ms/step - loss: 1.9832 - accuracy: 0.3098 - val_loss: 2.0449 - val_accuracy: 0.3050\n",
            "Epoch 10/100\n",
            "66/66 [==============================] - 0s 3ms/step - loss: 1.9520 - accuracy: 0.3174 - val_loss: 2.0237 - val_accuracy: 0.3150\n",
            "Epoch 11/100\n",
            "66/66 [==============================] - 0s 3ms/step - loss: 1.9391 - accuracy: 0.3269 - val_loss: 1.9989 - val_accuracy: 0.3125\n",
            "Epoch 12/100\n",
            "66/66 [==============================] - 0s 3ms/step - loss: 1.9161 - accuracy: 0.3401 - val_loss: 1.9739 - val_accuracy: 0.3350\n",
            "Epoch 13/100\n",
            "66/66 [==============================] - 0s 3ms/step - loss: 1.8977 - accuracy: 0.3430 - val_loss: 1.9397 - val_accuracy: 0.3500\n",
            "Epoch 14/100\n",
            "66/66 [==============================] - 0s 3ms/step - loss: 1.8570 - accuracy: 0.3634 - val_loss: 1.9331 - val_accuracy: 0.3475\n",
            "Epoch 15/100\n",
            "66/66 [==============================] - 0s 4ms/step - loss: 1.8346 - accuracy: 0.3563 - val_loss: 1.9111 - val_accuracy: 0.3450\n",
            "Epoch 16/100\n",
            "66/66 [==============================] - 0s 5ms/step - loss: 1.8162 - accuracy: 0.3648 - val_loss: 1.8920 - val_accuracy: 0.3475\n",
            "Epoch 17/100\n",
            "66/66 [==============================] - 0s 6ms/step - loss: 1.8041 - accuracy: 0.3586 - val_loss: 1.8664 - val_accuracy: 0.3475\n",
            "Epoch 18/100\n",
            "66/66 [==============================] - 0s 6ms/step - loss: 1.7867 - accuracy: 0.3752 - val_loss: 1.8347 - val_accuracy: 0.3650\n",
            "Epoch 19/100\n",
            "66/66 [==============================] - 0s 5ms/step - loss: 1.7892 - accuracy: 0.3762 - val_loss: 1.8328 - val_accuracy: 0.3600\n",
            "Epoch 20/100\n",
            "66/66 [==============================] - 1s 9ms/step - loss: 1.7666 - accuracy: 0.3724 - val_loss: 1.8131 - val_accuracy: 0.3725\n",
            "Epoch 21/100\n",
            "66/66 [==============================] - 1s 10ms/step - loss: 1.7715 - accuracy: 0.3624 - val_loss: 1.8135 - val_accuracy: 0.3750\n",
            "Epoch 22/100\n",
            "66/66 [==============================] - 1s 10ms/step - loss: 1.7275 - accuracy: 0.3942 - val_loss: 1.7858 - val_accuracy: 0.3775\n",
            "Epoch 23/100\n",
            "66/66 [==============================] - 1s 13ms/step - loss: 1.7113 - accuracy: 0.3871 - val_loss: 1.7732 - val_accuracy: 0.3875\n",
            "Epoch 24/100\n",
            "66/66 [==============================] - 0s 6ms/step - loss: 1.7029 - accuracy: 0.3838 - val_loss: 1.7635 - val_accuracy: 0.3825\n",
            "Epoch 25/100\n",
            "66/66 [==============================] - 0s 7ms/step - loss: 1.6789 - accuracy: 0.4009 - val_loss: 1.7569 - val_accuracy: 0.3675\n",
            "Epoch 26/100\n",
            "66/66 [==============================] - 0s 6ms/step - loss: 1.6808 - accuracy: 0.4046 - val_loss: 1.7302 - val_accuracy: 0.3725\n",
            "Epoch 27/100\n",
            "66/66 [==============================] - 0s 6ms/step - loss: 1.6688 - accuracy: 0.3781 - val_loss: 1.7318 - val_accuracy: 0.3775\n",
            "Epoch 28/100\n",
            "66/66 [==============================] - 0s 7ms/step - loss: 1.6520 - accuracy: 0.4018 - val_loss: 1.7230 - val_accuracy: 0.3725\n",
            "Epoch 29/100\n",
            "66/66 [==============================] - 0s 6ms/step - loss: 1.6333 - accuracy: 0.3895 - val_loss: 1.7159 - val_accuracy: 0.4025\n",
            "Epoch 30/100\n",
            "66/66 [==============================] - 0s 5ms/step - loss: 1.6340 - accuracy: 0.4037 - val_loss: 1.7024 - val_accuracy: 0.3800\n",
            "Epoch 31/100\n",
            "66/66 [==============================] - 0s 5ms/step - loss: 1.6230 - accuracy: 0.3937 - val_loss: 1.6824 - val_accuracy: 0.3850\n",
            "Epoch 32/100\n",
            "66/66 [==============================] - 0s 6ms/step - loss: 1.6180 - accuracy: 0.4094 - val_loss: 1.6739 - val_accuracy: 0.4125\n",
            "Epoch 33/100\n",
            "66/66 [==============================] - 0s 6ms/step - loss: 1.5967 - accuracy: 0.4056 - val_loss: 1.6634 - val_accuracy: 0.3950\n",
            "Epoch 34/100\n",
            "66/66 [==============================] - 1s 9ms/step - loss: 1.5945 - accuracy: 0.4113 - val_loss: 1.6667 - val_accuracy: 0.3800\n",
            "Epoch 35/100\n",
            "66/66 [==============================] - 0s 3ms/step - loss: 1.5865 - accuracy: 0.4284 - val_loss: 1.6498 - val_accuracy: 0.4000\n",
            "Epoch 36/100\n",
            "66/66 [==============================] - 0s 3ms/step - loss: 1.5818 - accuracy: 0.4141 - val_loss: 1.6537 - val_accuracy: 0.3950\n",
            "Epoch 37/100\n",
            "66/66 [==============================] - 0s 3ms/step - loss: 1.5799 - accuracy: 0.4113 - val_loss: 1.6445 - val_accuracy: 0.3950\n",
            "Epoch 38/100\n",
            "66/66 [==============================] - 0s 4ms/step - loss: 1.5773 - accuracy: 0.4065 - val_loss: 1.6540 - val_accuracy: 0.3900\n",
            "Epoch 39/100\n",
            "66/66 [==============================] - 0s 3ms/step - loss: 1.5530 - accuracy: 0.4360 - val_loss: 1.6382 - val_accuracy: 0.4225\n",
            "Epoch 40/100\n",
            "66/66 [==============================] - 0s 4ms/step - loss: 1.5540 - accuracy: 0.4341 - val_loss: 1.6538 - val_accuracy: 0.4025\n",
            "Epoch 41/100\n",
            "66/66 [==============================] - 0s 3ms/step - loss: 1.5288 - accuracy: 0.4293 - val_loss: 1.6337 - val_accuracy: 0.4100\n",
            "Epoch 42/100\n",
            "66/66 [==============================] - 0s 3ms/step - loss: 1.5470 - accuracy: 0.4260 - val_loss: 1.6228 - val_accuracy: 0.4100\n",
            "Epoch 43/100\n",
            "66/66 [==============================] - 0s 3ms/step - loss: 1.5367 - accuracy: 0.4198 - val_loss: 1.6250 - val_accuracy: 0.4125\n",
            "Epoch 44/100\n",
            "66/66 [==============================] - 0s 3ms/step - loss: 1.5364 - accuracy: 0.4255 - val_loss: 1.6149 - val_accuracy: 0.4050\n",
            "Epoch 45/100\n",
            "66/66 [==============================] - 0s 3ms/step - loss: 1.5337 - accuracy: 0.4383 - val_loss: 1.6114 - val_accuracy: 0.4000\n",
            "Epoch 46/100\n",
            "66/66 [==============================] - 0s 3ms/step - loss: 1.5184 - accuracy: 0.4303 - val_loss: 1.6083 - val_accuracy: 0.3975\n",
            "Epoch 47/100\n",
            "66/66 [==============================] - 0s 4ms/step - loss: 1.4994 - accuracy: 0.4374 - val_loss: 1.6075 - val_accuracy: 0.4025\n",
            "Epoch 48/100\n",
            "66/66 [==============================] - 0s 3ms/step - loss: 1.5095 - accuracy: 0.4293 - val_loss: 1.5932 - val_accuracy: 0.4225\n",
            "Epoch 49/100\n",
            "66/66 [==============================] - 0s 3ms/step - loss: 1.5145 - accuracy: 0.4322 - val_loss: 1.5934 - val_accuracy: 0.4075\n",
            "Epoch 50/100\n",
            "66/66 [==============================] - 0s 3ms/step - loss: 1.5020 - accuracy: 0.4293 - val_loss: 1.5863 - val_accuracy: 0.4025\n",
            "Epoch 51/100\n",
            "66/66 [==============================] - 0s 3ms/step - loss: 1.4672 - accuracy: 0.4454 - val_loss: 1.5819 - val_accuracy: 0.4150\n",
            "Epoch 52/100\n",
            "66/66 [==============================] - 0s 5ms/step - loss: 1.4999 - accuracy: 0.4364 - val_loss: 1.5734 - val_accuracy: 0.4175\n",
            "Epoch 53/100\n",
            "66/66 [==============================] - 0s 6ms/step - loss: 1.4745 - accuracy: 0.4478 - val_loss: 1.5758 - val_accuracy: 0.4200\n",
            "Epoch 54/100\n",
            "66/66 [==============================] - 0s 6ms/step - loss: 1.4853 - accuracy: 0.4369 - val_loss: 1.5689 - val_accuracy: 0.4300\n",
            "Epoch 55/100\n",
            "66/66 [==============================] - 1s 10ms/step - loss: 1.4631 - accuracy: 0.4426 - val_loss: 1.5656 - val_accuracy: 0.4250\n",
            "Epoch 56/100\n",
            "66/66 [==============================] - 1s 10ms/step - loss: 1.4732 - accuracy: 0.4412 - val_loss: 1.5620 - val_accuracy: 0.4275\n",
            "Epoch 57/100\n",
            "66/66 [==============================] - 1s 9ms/step - loss: 1.4707 - accuracy: 0.4421 - val_loss: 1.5568 - val_accuracy: 0.4225\n",
            "Epoch 58/100\n",
            "66/66 [==============================] - 1s 10ms/step - loss: 1.4596 - accuracy: 0.4336 - val_loss: 1.5589 - val_accuracy: 0.4225\n",
            "Epoch 59/100\n",
            "66/66 [==============================] - 1s 9ms/step - loss: 1.4700 - accuracy: 0.4388 - val_loss: 1.5383 - val_accuracy: 0.4225\n",
            "Epoch 60/100\n",
            "66/66 [==============================] - 1s 10ms/step - loss: 1.4507 - accuracy: 0.4526 - val_loss: 1.5430 - val_accuracy: 0.4375\n",
            "Epoch 61/100\n",
            "66/66 [==============================] - 1s 8ms/step - loss: 1.4377 - accuracy: 0.4388 - val_loss: 1.5341 - val_accuracy: 0.4300\n",
            "Epoch 62/100\n",
            "66/66 [==============================] - 0s 6ms/step - loss: 1.4627 - accuracy: 0.4483 - val_loss: 1.5414 - val_accuracy: 0.4125\n",
            "Epoch 63/100\n",
            "66/66 [==============================] - 0s 3ms/step - loss: 1.4311 - accuracy: 0.4635 - val_loss: 1.5292 - val_accuracy: 0.4400\n",
            "Epoch 64/100\n",
            "66/66 [==============================] - 0s 3ms/step - loss: 1.4326 - accuracy: 0.4355 - val_loss: 1.5274 - val_accuracy: 0.4450\n",
            "Epoch 65/100\n",
            "66/66 [==============================] - 0s 3ms/step - loss: 1.4212 - accuracy: 0.4564 - val_loss: 1.5430 - val_accuracy: 0.4500\n",
            "Epoch 66/100\n",
            "66/66 [==============================] - 0s 3ms/step - loss: 1.4413 - accuracy: 0.4507 - val_loss: 1.5194 - val_accuracy: 0.4575\n",
            "Epoch 67/100\n",
            "66/66 [==============================] - 0s 3ms/step - loss: 1.4194 - accuracy: 0.4364 - val_loss: 1.5080 - val_accuracy: 0.4300\n",
            "Epoch 68/100\n",
            "66/66 [==============================] - 0s 3ms/step - loss: 1.4292 - accuracy: 0.4478 - val_loss: 1.4966 - val_accuracy: 0.4400\n",
            "Epoch 69/100\n",
            "66/66 [==============================] - 0s 3ms/step - loss: 1.4069 - accuracy: 0.4658 - val_loss: 1.5035 - val_accuracy: 0.4400\n",
            "Epoch 70/100\n",
            "66/66 [==============================] - 0s 3ms/step - loss: 1.4264 - accuracy: 0.4549 - val_loss: 1.5058 - val_accuracy: 0.4450\n",
            "Epoch 71/100\n",
            "66/66 [==============================] - 0s 3ms/step - loss: 1.4210 - accuracy: 0.4568 - val_loss: 1.4984 - val_accuracy: 0.4550\n",
            "Epoch 72/100\n",
            "66/66 [==============================] - 0s 3ms/step - loss: 1.4070 - accuracy: 0.4768 - val_loss: 1.4941 - val_accuracy: 0.4500\n",
            "Epoch 73/100\n",
            "66/66 [==============================] - 0s 3ms/step - loss: 1.3971 - accuracy: 0.4620 - val_loss: 1.4821 - val_accuracy: 0.4450\n",
            "Epoch 74/100\n",
            "66/66 [==============================] - 0s 3ms/step - loss: 1.3913 - accuracy: 0.4720 - val_loss: 1.4873 - val_accuracy: 0.4550\n",
            "Epoch 75/100\n",
            "66/66 [==============================] - 0s 3ms/step - loss: 1.3975 - accuracy: 0.4673 - val_loss: 1.4873 - val_accuracy: 0.4550\n",
            "Epoch 76/100\n",
            "66/66 [==============================] - 0s 3ms/step - loss: 1.4021 - accuracy: 0.4530 - val_loss: 1.4783 - val_accuracy: 0.4525\n",
            "Epoch 77/100\n",
            "66/66 [==============================] - 0s 4ms/step - loss: 1.3757 - accuracy: 0.4739 - val_loss: 1.4796 - val_accuracy: 0.4600\n",
            "Epoch 78/100\n",
            "66/66 [==============================] - 0s 3ms/step - loss: 1.3886 - accuracy: 0.4782 - val_loss: 1.4849 - val_accuracy: 0.4525\n",
            "Epoch 79/100\n",
            "66/66 [==============================] - 0s 3ms/step - loss: 1.3924 - accuracy: 0.4630 - val_loss: 1.4678 - val_accuracy: 0.4700\n",
            "Epoch 80/100\n",
            "66/66 [==============================] - 0s 3ms/step - loss: 1.3907 - accuracy: 0.4511 - val_loss: 1.4687 - val_accuracy: 0.4650\n",
            "Epoch 81/100\n",
            "66/66 [==============================] - 0s 3ms/step - loss: 1.3782 - accuracy: 0.4711 - val_loss: 1.4654 - val_accuracy: 0.4625\n",
            "Epoch 82/100\n",
            "66/66 [==============================] - 0s 3ms/step - loss: 1.3828 - accuracy: 0.4630 - val_loss: 1.4808 - val_accuracy: 0.4550\n",
            "Epoch 83/100\n",
            "66/66 [==============================] - 0s 3ms/step - loss: 1.3733 - accuracy: 0.4725 - val_loss: 1.4680 - val_accuracy: 0.4350\n",
            "Epoch 84/100\n",
            "66/66 [==============================] - 0s 3ms/step - loss: 1.3634 - accuracy: 0.4744 - val_loss: 1.4588 - val_accuracy: 0.4650\n",
            "Epoch 85/100\n",
            "66/66 [==============================] - 0s 3ms/step - loss: 1.3779 - accuracy: 0.4583 - val_loss: 1.4684 - val_accuracy: 0.4650\n",
            "Epoch 86/100\n",
            "66/66 [==============================] - 0s 3ms/step - loss: 1.3520 - accuracy: 0.4763 - val_loss: 1.4453 - val_accuracy: 0.4450\n",
            "Epoch 87/100\n",
            "66/66 [==============================] - 0s 3ms/step - loss: 1.3445 - accuracy: 0.4810 - val_loss: 1.4557 - val_accuracy: 0.4425\n",
            "Epoch 88/100\n",
            "66/66 [==============================] - 0s 3ms/step - loss: 1.3631 - accuracy: 0.4734 - val_loss: 1.4456 - val_accuracy: 0.4375\n",
            "Epoch 89/100\n",
            "66/66 [==============================] - 0s 3ms/step - loss: 1.3642 - accuracy: 0.4692 - val_loss: 1.4558 - val_accuracy: 0.4350\n",
            "Epoch 90/100\n",
            "66/66 [==============================] - 0s 4ms/step - loss: 1.3532 - accuracy: 0.4701 - val_loss: 1.4340 - val_accuracy: 0.4525\n",
            "Epoch 91/100\n",
            "66/66 [==============================] - 0s 3ms/step - loss: 1.3343 - accuracy: 0.4810 - val_loss: 1.4437 - val_accuracy: 0.4650\n",
            "Epoch 92/100\n",
            "66/66 [==============================] - 0s 3ms/step - loss: 1.3345 - accuracy: 0.4753 - val_loss: 1.4453 - val_accuracy: 0.4425\n",
            "Epoch 93/100\n",
            "66/66 [==============================] - 0s 3ms/step - loss: 1.3329 - accuracy: 0.4734 - val_loss: 1.4246 - val_accuracy: 0.4600\n",
            "Epoch 94/100\n",
            "66/66 [==============================] - 0s 3ms/step - loss: 1.3147 - accuracy: 0.4957 - val_loss: 1.4416 - val_accuracy: 0.4450\n",
            "Epoch 95/100\n",
            "66/66 [==============================] - 0s 4ms/step - loss: 1.3451 - accuracy: 0.4715 - val_loss: 1.4429 - val_accuracy: 0.4325\n",
            "Epoch 96/100\n",
            "66/66 [==============================] - 0s 4ms/step - loss: 1.3289 - accuracy: 0.4848 - val_loss: 1.4289 - val_accuracy: 0.4650\n",
            "Epoch 97/100\n",
            "66/66 [==============================] - 0s 4ms/step - loss: 1.3319 - accuracy: 0.4824 - val_loss: 1.4376 - val_accuracy: 0.4525\n",
            "Epoch 98/100\n",
            "66/66 [==============================] - 0s 3ms/step - loss: 1.3201 - accuracy: 0.4763 - val_loss: 1.4122 - val_accuracy: 0.4725\n",
            "Epoch 99/100\n",
            "66/66 [==============================] - 0s 3ms/step - loss: 1.3194 - accuracy: 0.4777 - val_loss: 1.4230 - val_accuracy: 0.4475\n",
            "Epoch 100/100\n",
            "66/66 [==============================] - 0s 3ms/step - loss: 1.3201 - accuracy: 0.4777 - val_loss: 1.4202 - val_accuracy: 0.4600\n"
          ]
        }
      ]
    },
    {
      "cell_type": "code",
      "source": [
        "loss, accuracy = model.evaluate(X_test_scaled, y_test_categorical)\n",
        "print(f'Test Accuracy: {accuracy}')"
      ],
      "metadata": {
        "colab": {
          "base_uri": "https://localhost:8080/"
        },
        "id": "lIJGeSIfPQKs",
        "outputId": "17797b09-6fb8-4d38-a920-c01207d27ff9"
      },
      "execution_count": 125,
      "outputs": [
        {
          "output_type": "stream",
          "name": "stdout",
          "text": [
            "13/13 [==============================] - 0s 2ms/step - loss: 1.4202 - accuracy: 0.4600\n",
            "Test Accuracy: 0.46000000834465027\n"
          ]
        }
      ]
    },
    {
      "cell_type": "code",
      "source": [
        "import matplotlib.pyplot as plt\n",
        "\n",
        "plt.figure(figsize=(12, 4))\n",
        "plt.subplot(1, 2, 1)\n",
        "plt.plot(history.history['loss'], label='train_loss')\n",
        "plt.plot(history.history['val_loss'], label='val_loss')\n",
        "plt.title('Loss')\n",
        "plt.xlabel('Epoch')\n",
        "plt.ylabel('Loss')\n",
        "plt.legend()\n",
        "\n",
        "plt.subplot(1, 2, 2)\n",
        "plt.plot(history.history['accuracy'], label='train_accuracy')\n",
        "plt.plot(history.history['val_accuracy'], label='val_accuracy')\n",
        "plt.title('Accuracy')\n",
        "plt.xlabel('Epoch')\n",
        "plt.ylabel('Accuracy')\n",
        "plt.legend()\n",
        "\n",
        "plt.show()"
      ],
      "metadata": {
        "colab": {
          "base_uri": "https://localhost:8080/",
          "height": 410
        },
        "id": "BDX6Ua08PV9b",
        "outputId": "9232bb00-1f76-42a1-fab6-3e4630741e7d"
      },
      "execution_count": 126,
      "outputs": [
        {
          "output_type": "display_data",
          "data": {
            "text/plain": [
              "<Figure size 1200x400 with 2 Axes>"
            ],
            "image/png": "[encoded data removed]"
          },
          "metadata": {}
        }
      ]
    },
    {
      "cell_type": "code",
      "source": [
        "from sklearn.metrics import classification_report\n",
        "predictions = model.predict(X_test_scaled)\n",
        "predicted_labels = np.argmax(predictions, axis=1)\n",
        "\n",
        "classification_report = classification_report(y_test, predicted_labels)\n",
        "print(classification_report)\n"
      ],
      "metadata": {
        "colab": {
          "base_uri": "https://localhost:8080/"
        },
        "id": "5xCR3gyIWspF",
        "outputId": "5207613e-6c96-47c0-9589-d41509a94054"
      },
      "execution_count": 131,
      "outputs": [
        {
          "output_type": "stream",
          "name": "stdout",
          "text": [
            "13/13 [==============================] - 0s 4ms/step\n",
            "              precision    recall  f1-score   support\n",
            "\n",
            "           0       0.00      0.00      0.00         3\n",
            "           1       0.47      0.94      0.62        48\n",
            "           2       0.42      0.45      0.43        11\n",
            "           4       0.52      0.46      0.48        35\n",
            "           5       0.52      0.79      0.63        52\n",
            "           6       0.00      0.00      0.00         6\n",
            "           7       0.00      0.00      0.00         6\n",
            "           8       0.00      0.00      0.00         2\n",
            "           9       0.53      0.47      0.50        40\n",
            "          10       0.39      0.40      0.40        50\n",
            "          11       0.00      0.00      0.00         6\n",
            "          12       0.51      0.50      0.51        38\n",
            "          13       0.40      0.09      0.15        45\n",
            "          14       0.30      0.31      0.30        42\n",
            "          15       0.50      0.12      0.20        16\n",
            "\n",
            "    accuracy                           0.46       400\n",
            "   macro avg       0.30      0.30      0.28       400\n",
            "weighted avg       0.43      0.46      0.41       400\n",
            "\n"
          ]
        },
        {
          "output_type": "stream",
          "name": "stderr",
          "text": [
            "/usr/local/lib/python3.10/dist-packages/sklearn/metrics/_classification.py:1344: UndefinedMetricWarning: Precision and F-score are ill-defined and being set to 0.0 in labels with no predicted samples. Use `zero_division` parameter to control this behavior.\n",
            "  _warn_prf(average, modifier, msg_start, len(result))\n",
            "/usr/local/lib/python3.10/dist-packages/sklearn/metrics/_classification.py:1344: UndefinedMetricWarning: Precision and F-score are ill-defined and being set to 0.0 in labels with no predicted samples. Use `zero_division` parameter to control this behavior.\n",
            "  _warn_prf(average, modifier, msg_start, len(result))\n",
            "/usr/local/lib/python3.10/dist-packages/sklearn/metrics/_classification.py:1344: UndefinedMetricWarning: Precision and F-score are ill-defined and being set to 0.0 in labels with no predicted samples. Use `zero_division` parameter to control this behavior.\n",
            "  _warn_prf(average, modifier, msg_start, len(result))\n"
          ]
        }
      ]
    }
  ]
}