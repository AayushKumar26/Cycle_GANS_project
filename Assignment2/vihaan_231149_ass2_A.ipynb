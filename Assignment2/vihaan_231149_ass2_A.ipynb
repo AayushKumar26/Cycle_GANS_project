{
  "cells": [
    {
      "cell_type": "markdown",
      "metadata": {
        "id": "3WgQaGKq4RG2"
      },
      "source": [
        "# Linear and Logistic Regression\n",
        "- **100 points**\n",
        "\n",
        "### Instructions\n",
        "- you cannot use any other library.Write the code from scratch.\n",
        "- You're free to add any number of methods within each class.\n",
        "- You may also add any number of additional code blocks that you deem necessary.\n",
        "- link for the datasets - https://drive.google.com/drive/folders/1MXmIChMxodGbEpowyVJBFLdvaDpj23gd?usp=sharing\n"
      ]
    },
    {
      "cell_type": "markdown",
      "metadata": {
        "id": "JR9X7Smj4RG3"
      },
      "source": [
        "## Question 1 (50 points)\n",
        "\n",
        "## Linear Regression\n",
        "\n",
        "In this section, we'll implement a linear regression model that can learn to predict a target/dependent variable based on multiple independent variables. We'll be using gradient descent to train the model."
      ]
    },
    {
      "cell_type": "code",
      "execution_count": 214,
      "metadata": {
        "id": "Qdsy9_mV4RG4"
      },
      "outputs": [],
      "source": [
        "# Importing Libraries\n",
        "import time\n",
        "import math\n",
        "import numpy as np\n",
        "import pandas as pd\n",
        "import matplotlib.pyplot as plt\n",
        "%matplotlib inline"
      ]
    },
    {
      "cell_type": "markdown",
      "metadata": {
        "id": "RFCcSgtV4RG5"
      },
      "source": [
        "### Data Preparation.\n",
        "To keep things simple, first we'll use a toy dataset to test our implementation. This dataset contains the heights and weights of a few individuals. Our goal is to predict the weight of an individual given their height using a linear regression model."
      ]
    },
    {
      "cell_type": "code",
      "execution_count": 215,
      "metadata": {
        "id": "Z_-53bJa4RG5"
      },
      "outputs": [],
      "source": [
        "df = pd.read_csv('./heights.csv')"
      ]
    },
    {
      "cell_type": "code",
      "execution_count": 216,
      "metadata": {
        "id": "KQwz0GN-4RG5"
      },
      "outputs": [
        {
          "data": {
            "text/html": [
              "<div>\n",
              "<style scoped>\n",
              "    .dataframe tbody tr th:only-of-type {\n",
              "        vertical-align: middle;\n",
              "    }\n",
              "\n",
              "    .dataframe tbody tr th {\n",
              "        vertical-align: top;\n",
              "    }\n",
              "\n",
              "    .dataframe thead th {\n",
              "        text-align: right;\n",
              "    }\n",
              "</style>\n",
              "<table border=\"1\" class=\"dataframe\">\n",
              "  <thead>\n",
              "    <tr style=\"text-align: right;\">\n",
              "      <th></th>\n",
              "      <th>Height</th>\n",
              "      <th>Weight</th>\n",
              "    </tr>\n",
              "  </thead>\n",
              "  <tbody>\n",
              "    <tr>\n",
              "      <th>0</th>\n",
              "      <td>1.47</td>\n",
              "      <td>52.21</td>\n",
              "    </tr>\n",
              "    <tr>\n",
              "      <th>1</th>\n",
              "      <td>1.50</td>\n",
              "      <td>53.12</td>\n",
              "    </tr>\n",
              "    <tr>\n",
              "      <th>2</th>\n",
              "      <td>1.52</td>\n",
              "      <td>54.48</td>\n",
              "    </tr>\n",
              "    <tr>\n",
              "      <th>3</th>\n",
              "      <td>1.55</td>\n",
              "      <td>55.84</td>\n",
              "    </tr>\n",
              "    <tr>\n",
              "      <th>4</th>\n",
              "      <td>1.57</td>\n",
              "      <td>57.20</td>\n",
              "    </tr>\n",
              "  </tbody>\n",
              "</table>\n",
              "</div>"
            ],
            "text/plain": [
              "   Height  Weight\n",
              "0    1.47   52.21\n",
              "1    1.50   53.12\n",
              "2    1.52   54.48\n",
              "3    1.55   55.84\n",
              "4    1.57   57.20"
            ]
          },
          "execution_count": 216,
          "metadata": {},
          "output_type": "execute_result"
        }
      ],
      "source": [
        "df.head()"
      ]
    },
    {
      "cell_type": "code",
      "execution_count": 217,
      "metadata": {
        "id": "EjpMxn7O4RG6"
      },
      "outputs": [
        {
          "data": {
            "image/png": "[encoded data removed]",
            "text/plain": [
              "<Figure size 640x480 with 1 Axes>"
            ]
          },
          "metadata": {},
          "output_type": "display_data"
        }
      ],
      "source": [
        "import matplotlib.pyplot as plt\n",
        "\n",
        "plt.scatter(df['Height'], df['Weight'], marker='X')\n",
        "plt.xlabel(\"Height\")\n",
        "plt.ylabel(\"Weight\")\n",
        "plt.show()"
      ]
    },
    {
      "cell_type": "markdown",
      "metadata": {
        "id": "_r3tAqoT4RG6"
      },
      "source": [
        "Looking at the distribution of the data, it seems like `Weight` and `Height` have a linear relationship. Hence, a linear regression model should be able to capture this relationship.  \n",
        "\n",
        "Let's us convert the dataframe `df` to a Numpy array so that it is easier to perform operations on it."
      ]
    },
    {
      "cell_type": "code",
      "execution_count": 218,
      "metadata": {
        "id": "7jsY8pC-4RG6"
      },
      "outputs": [],
      "source": [
        "X_train = np.array(df['Height'])\n",
        "y_train = np.array(df['Weight'])\n",
        "X_train = np.expand_dims(X_train, -1)"
      ]
    },
    {
      "cell_type": "markdown",
      "metadata": {
        "id": "MfVJtXGE4RG7"
      },
      "source": [
        "### (30 points) Implement the ` LinearRegression` class\n",
        "Make sure it works with more than 1 feature.  \n",
        "**NOTE:** Do **NOT** forget to include a bias term in the weights."
      ]
    },
    {
      "cell_type": "code",
      "execution_count": 219,
      "metadata": {
        "id": "gKNs0n0r4RG7"
      },
      "outputs": [],
      "source": [
        "class LinearRegression:\n",
        "    def __init__(self, lr=0.001, epochs=30):\n",
        "        \"\"\"\n",
        "        Fits a linear regression model on a given dataset.\n",
        "\n",
        "        Args:\n",
        "            lr: learning rate\n",
        "            epochs: number of iterations over the dataset\n",
        "        \"\"\"\n",
        "        self.lr = lr\n",
        "        self.epochs = epochs\n",
        "\n",
        "    def train(self, X, y):\n",
        "        \"\"\"\n",
        "        Initialize weights. Iterate through the dataset and update weights once every epoch.\n",
        "\n",
        "        Args:\n",
        "            X: features\n",
        "            y: target\n",
        "        \"\"\"\n",
        "        self.obs, self.features = X.shape\n",
        "        \n",
        "        self.weights = np.zeros(self.features)\n",
        "        self.bias = 0\n",
        "\n",
        "        for i in range(self.epochs):\n",
        "            self.update_weights(X,y)\n",
        "        \n",
        "    def update_weights(self, X, y):\n",
        "        \"\"\"\n",
        "        Helper function to calculate the gradients and update weights using batch gradient descent.\n",
        "\n",
        "        Args:\n",
        "            X: features\n",
        "            y: target\n",
        "        \"\"\"\n",
        "        yPredicted = self.predict(X)\n",
        "        grad_w = -2 * np.dot(X.T, (y - yPredicted)) / self.obs\n",
        "        grad_b = -2 * np.sum(y - yPredicted) / self.obs\n",
        "        self.weights = self.weights - self.lr * grad_w\n",
        "        self.bias = self.bias - self.lr * grad_b\n",
        "\n",
        "    def predict(self, X):\n",
        "        \"\"\"\n",
        "        Predict values using the weights.\n",
        "\n",
        "        Args:\n",
        "            X: features\n",
        "\n",
        "        Returns:\n",
        "            The predicted value.\n",
        "        \"\"\"\n",
        "        return X.dot(self.weights) + self.bias\n",
        "    \n",
        "    def tell_weights_bias(self):\n",
        "        return (self.weights, self.bias)"
      ]
    },
    {
      "cell_type": "markdown",
      "metadata": {
        "id": "x14dIa1r4RG7"
      },
      "source": [
        "### Build the model and train on the dataset."
      ]
    },
    {
      "cell_type": "code",
      "execution_count": 220,
      "metadata": {
        "id": "iDbdaKYi4RG8"
      },
      "outputs": [],
      "source": [
        "model1 = LinearRegression(0.01, 100000)\n",
        "model1.train(X_train, y_train)"
      ]
    },
    {
      "cell_type": "markdown",
      "metadata": {
        "id": "y_XhoaNJ4RG8"
      },
      "source": [
        "### (5 points) Implement the evaluation metric `mean squared error`.\n",
        "We use the [mean squared error (MSE)](https://en.wikipedia.org/wiki/Mean_squared_error) as the metric to evaluate our model."
      ]
    },
    {
      "cell_type": "code",
      "execution_count": 221,
      "metadata": {
        "id": "Hy2HKm6H4RG8"
      },
      "outputs": [],
      "source": [
        "def mean_squared_error(y_pred, y_actual):\n",
        "    \"\"\"\n",
        "    Calculates the mean squared error between two vectors.\n",
        "\n",
        "    Args:\n",
        "        y_pred: predicted values\n",
        "        y_actual: actual/true values\n",
        "\n",
        "    Returns:\n",
        "        The mean squared error.\n",
        "    \"\"\"\n",
        "    return np.mean(np.square(y_pred - y_actual))"
      ]
    },
    {
      "cell_type": "markdown",
      "metadata": {
        "id": "bEL5aZl34RG8"
      },
      "source": [
        "### Make predictions using the model and evaluate it."
      ]
    },
    {
      "cell_type": "code",
      "execution_count": 222,
      "metadata": {
        "id": "xNoF3xni4RG8"
      },
      "outputs": [
        {
          "name": "stdout",
          "output_type": "stream",
          "text": [
            "Train MSE: 0.4994\n"
          ]
        }
      ],
      "source": [
        "y_pred = model1.predict(X_train)\n",
        "print(\"Train MSE: {:.4f}\".format(mean_squared_error(y_pred, y_train)))"
      ]
    },
    {
      "cell_type": "markdown",
      "metadata": {
        "id": "rHBt5m9I4RG9"
      },
      "source": [
        "### Plot the predicted and the actual values."
      ]
    },
    {
      "cell_type": "code",
      "execution_count": 223,
      "metadata": {
        "id": "IUpXshvT4RG9"
      },
      "outputs": [
        {
          "data": {
            "image/png": "[encoded data removed]",
            "text/plain": [
              "<Figure size 640x480 with 1 Axes>"
            ]
          },
          "metadata": {},
          "output_type": "display_data"
        }
      ],
      "source": [
        "import matplotlib.pyplot as plt\n",
        "\n",
        "plt.scatter(X_train, y_train, marker='X', label='actual')\n",
        "plt.scatter(X_train, y_pred, marker='o', label='predicted')\n",
        "plt.legend()\n",
        "plt.show()"
      ]
    },
    {
      "cell_type": "markdown",
      "metadata": {
        "id": "UidA5Xfg4RG9"
      },
      "source": [
        "### Multiple linear regression for sales prediction\n",
        "\n",
        "Next we use our linear regression model to learn the relationship between sales and advertising budget for a product. The `advertise.csv` dataset contains statistics about the sales of a product in 200 different markets, together with advertising budgets in each of these markets for different media channels: TV, radio, and newspaper. The sales are in thousands of units and the budget is in thousands of dollars.  \n",
        "\n",
        "We will train a linear regression model to predict the sales of the product given the TV, radio, and newspaper ad budgets."
      ]
    },
    {
      "cell_type": "code",
      "execution_count": 224,
      "metadata": {
        "id": "3EO2yBKf4RG9"
      },
      "outputs": [],
      "source": [
        "df = pd.read_csv('./advertise.csv')"
      ]
    },
    {
      "cell_type": "code",
      "execution_count": 225,
      "metadata": {
        "id": "eDQOiAik4RG-"
      },
      "outputs": [
        {
          "data": {
            "text/html": [
              "<div>\n",
              "<style scoped>\n",
              "    .dataframe tbody tr th:only-of-type {\n",
              "        vertical-align: middle;\n",
              "    }\n",
              "\n",
              "    .dataframe tbody tr th {\n",
              "        vertical-align: top;\n",
              "    }\n",
              "\n",
              "    .dataframe thead th {\n",
              "        text-align: right;\n",
              "    }\n",
              "</style>\n",
              "<table border=\"1\" class=\"dataframe\">\n",
              "  <thead>\n",
              "    <tr style=\"text-align: right;\">\n",
              "      <th></th>\n",
              "      <th>TV</th>\n",
              "      <th>Radio</th>\n",
              "      <th>Newspaper</th>\n",
              "      <th>Sales</th>\n",
              "    </tr>\n",
              "  </thead>\n",
              "  <tbody>\n",
              "    <tr>\n",
              "      <th>0</th>\n",
              "      <td>230.1</td>\n",
              "      <td>37.8</td>\n",
              "      <td>69.2</td>\n",
              "      <td>22.1</td>\n",
              "    </tr>\n",
              "    <tr>\n",
              "      <th>1</th>\n",
              "      <td>44.5</td>\n",
              "      <td>39.3</td>\n",
              "      <td>45.1</td>\n",
              "      <td>10.4</td>\n",
              "    </tr>\n",
              "    <tr>\n",
              "      <th>2</th>\n",
              "      <td>17.2</td>\n",
              "      <td>45.9</td>\n",
              "      <td>69.3</td>\n",
              "      <td>12.0</td>\n",
              "    </tr>\n",
              "    <tr>\n",
              "      <th>3</th>\n",
              "      <td>151.5</td>\n",
              "      <td>41.3</td>\n",
              "      <td>58.5</td>\n",
              "      <td>16.5</td>\n",
              "    </tr>\n",
              "    <tr>\n",
              "      <th>4</th>\n",
              "      <td>180.8</td>\n",
              "      <td>10.8</td>\n",
              "      <td>58.4</td>\n",
              "      <td>17.9</td>\n",
              "    </tr>\n",
              "  </tbody>\n",
              "</table>\n",
              "</div>"
            ],
            "text/plain": [
              "      TV  Radio  Newspaper  Sales\n",
              "0  230.1   37.8       69.2   22.1\n",
              "1   44.5   39.3       45.1   10.4\n",
              "2   17.2   45.9       69.3   12.0\n",
              "3  151.5   41.3       58.5   16.5\n",
              "4  180.8   10.8       58.4   17.9"
            ]
          },
          "execution_count": 225,
          "metadata": {},
          "output_type": "execute_result"
        }
      ],
      "source": [
        "df.head()"
      ]
    },
    {
      "cell_type": "code",
      "execution_count": 226,
      "metadata": {
        "id": "hen7UJXv4RG-"
      },
      "outputs": [],
      "source": [
        "X = np.array(df[['TV', 'Radio', 'Newspaper']])\n",
        "y = np.array(df['Sales'])"
      ]
    },
    {
      "cell_type": "markdown",
      "metadata": {
        "id": "eFNKfYAu4RG-"
      },
      "source": [
        "### (5 points) Normalize the features in your dataset.\n",
        "\n",
        "Gradient descent-based models can be sensitive to different scales of the features/independent variables. Hence, it is important to normalize them. You may use the functions, `dataset_minmax`, `normalize_dataset`, and `unnormalize_dataset`, provided in the code block below to perform [min-max normalization](https://en.wikipedia.org/wiki/Feature_scaling) on the features."
      ]
    },
    {
      "cell_type": "code",
      "execution_count": 227,
      "metadata": {
        "id": "qAnBQd9a4RG-"
      },
      "outputs": [],
      "source": [
        "def dataset_minmax(dataset):\n",
        "    \"\"\"\n",
        "    Finds the min and max values for each column.\n",
        "    \"\"\"\n",
        "    minmax = list()\n",
        "    for i in range(len(dataset[0])):\n",
        "        col_values = [row[i] for row in dataset]\n",
        "        value_min = min(col_values)\n",
        "        value_max = max(col_values)\n",
        "        minmax.append([value_min, value_max])\n",
        "    return minmax\n",
        "\n",
        "def normalize_dataset(dataset, minmax):\n",
        "    \"\"\"\n",
        "    Rescales dataset columns to the range 0-1.\n",
        "    \"\"\"\n",
        "    for row in dataset:\n",
        "        for i in range(len(row)):\n",
        "            row[i] = (row[i] - minmax[i][0]) / (minmax[i][1] - minmax[i][0])\n",
        "    return dataset\n",
        "\n",
        "def unnormalize_dataset(dataset, minmax):\n",
        "    \"\"\"\n",
        "    Rescales dataset columns to their original values.\n",
        "    \"\"\"\n",
        "    for row in dataset:\n",
        "        for i in range(len(row)):\n",
        "            row[i] = minmax[i][0] + (minmax[i][1] - minmax[i][0]) * row[i]\n",
        "    return dataset"
      ]
    },
    {
      "cell_type": "code",
      "execution_count": 228,
      "metadata": {
        "id": "Ru0vSf-n4RG_"
      },
      "outputs": [],
      "source": [
        "minmax = dataset_minmax(X)\n",
        "X_normalized = normalize_dataset(X, minmax)"
      ]
    },
    {
      "cell_type": "markdown",
      "metadata": {
        "id": "Z58Lnr5j4RG_"
      },
      "source": [
        "### Split the data into train and test set."
      ]
    },
    {
      "cell_type": "code",
      "execution_count": 229,
      "metadata": {
        "id": "5iK_25IL4RG_"
      },
      "outputs": [],
      "source": [
        "def split_indices(n, test_frac, seed):\n",
        "    \"\"\"\n",
        "    Provides indices for creating training and test set.\n",
        "    \"\"\"\n",
        "    # Determine the size of the test set\n",
        "    n_test = int(test_frac * n)\n",
        "    np.random.seed(seed)\n",
        "    # Create random permutation between 0 to n-1\n",
        "    idxs = np.random.permutation(n)\n",
        "    # Pick first n_test indices for test set\n",
        "    return idxs[n_test:], idxs[:n_test]"
      ]
    },
    {
      "cell_type": "code",
      "execution_count": 230,
      "metadata": {
        "id": "649CelxA4RHA"
      },
      "outputs": [
        {
          "name": "stdout",
          "output_type": "stream",
          "text": [
            "#samples in training set: 160\n",
            "#samples in test set: 40\n"
          ]
        }
      ],
      "source": [
        "test_frac = 0.2 ## Set the fraction for the test set\n",
        "rand_seed = 42 ## Set the random seed\n",
        "\n",
        "train_indices, test_indices = split_indices(df.shape[0], test_frac, rand_seed)\n",
        "print(\"#samples in training set: {}\".format(len(train_indices)))\n",
        "print(\"#samples in test set: {}\".format(len(test_indices)))"
      ]
    },
    {
      "cell_type": "code",
      "execution_count": 231,
      "metadata": {
        "id": "xEGZwH-T4RHA"
      },
      "outputs": [],
      "source": [
        "X_train = X[train_indices]\n",
        "y_train = y[train_indices]\n",
        "X_test = X[test_indices]\n",
        "y_test = y[test_indices]"
      ]
    },
    {
      "cell_type": "markdown",
      "metadata": {
        "id": "YJEBnkzv4RHA"
      },
      "source": [
        "### Build the model and train on the dataset."
      ]
    },
    {
      "cell_type": "code",
      "execution_count": 232,
      "metadata": {
        "id": "oLAFhbCc4RHA"
      },
      "outputs": [
        {
          "name": "stdout",
          "output_type": "stream",
          "text": [
            "(160, 3) (160,)\n"
          ]
        },
        {
          "name": "stdout",
          "output_type": "stream",
          "text": [
            "[16.11839139  5.00688997  0.49307674]\n"
          ]
        }
      ],
      "source": [
        "model2 = LinearRegression(0.01, 100000)\n",
        "print(X_train.shape, y_train.shape)\n",
        "model2.train(X_train, y_train)\n",
        "print(model2.weights)"
      ]
    },
    {
      "cell_type": "markdown",
      "metadata": {
        "id": "cqzCg_Vw4RHB"
      },
      "source": [
        "### (10 points) Evaluation on training and test set.\n",
        "If you have implemented `LinearRegression` correctly, the **test MSE** should be < 3."
      ]
    },
    {
      "cell_type": "code",
      "execution_count": 233,
      "metadata": {
        "id": "0rikRruQ4RHB"
      },
      "outputs": [
        {
          "name": "stdout",
          "output_type": "stream",
          "text": [
            "Training MSE: 2.6761\n",
            "Test MSE: 2.9078\n"
          ]
        }
      ],
      "source": [
        "print(\"Training MSE: {:.4f}\".format(mean_squared_error(model2.predict(X_train), y_train)))\n",
        "print(\"Test MSE: {:.4f}\".format(mean_squared_error(model2.predict(X_test), y_test)))"
      ]
    },
    {
      "cell_type": "markdown",
      "metadata": {
        "id": "eL2RPPja8u2r"
      },
      "source": [
        "# Using Closed Form Solution(75)\n"
      ]
    },
    {
      "cell_type": "markdown",
      "metadata": {
        "id": "0JDKmqqk9-kp"
      },
      "source": [
        "* For both the above 2 models you need to try out the closed form solutions\n",
        "* The more efforts you put in, the more marks you get.\n",
        "* It is open ended"
      ]
    },
    {
      "cell_type": "code",
      "execution_count": 234,
      "metadata": {
        "id": "l1r74Kkg-TFh"
      },
      "outputs": [
        {
          "name": "stdout",
          "output_type": "stream",
          "text": [
            "[61.22280963] -38.98018435343468\n",
            "[16.11839139  5.00688997  0.49307674] 4.753583885846188\n"
          ]
        }
      ],
      "source": [
        "weights1, bias1 = model1.tell_weights_bias()\n",
        "weights2, bias2 = model2.tell_weights_bias()\n",
        "print(weights1,bias1)\n",
        "print(weights2,bias2)"
      ]
    },
    {
      "cell_type": "markdown",
      "metadata": {
        "id": "xcC2tNgp4RHC"
      },
      "source": [
        "## Question 2 (50 points)\n",
        "\n",
        "## Logistic Regression\n",
        "\n",
        "In this section, we'll implement a logistic regression model that can learn to predict the class/label of a target/dependent variable based on multiple independent variables. We'll be using gradient descent to train the model."
      ]
    },
    {
      "cell_type": "markdown",
      "metadata": {
        "id": "CA8ztGQY4RHC"
      },
      "source": [
        "### Data Preparation\n",
        "Once again, to keep things simple, first we'll use the heights and weights dataset to test our implementation. Let's divide the weights into 2 categories: 0 if the weight is < 60 and 1 otherwise. Our goal is to predict the weight category of an individual given their height using a logistic regression model."
      ]
    },
    {
      "cell_type": "code",
      "execution_count": 235,
      "metadata": {
        "id": "Y7ERJOsO4RHC"
      },
      "outputs": [
        {
          "data": {
            "text/html": [
              "<div>\n",
              "<style scoped>\n",
              "    .dataframe tbody tr th:only-of-type {\n",
              "        vertical-align: middle;\n",
              "    }\n",
              "\n",
              "    .dataframe tbody tr th {\n",
              "        vertical-align: top;\n",
              "    }\n",
              "\n",
              "    .dataframe thead th {\n",
              "        text-align: right;\n",
              "    }\n",
              "</style>\n",
              "<table border=\"1\" class=\"dataframe\">\n",
              "  <thead>\n",
              "    <tr style=\"text-align: right;\">\n",
              "      <th></th>\n",
              "      <th>Height</th>\n",
              "      <th>Weight</th>\n",
              "    </tr>\n",
              "  </thead>\n",
              "  <tbody>\n",
              "    <tr>\n",
              "      <th>0</th>\n",
              "      <td>1.47</td>\n",
              "      <td>52.21</td>\n",
              "    </tr>\n",
              "    <tr>\n",
              "      <th>1</th>\n",
              "      <td>1.50</td>\n",
              "      <td>53.12</td>\n",
              "    </tr>\n",
              "    <tr>\n",
              "      <th>2</th>\n",
              "      <td>1.52</td>\n",
              "      <td>54.48</td>\n",
              "    </tr>\n",
              "    <tr>\n",
              "      <th>3</th>\n",
              "      <td>1.55</td>\n",
              "      <td>55.84</td>\n",
              "    </tr>\n",
              "    <tr>\n",
              "      <th>4</th>\n",
              "      <td>1.57</td>\n",
              "      <td>57.20</td>\n",
              "    </tr>\n",
              "  </tbody>\n",
              "</table>\n",
              "</div>"
            ],
            "text/plain": [
              "   Height  Weight\n",
              "0    1.47   52.21\n",
              "1    1.50   53.12\n",
              "2    1.52   54.48\n",
              "3    1.55   55.84\n",
              "4    1.57   57.20"
            ]
          },
          "execution_count": 235,
          "metadata": {},
          "output_type": "execute_result"
        }
      ],
      "source": [
        "df = pd.read_csv('./heights.csv')\n",
        "df.head()"
      ]
    },
    {
      "cell_type": "code",
      "execution_count": 236,
      "metadata": {
        "id": "iprV7qbF4RHC"
      },
      "outputs": [],
      "source": [
        "X_train = np.array(df['Height'])\n",
        "y_train = np.array((df['Weight'] >= 60).astype('float'))\n",
        "X_train = np.expand_dims(X_train, -1)"
      ]
    },
    {
      "cell_type": "markdown",
      "metadata": {
        "id": "yjEHEaPM4RHD"
      },
      "source": [
        "### (30 points) Implement the ` LogisticRegression` class\n",
        "Make sure it works with more than 1 feature.  \n",
        "**NOTE:** Do **NOT** forget to include a bias term in the weights."
      ]
    },
    {
      "cell_type": "code",
      "execution_count": 237,
      "metadata": {
        "id": "Tky-3IuZ4RHE"
      },
      "outputs": [],
      "source": [
        "class LogisticRegression:\n",
        "    def __init__(self, lr=0.001, epochs=30):\n",
        "        \"\"\"\n",
        "        Fits a logistic regression model on a given dataset.\n",
        "\n",
        "        Args:\n",
        "            lr: learning rate\n",
        "            epochs: number of iterations over the dataset\n",
        "        \"\"\"\n",
        "        self.lr = lr\n",
        "        self.epochs = epochs\n",
        "\n",
        "    # Function for model training\n",
        "    def train(self, X, y):\n",
        "        \"\"\"\n",
        "        Initialize weights. Iterate through the dataset and update weights once every epoch.\n",
        "\n",
        "        Args:\n",
        "            X: features\n",
        "            y: target\n",
        "        \"\"\"\n",
        "        self.obs, self.features = X.shape\n",
        "        \n",
        "        self.weights = np.zeros(self.features)\n",
        "        self.bias = 0\n",
        "\n",
        "        for i in range(self.epochs):\n",
        "            self.update_weights(X,y)\n",
        "\n",
        "    def update_weights(self, X, y):\n",
        "        \"\"\"\n",
        "        Helper function to calculate the gradients and update weights in gradient descent.\n",
        "\n",
        "        Args:\n",
        "            X: features\n",
        "            y: target\n",
        "        \"\"\"\n",
        "        A = self.predict(X)\n",
        "          \n",
        "        tmp = (A - y.T)\n",
        "        tmp = np.reshape(tmp, self.obs)\n",
        "        dW = np.dot(X.T, tmp)/self.obs\n",
        "        db = np.sum(tmp)/self.obs\n",
        "          \n",
        "        self.weights -= self.lr * dW     \n",
        "        self.bias -= self.lr * db \n",
        "\n",
        "    def predict(self, X):\n",
        "        \"\"\"\n",
        "        Predict probabilities using the weights.\n",
        "\n",
        "        Args:\n",
        "            X: features\n",
        "\n",
        "        Returns:\n",
        "            The predicted probability.\n",
        "        \"\"\"\n",
        "        Z = 1/(1 + np.exp(-(X.dot(self.weights) + self.bias)))\n",
        "        \n",
        "        return Z"
      ]
    },
    {
      "cell_type": "markdown",
      "metadata": {
        "id": "aIHKSSm84RHE"
      },
      "source": [
        "### Build the model and train on the dataset."
      ]
    },
    {
      "cell_type": "code",
      "execution_count": 238,
      "metadata": {
        "id": "sRGl9dRH4RHE"
      },
      "outputs": [],
      "source": [
        "model = LogisticRegression(0.1, 100000)\n",
        "model.train(X_train, y_train)"
      ]
    },
    {
      "cell_type": "markdown",
      "metadata": {
        "id": "DWTcEd7I4RHF"
      },
      "source": [
        "### (5 points) Implement the evaluation metric `accuracy`.\n",
        "We use the [accuracy](https://developers.google.com/machine-learning/crash-course/classification/accuracy) as the metric to evaluate our model."
      ]
    },
    {
      "cell_type": "code",
      "execution_count": 239,
      "metadata": {
        "id": "yv6LbsKL4RHF"
      },
      "outputs": [],
      "source": [
        "def accuracy(y_pred, y_actual):\n",
        "    \"\"\"\n",
        "    Calculates the accuracy of the predictions (binary values).\n",
        "\n",
        "    Args:\n",
        "        y_pred: predicted values\n",
        "        y_actual: actual/true values\n",
        "\n",
        "    Returns:\n",
        "        The accuracy.\n",
        "    \"\"\"\n",
        "    return (np.dot(y_pred, y_actual) + np.dot(1-y_pred, 1-y_actual))/y_pred.shape[0]\n"
      ]
    },
    {
      "cell_type": "markdown",
      "metadata": {
        "id": "0ycc9Syi4RHF"
      },
      "source": [
        "### Make predictions using the model and evaluate it."
      ]
    },
    {
      "cell_type": "code",
      "execution_count": 240,
      "metadata": {
        "id": "H-dveNV54RHF"
      },
      "outputs": [
        {
          "name": "stdout",
          "output_type": "stream",
          "text": [
            "Train Accuracy: 1.0\n"
          ]
        }
      ],
      "source": [
        "y_pred_probs = model.predict(X_train)\n",
        "y_pred = (y_pred_probs >= 0.5).astype('float')\n",
        "print(\"Train Accuracy: {}\".format(accuracy(y_pred, y_train)))"
      ]
    },
    {
      "cell_type": "markdown",
      "metadata": {
        "id": "7oMq4zVx4RHF"
      },
      "source": [
        "### Plot the predicted and the actual values."
      ]
    },
    {
      "cell_type": "code",
      "execution_count": 241,
      "metadata": {
        "id": "BHFg-jO54RHF"
      },
      "outputs": [
        {
          "data": {
            "image/png": "[encoded data removed]",
            "text/plain": [
              "<Figure size 640x480 with 1 Axes>"
            ]
          },
          "metadata": {},
          "output_type": "display_data"
        }
      ],
      "source": [
        "import matplotlib.pyplot as plt\n",
        "\n",
        "plt.scatter(X_train, y_train, marker='x', label='actual')\n",
        "plt.scatter(X_train, y_pred, marker='o', label='predicted')\n",
        "plt.scatter(X_train, y_pred_probs, marker='o', label='predicted probabilities')\n",
        "plt.legend()\n",
        "plt.show()"
      ]
    },
    {
      "cell_type": "markdown",
      "metadata": {
        "id": "gxXn7KgR_nfp"
      },
      "source": [
        "# K Means Clustering(100 marks)\n",
        "\n"
      ]
    },
    {
      "cell_type": "code",
      "execution_count": 245,
      "metadata": {
        "id": "Djh2kIf7_rfk"
      },
      "outputs": [],
      "source": [
        "import numpy as np\n",
        "import matplotlib.pyplot as plt\n",
        "\n",
        "# Define the parameters of the two Gaussians\n",
        "mu1 = np.array([3, 3])\n",
        "Sigma1 = np.array([[1, 0], [0, 2]])\n",
        "\n",
        "mu2 = np.array([1, -3])\n",
        "Sigma2 = np.array([[2, 0], [0, 1]])\n",
        "\n",
        "mu3 = np.array([-10, 8])\n",
        "Sigma3 = np.array([[2, 0], [0, 2]])\n",
        "\n"
      ]
    },
    {
      "cell_type": "code",
      "execution_count": 246,
      "metadata": {
        "colab": {
          "base_uri": "https://localhost:8080/",
          "height": 564
        },
        "id": "t7V8rfCN_x_T",
        "outputId": "cfe473e2-1da7-4565-8359-3c9e9c881524"
      },
      "outputs": [
        {
          "data": {
            "image/png": "[encoded data removed]",
            "text/plain": [
              "<Figure size 800x600 with 1 Axes>"
            ]
          },
          "metadata": {},
          "output_type": "display_data"
        }
      ],
      "source": [
        "n_samples = 200\n",
        "samples1 = np.random.multivariate_normal(mu1, Sigma1, n_samples)\n",
        "samples2 = np.random.multivariate_normal(mu2, Sigma2, n_samples)\n",
        "samples3 = np.random.multivariate_normal(mu3, Sigma3, n_samples)\n",
        "\n",
        "# Plot the generated samples\n",
        "plt.figure(figsize=(8, 6))\n",
        "plt.scatter(samples1[:, 0], samples1[:, 1], c='red', label='Gaussian 1')\n",
        "plt.scatter(samples2[:, 0], samples2[:, 1], c='blue', label='Gaussian 2')\n",
        "plt.scatter(samples2[:, 0], samples3[:, 1], c='green', label='Gaussian 3')\n",
        "plt.xlabel('X1')\n",
        "plt.ylabel('X2')\n",
        "plt.title('Generated Samples from Two Gaussians')\n",
        "plt.legend()\n",
        "plt.grid(True)\n",
        "plt.show()"
      ]
    },
    {
      "cell_type": "markdown",
      "metadata": {
        "id": "l7SdDaTtBjlY"
      },
      "source": [
        "The above is the dataset generated from 3 gaussians, and a visualizations for the same, You need to assume that you have the data and then you use k means for the same your output should be similar to what is shown above"
      ]
    },
    {
      "cell_type": "code",
      "execution_count": 247,
      "metadata": {},
      "outputs": [],
      "source": [
        "def d(p1,p2):\n",
        "    return np.sqrt(np.sum((p1-p2)**2))"
      ]
    },
    {
      "cell_type": "code",
      "execution_count": 248,
      "metadata": {
        "id": "6h-0EeQvBA0W"
      },
      "outputs": [
        {
          "name": "stdout",
          "output_type": "stream",
          "text": [
            "[[  1.72912819   3.77721832]\n",
            " [-11.63422001   8.45144998]\n",
            " [  1.33184805  -2.74724449]]\n"
          ]
        }
      ],
      "source": [
        "alls = np.concatenate((samples1, samples2, samples3))\n",
        "allcol=np.zeros(alls.shape[0])\n",
        "clusters=3\n",
        "centers = alls[np.random.randint(0,alls.shape[0],3)]\n",
        "print(centers)"
      ]
    },
    {
      "cell_type": "code",
      "execution_count": 249,
      "metadata": {},
      "outputs": [
        {
          "data": {
            "image/png": "[encoded data removed]",
            "text/plain": [
              "<Figure size 800x600 with 1 Axes>"
            ]
          },
          "metadata": {},
          "output_type": "display_data"
        }
      ],
      "source": [
        "for i in range(50):\n",
        "    for j in range(alls.shape[0]):\n",
        "        kmin = 0\n",
        "        dmin=-1\n",
        "        for k in range(clusters):\n",
        "            ds = d(alls[j],centers[k])\n",
        "            if ds<dmin or dmin==-1:\n",
        "                dmin=ds\n",
        "                kmin=k\n",
        "        allcol[j] = kmin\n",
        "    for k in range(clusters):\n",
        "        centers[k] = (np.mean(alls[allcol==k],axis=0))\n",
        "\n",
        "plt.figure(figsize=(8, 6))\n",
        "plt.scatter(alls[allcol==0][:, 0], alls[allcol==0][:, 1], c='red', label='Gaussian 1')\n",
        "plt.scatter(alls[allcol==1][:, 0], alls[allcol==1][:, 1], c='blue', label='Gaussian 2')\n",
        "plt.scatter(alls[allcol==2][:, 0], alls[allcol==2][:, 1], c='green', label='Gaussian 3')\n",
        "plt.scatter(centers[0][0], centers[0][1], c='orange', label='Gaussian 1')\n",
        "plt.scatter(centers[1][0], centers[1][1], c='orange', label='Gaussian 1')\n",
        "plt.scatter(centers[2][0], centers[2][1], c='orange', label='Gaussian 1')\n",
        "plt.xlabel('X1')\n",
        "plt.ylabel('X2')\n",
        "plt.title('Generated Samples from Two Gaussians')\n",
        "plt.legend()\n",
        "plt.grid(True)\n",
        "plt.show()"
      ]
    }
  ],
  "metadata": {
    "colab": {
      "provenance": []
    },
    "kernelspec": {
      "display_name": "Python 3",
      "language": "python",
      "name": "python3"
    },
    "language_info": {
      "codemirror_mode": {
        "name": "ipython",
        "version": 3
      },
      "file_extension": ".py",
      "mimetype": "text/x-python",
      "name": "python",
      "nbconvert_exporter": "python",
      "pygments_lexer": "ipython3",
      "version": "3.10.12"
    }
  },
  "nbformat": 4,
  "nbformat_minor": 0
}
