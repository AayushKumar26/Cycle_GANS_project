{
  "cells": [
    {
      "cell_type": "markdown",
      "metadata": {
        "id": "3WgQaGKq4RG2"
      },
      "source": [
        "# Linear and Logistic Regression\n",
        "- **100 points**\n",
        "\n",
        "### Instructions\n",
        "- you cannot use any other library.Write the code from scratch.\n",
        "- You're free to add any number of methods within each class.\n",
        "- You may also add any number of additional code blocks that you deem necessary.\n",
        "- link for the datasets - https://drive.google.com/drive/folders/1MXmIChMxodGbEpowyVJBFLdvaDpj23gd?usp=sharing\n"
      ]
    },
    {
      "cell_type": "markdown",
      "metadata": {
        "id": "JR9X7Smj4RG3"
      },
      "source": [
        "## Question 1 (50 points)\n",
        "\n",
        "## Linear Regression\n",
        "\n",
        "In this section, we'll implement a linear regression model that can learn to predict a target/dependent variable based on multiple independent variables. We'll be using gradient descent to train the model."
      ]
    },
    {
      "cell_type": "code",
      "execution_count": 106,
      "metadata": {
        "id": "Qdsy9_mV4RG4"
      },
      "outputs": [],
      "source": [
        "# Importing Libraries\n",
        "import time\n",
        "import math\n",
        "import numpy as np\n",
        "import pandas as pd\n",
        "import matplotlib.pyplot as plt\n",
        "from sklearn.linear_model import LinearRegression as SklearnLinearRegression\n",
        "%matplotlib inline"
      ]
    },
    {
      "cell_type": "markdown",
      "metadata": {
        "id": "RFCcSgtV4RG5"
      },
      "source": [
        "### Data Preparation.\n",
        "To keep things simple, first we'll use a toy dataset to test our implementation. This dataset contains the heights and weights of a few individuals. Our goal is to predict the weight of an individual given their height using a linear regression model."
      ]
    },
    {
      "cell_type": "code",
      "execution_count": 107,
      "metadata": {
        "id": "Z_-53bJa4RG5"
      },
      "outputs": [],
      "source": [
        "df = pd.read_csv('./heights.csv')"
      ]
    },
    {
      "cell_type": "code",
      "execution_count": 108,
      "metadata": {
        "id": "KQwz0GN-4RG5",
        "colab": {
          "base_uri": "https://localhost:8080/",
          "height": 206
        },
        "outputId": "a8af6bd9-70bd-4fae-b381-bf81e0b22584"
      },
      "outputs": [
        {
          "output_type": "execute_result",
          "data": {
            "text/plain": [
              "   Height  Weight\n",
              "0    1.47   52.21\n",
              "1    1.50   53.12\n",
              "2    1.52   54.48\n",
              "3    1.55   55.84\n",
              "4    1.57   57.20"
            ],
            "text/html": [
              "\n",
              "  <div id=\"df-6763b80f-4283-4636-a164-ae98ecdb4123\" class=\"colab-df-container\">\n",
              "    <div>\n",
              "<style scoped>\n",
              "    .dataframe tbody tr th:only-of-type {\n",
              "        vertical-align: middle;\n",
              "    }\n",
              "\n",
              "    .dataframe tbody tr th {\n",
              "        vertical-align: top;\n",
              "    }\n",
              "\n",
              "    .dataframe thead th {\n",
              "        text-align: right;\n",
              "    }\n",
              "</style>\n",
              "<table border=\"1\" class=\"dataframe\">\n",
              "  <thead>\n",
              "    <tr style=\"text-align: right;\">\n",
              "      <th></th>\n",
              "      <th>Height</th>\n",
              "      <th>Weight</th>\n",
              "    </tr>\n",
              "  </thead>\n",
              "  <tbody>\n",
              "    <tr>\n",
              "      <th>0</th>\n",
              "      <td>1.47</td>\n",
              "      <td>52.21</td>\n",
              "    </tr>\n",
              "    <tr>\n",
              "      <th>1</th>\n",
              "      <td>1.50</td>\n",
              "      <td>53.12</td>\n",
              "    </tr>\n",
              "    <tr>\n",
              "      <th>2</th>\n",
              "      <td>1.52</td>\n",
              "      <td>54.48</td>\n",
              "    </tr>\n",
              "    <tr>\n",
              "      <th>3</th>\n",
              "      <td>1.55</td>\n",
              "      <td>55.84</td>\n",
              "    </tr>\n",
              "    <tr>\n",
              "      <th>4</th>\n",
              "      <td>1.57</td>\n",
              "      <td>57.20</td>\n",
              "    </tr>\n",
              "  </tbody>\n",
              "</table>\n",
              "</div>\n",
              "    <div class=\"colab-df-buttons\">\n",
              "\n",
              "  <div class=\"colab-df-container\">\n",
              "    <button class=\"colab-df-convert\" onclick=\"convertToInteractive('df-6763b80f-4283-4636-a164-ae98ecdb4123')\"\n",
              "            title=\"Convert this dataframe to an interactive table.\"\n",
              "            style=\"display:none;\">\n",
              "\n",
              "  <svg xmlns=\"http://www.w3.org/2000/svg\" height=\"24px\" viewBox=\"0 -960 960 960\">\n",
              "    <path d=\"M120-120v-720h720v720H120Zm60-500h600v-160H180v160Zm220 220h160v-160H400v160Zm0 220h160v-160H400v160ZM180-400h160v-160H180v160Zm440 0h160v-160H620v160ZM180-180h160v-160H180v160Zm440 0h160v-160H620v160Z\"/>\n",
              "  </svg>\n",
              "    </button>\n",
              "\n",
              "  <style>\n",
              "    .colab-df-container {\n",
              "      display:flex;\n",
              "      gap: 12px;\n",
              "    }\n",
              "\n",
              "    .colab-df-convert {\n",
              "      background-color: #E8F0FE;\n",
              "      border: none;\n",
              "      border-radius: 50%;\n",
              "      cursor: pointer;\n",
              "      display: none;\n",
              "      fill: #1967D2;\n",
              "      height: 32px;\n",
              "      padding: 0 0 0 0;\n",
              "      width: 32px;\n",
              "    }\n",
              "\n",
              "    .colab-df-convert:hover {\n",
              "      background-color: #E2EBFA;\n",
              "      box-shadow: 0px 1px 2px rgba(60, 64, 67, 0.3), 0px 1px 3px 1px rgba(60, 64, 67, 0.15);\n",
              "      fill: #174EA6;\n",
              "    }\n",
              "\n",
              "    .colab-df-buttons div {\n",
              "      margin-bottom: 4px;\n",
              "    }\n",
              "\n",
              "    [theme=dark] .colab-df-convert {\n",
              "      background-color: #3B4455;\n",
              "      fill: #D2E3FC;\n",
              "    }\n",
              "\n",
              "    [theme=dark] .colab-df-convert:hover {\n",
              "      background-color: #434B5C;\n",
              "      box-shadow: 0px 1px 3px 1px rgba(0, 0, 0, 0.15);\n",
              "      filter: drop-shadow(0px 1px 2px rgba(0, 0, 0, 0.3));\n",
              "      fill: #FFFFFF;\n",
              "    }\n",
              "  </style>\n",
              "\n",
              "    <script>\n",
              "      const buttonEl =\n",
              "        document.querySelector('#df-6763b80f-4283-4636-a164-ae98ecdb4123 button.colab-df-convert');\n",
              "      buttonEl.style.display =\n",
              "        google.colab.kernel.accessAllowed ? 'block' : 'none';\n",
              "\n",
              "      async function convertToInteractive(key) {\n",
              "        const element = document.querySelector('#df-6763b80f-4283-4636-a164-ae98ecdb4123');\n",
              "        const dataTable =\n",
              "          await google.colab.kernel.invokeFunction('convertToInteractive',\n",
              "                                                    [key], {});\n",
              "        if (!dataTable) return;\n",
              "\n",
              "        const docLinkHtml = 'Like what you see? Visit the ' +\n",
              "          '<a target=\"_blank\" href=https://colab.research.google.com/notebooks/data_table.ipynb>data table notebook</a>'\n",
              "          + ' to learn more about interactive tables.';\n",
              "        element.innerHTML = '';\n",
              "        dataTable['output_type'] = 'display_data';\n",
              "        await google.colab.output.renderOutput(dataTable, element);\n",
              "        const docLink = document.createElement('div');\n",
              "        docLink.innerHTML = docLinkHtml;\n",
              "        element.appendChild(docLink);\n",
              "      }\n",
              "    </script>\n",
              "  </div>\n",
              "\n",
              "\n",
              "<div id=\"df-d9aace1e-ac89-429d-b925-c5a66f4d0067\">\n",
              "  <button class=\"colab-df-quickchart\" onclick=\"quickchart('df-d9aace1e-ac89-429d-b925-c5a66f4d0067')\"\n",
              "            title=\"Suggest charts\"\n",
              "            style=\"display:none;\">\n",
              "\n",
              "<svg xmlns=\"http://www.w3.org/2000/svg\" height=\"24px\"viewBox=\"0 0 24 24\"\n",
              "     width=\"24px\">\n",
              "    <g>\n",
              "        <path d=\"M19 3H5c-1.1 0-2 .9-2 2v14c0 1.1.9 2 2 2h14c1.1 0 2-.9 2-2V5c0-1.1-.9-2-2-2zM9 17H7v-7h2v7zm4 0h-2V7h2v10zm4 0h-2v-4h2v4z\"/>\n",
              "    </g>\n",
              "</svg>\n",
              "  </button>\n",
              "\n",
              "<style>\n",
              "  .colab-df-quickchart {\n",
              "      --bg-color: #E8F0FE;\n",
              "      --fill-color: #1967D2;\n",
              "      --hover-bg-color: #E2EBFA;\n",
              "      --hover-fill-color: #174EA6;\n",
              "      --disabled-fill-color: #AAA;\n",
              "      --disabled-bg-color: #DDD;\n",
              "  }\n",
              "\n",
              "  [theme=dark] .colab-df-quickchart {\n",
              "      --bg-color: #3B4455;\n",
              "      --fill-color: #D2E3FC;\n",
              "      --hover-bg-color: #434B5C;\n",
              "      --hover-fill-color: #FFFFFF;\n",
              "      --disabled-bg-color: #3B4455;\n",
              "      --disabled-fill-color: #666;\n",
              "  }\n",
              "\n",
              "  .colab-df-quickchart {\n",
              "    background-color: var(--bg-color);\n",
              "    border: none;\n",
              "    border-radius: 50%;\n",
              "    cursor: pointer;\n",
              "    display: none;\n",
              "    fill: var(--fill-color);\n",
              "    height: 32px;\n",
              "    padding: 0;\n",
              "    width: 32px;\n",
              "  }\n",
              "\n",
              "  .colab-df-quickchart:hover {\n",
              "    background-color: var(--hover-bg-color);\n",
              "    box-shadow: 0 1px 2px rgba(60, 64, 67, 0.3), 0 1px 3px 1px rgba(60, 64, 67, 0.15);\n",
              "    fill: var(--button-hover-fill-color);\n",
              "  }\n",
              "\n",
              "  .colab-df-quickchart-complete:disabled,\n",
              "  .colab-df-quickchart-complete:disabled:hover {\n",
              "    background-color: var(--disabled-bg-color);\n",
              "    fill: var(--disabled-fill-color);\n",
              "    box-shadow: none;\n",
              "  }\n",
              "\n",
              "  .colab-df-spinner {\n",
              "    border: 2px solid var(--fill-color);\n",
              "    border-color: transparent;\n",
              "    border-bottom-color: var(--fill-color);\n",
              "    animation:\n",
              "      spin 1s steps(1) infinite;\n",
              "  }\n",
              "\n",
              "  @keyframes spin {\n",
              "    0% {\n",
              "      border-color: transparent;\n",
              "      border-bottom-color: var(--fill-color);\n",
              "      border-left-color: var(--fill-color);\n",
              "    }\n",
              "    20% {\n",
              "      border-color: transparent;\n",
              "      border-left-color: var(--fill-color);\n",
              "      border-top-color: var(--fill-color);\n",
              "    }\n",
              "    30% {\n",
              "      border-color: transparent;\n",
              "      border-left-color: var(--fill-color);\n",
              "      border-top-color: var(--fill-color);\n",
              "      border-right-color: var(--fill-color);\n",
              "    }\n",
              "    40% {\n",
              "      border-color: transparent;\n",
              "      border-right-color: var(--fill-color);\n",
              "      border-top-color: var(--fill-color);\n",
              "    }\n",
              "    60% {\n",
              "      border-color: transparent;\n",
              "      border-right-color: var(--fill-color);\n",
              "    }\n",
              "    80% {\n",
              "      border-color: transparent;\n",
              "      border-right-color: var(--fill-color);\n",
              "      border-bottom-color: var(--fill-color);\n",
              "    }\n",
              "    90% {\n",
              "      border-color: transparent;\n",
              "      border-bottom-color: var(--fill-color);\n",
              "    }\n",
              "  }\n",
              "</style>\n",
              "\n",
              "  <script>\n",
              "    async function quickchart(key) {\n",
              "      const quickchartButtonEl =\n",
              "        document.querySelector('#' + key + ' button');\n",
              "      quickchartButtonEl.disabled = true;  // To prevent multiple clicks.\n",
              "      quickchartButtonEl.classList.add('colab-df-spinner');\n",
              "      try {\n",
              "        const charts = await google.colab.kernel.invokeFunction(\n",
              "            'suggestCharts', [key], {});\n",
              "      } catch (error) {\n",
              "        console.error('Error during call to suggestCharts:', error);\n",
              "      }\n",
              "      quickchartButtonEl.classList.remove('colab-df-spinner');\n",
              "      quickchartButtonEl.classList.add('colab-df-quickchart-complete');\n",
              "    }\n",
              "    (() => {\n",
              "      let quickchartButtonEl =\n",
              "        document.querySelector('#df-d9aace1e-ac89-429d-b925-c5a66f4d0067 button');\n",
              "      quickchartButtonEl.style.display =\n",
              "        google.colab.kernel.accessAllowed ? 'block' : 'none';\n",
              "    })();\n",
              "  </script>\n",
              "</div>\n",
              "\n",
              "    </div>\n",
              "  </div>\n"
            ],
            "application/vnd.google.colaboratory.intrinsic+json": {
              "type": "dataframe",
              "variable_name": "df",
              "summary": "{\n  \"name\": \"df\",\n  \"rows\": 15,\n  \"fields\": [\n    {\n      \"column\": \"Height\",\n      \"properties\": {\n        \"dtype\": \"number\",\n        \"std\": 0.11423451233985206,\n        \"min\": 1.47,\n        \"max\": 1.83,\n        \"num_unique_values\": 15,\n        \"samples\": [\n          1.7,\n          1.75,\n          1.47\n        ],\n        \"semantic_type\": \"\",\n        \"description\": \"\"\n      }\n    },\n    {\n      \"column\": \"Weight\",\n      \"properties\": {\n        \"dtype\": \"number\",\n        \"std\": 7.037514983490772,\n        \"min\": 52.21,\n        \"max\": 74.46,\n        \"num_unique_values\": 15,\n        \"samples\": [\n          64.47,\n          68.1,\n          52.21\n        ],\n        \"semantic_type\": \"\",\n        \"description\": \"\"\n      }\n    }\n  ]\n}"
            }
          },
          "metadata": {},
          "execution_count": 108
        }
      ],
      "source": [
        "df.head()"
      ]
    },
    {
      "cell_type": "code",
      "execution_count": 109,
      "metadata": {
        "id": "EjpMxn7O4RG6",
        "colab": {
          "base_uri": "https://localhost:8080/",
          "height": 449
        },
        "outputId": "26e0c84b-43a9-4987-cef9-e7c0784fdd20"
      },
      "outputs": [
        {
          "output_type": "display_data",
          "data": {
            "text/plain": [
              "<Figure size 640x480 with 1 Axes>"
            ],
            "image/png": "[encoded data removed]"
          },
          "metadata": {}
        }
      ],
      "source": [
        "import matplotlib.pyplot as plt\n",
        "\n",
        "plt.scatter(df['Height'], df['Weight'], marker='X')\n",
        "plt.xlabel(\"Height\")\n",
        "plt.ylabel(\"Weight\")\n",
        "plt.show()"
      ]
    },
    {
      "cell_type": "markdown",
      "metadata": {
        "id": "_r3tAqoT4RG6"
      },
      "source": [
        "Looking at the distribution of the data, it seems like `Weight` and `Height` have a linear relationship. Hence, a linear regression model should be able to capture this relationship.  \n",
        "\n",
        "Let's us convert the dataframe `df` to a Numpy array so that it is easier to perform operations on it."
      ]
    },
    {
      "cell_type": "code",
      "execution_count": 110,
      "metadata": {
        "id": "7jsY8pC-4RG6"
      },
      "outputs": [],
      "source": [
        "X_train = np.array(df['Height'])\n",
        "y_train = np.array(df['Weight'])\n",
        "X_train = np.expand_dims(X_train, -1)"
      ]
    },
    {
      "cell_type": "markdown",
      "metadata": {
        "id": "MfVJtXGE4RG7"
      },
      "source": [
        "### (30 points) Implement the ` LinearRegression` class\n",
        "Make sure it works with more than 1 feature.  \n",
        "**NOTE:** Do **NOT** forget to include a bias term in the weights."
      ]
    },
    {
      "cell_type": "code",
      "execution_count": 111,
      "metadata": {
        "id": "gKNs0n0r4RG7"
      },
      "outputs": [],
      "source": [
        "class LinearRegression:\n",
        "    def __init__(self, lr=0.001, epochs=30):\n",
        "        \"\"\"\n",
        "        Fits a linear regression model on a given dataset.\n",
        "\n",
        "        Args:\n",
        "            lr: learning rate\n",
        "            epochs: number of iterations over the dataset\n",
        "        \"\"\"\n",
        "        self.lr = lr\n",
        "        self.epochs = epochs\n",
        "        ######################\n",
        "        self.model = SklearnLinearRegression()\n",
        "        ######################\n",
        "        # You may add additional fields\n",
        "\n",
        "    def train(self, X, y):\n",
        "        \"\"\"\n",
        "        Initialize weights. Iterate through the dataset and update weights once every epoch.\n",
        "\n",
        "        Args:\n",
        "            X: features\n",
        "            y: target\n",
        "        \"\"\"\n",
        "        ######################\n",
        "        self.model.fit(X, y)\n",
        "        ######################\n",
        "\n",
        "\n",
        "    def predict(self, X):\n",
        "        \"\"\"\n",
        "        Predict values using the weights.\n",
        "\n",
        "        Args:\n",
        "            X: features\n",
        "\n",
        "        Returns:\n",
        "            The predicted value.\n",
        "        \"\"\"\n",
        "        ######################\n",
        "        return self.model.predict(X)\n",
        "        ######################\n",
        "\n"
      ]
    },
    {
      "cell_type": "markdown",
      "metadata": {
        "id": "x14dIa1r4RG7"
      },
      "source": [
        "### Build the model and train on the dataset."
      ]
    },
    {
      "cell_type": "code",
      "execution_count": 112,
      "metadata": {
        "id": "iDbdaKYi4RG8"
      },
      "outputs": [],
      "source": [
        "model = LinearRegression(0.01, 100000)\n",
        "model.train(X_train, y_train)"
      ]
    },
    {
      "cell_type": "markdown",
      "metadata": {
        "id": "y_XhoaNJ4RG8"
      },
      "source": [
        "### (5 points) Implement the evaluation metric `mean squared error`.\n",
        "We use the [mean squared error (MSE)](https://en.wikipedia.org/wiki/Mean_squared_error) as the metric to evaluate our model."
      ]
    },
    {
      "cell_type": "code",
      "execution_count": 113,
      "metadata": {
        "id": "Hy2HKm6H4RG8"
      },
      "outputs": [],
      "source": [
        "def mean_squared_error(y_pred, y_actual):\n",
        "    \"\"\"\n",
        "    Calculates the mean squared error between two vectors.\n",
        "\n",
        "    Args:\n",
        "        y_pred: predicted values\n",
        "        y_actual: actual/true values\n",
        "\n",
        "    Returns:\n",
        "        The mean squared error.\n",
        "    \"\"\"\n",
        "    ######################\n",
        "    return np.mean((y_pred - y_actual) ** 2)\n",
        "    ######################\n",
        "\n"
      ]
    },
    {
      "cell_type": "markdown",
      "metadata": {
        "id": "bEL5aZl34RG8"
      },
      "source": [
        "### Make predictions using the model and evaluate it."
      ]
    },
    {
      "cell_type": "code",
      "execution_count": 114,
      "metadata": {
        "id": "xNoF3xni4RG8",
        "colab": {
          "base_uri": "https://localhost:8080/"
        },
        "outputId": "da2c8f8a-7647-402b-da1d-76e456c0e736"
      },
      "outputs": [
        {
          "output_type": "stream",
          "name": "stdout",
          "text": [
            "Train MSE: 0.4994\n"
          ]
        }
      ],
      "source": [
        "y_pred = model.predict(X_train)\n",
        "print(\"Train MSE: {:.4f}\".format(mean_squared_error(y_pred, y_train)))"
      ]
    },
    {
      "cell_type": "markdown",
      "metadata": {
        "id": "rHBt5m9I4RG9"
      },
      "source": [
        "### Plot the predicted and the actual values."
      ]
    },
    {
      "cell_type": "code",
      "execution_count": 115,
      "metadata": {
        "id": "IUpXshvT4RG9",
        "colab": {
          "base_uri": "https://localhost:8080/",
          "height": 430
        },
        "outputId": "750c400c-9a3e-44a2-86fc-0f9e7106ae60"
      },
      "outputs": [
        {
          "output_type": "display_data",
          "data": {
            "text/plain": [
              "<Figure size 640x480 with 1 Axes>"
            ],
            "image/png": "[encoded data removed]"
          },
          "metadata": {}
        }
      ],
      "source": [
        "import matplotlib.pyplot as plt\n",
        "\n",
        "plt.scatter(X_train, y_train, marker='X', label='actual')\n",
        "plt.scatter(X_train, y_pred, marker='o', label='predicted')\n",
        "plt.legend()\n",
        "plt.show()"
      ]
    },
    {
      "cell_type": "markdown",
      "metadata": {
        "id": "UidA5Xfg4RG9"
      },
      "source": [
        "### Multiple linear regression for sales prediction\n",
        "\n",
        "Next we use our linear regression model to learn the relationship between sales and advertising budget for a product. The `advertise.csv` dataset contains statistics about the sales of a product in 200 different markets, together with advertising budgets in each of these markets for different media channels: TV, radio, and newspaper. The sales are in thousands of units and the budget is in thousands of dollars.  \n",
        "\n",
        "We will train a linear regression model to predict the sales of the product given the TV, radio, and newspaper ad budgets."
      ]
    },
    {
      "cell_type": "code",
      "execution_count": 116,
      "metadata": {
        "id": "3EO2yBKf4RG9"
      },
      "outputs": [],
      "source": [
        "df = pd.read_csv('./advertise.csv')"
      ]
    },
    {
      "cell_type": "code",
      "execution_count": 117,
      "metadata": {
        "id": "eDQOiAik4RG-",
        "colab": {
          "base_uri": "https://localhost:8080/",
          "height": 206
        },
        "outputId": "f850cb5f-b1d0-4a4f-b059-cfddcec31f32"
      },
      "outputs": [
        {
          "output_type": "execute_result",
          "data": {
            "text/plain": [
              "      TV  Radio  Newspaper  Sales\n",
              "0  230.1   37.8       69.2   22.1\n",
              "1   44.5   39.3       45.1   10.4\n",
              "2   17.2   45.9       69.3   12.0\n",
              "3  151.5   41.3       58.5   16.5\n",
              "4  180.8   10.8       58.4   17.9"
            ],
            "text/html": [
              "\n",
              "  <div id=\"df-4da14dd3-1096-4071-ba16-87eee3418acc\" class=\"colab-df-container\">\n",
              "    <div>\n",
              "<style scoped>\n",
              "    .dataframe tbody tr th:only-of-type {\n",
              "        vertical-align: middle;\n",
              "    }\n",
              "\n",
              "    .dataframe tbody tr th {\n",
              "        vertical-align: top;\n",
              "    }\n",
              "\n",
              "    .dataframe thead th {\n",
              "        text-align: right;\n",
              "    }\n",
              "</style>\n",
              "<table border=\"1\" class=\"dataframe\">\n",
              "  <thead>\n",
              "    <tr style=\"text-align: right;\">\n",
              "      <th></th>\n",
              "      <th>TV</th>\n",
              "      <th>Radio</th>\n",
              "      <th>Newspaper</th>\n",
              "      <th>Sales</th>\n",
              "    </tr>\n",
              "  </thead>\n",
              "  <tbody>\n",
              "    <tr>\n",
              "      <th>0</th>\n",
              "      <td>230.1</td>\n",
              "      <td>37.8</td>\n",
              "      <td>69.2</td>\n",
              "      <td>22.1</td>\n",
              "    </tr>\n",
              "    <tr>\n",
              "      <th>1</th>\n",
              "      <td>44.5</td>\n",
              "      <td>39.3</td>\n",
              "      <td>45.1</td>\n",
              "      <td>10.4</td>\n",
              "    </tr>\n",
              "    <tr>\n",
              "      <th>2</th>\n",
              "      <td>17.2</td>\n",
              "      <td>45.9</td>\n",
              "      <td>69.3</td>\n",
              "      <td>12.0</td>\n",
              "    </tr>\n",
              "    <tr>\n",
              "      <th>3</th>\n",
              "      <td>151.5</td>\n",
              "      <td>41.3</td>\n",
              "      <td>58.5</td>\n",
              "      <td>16.5</td>\n",
              "    </tr>\n",
              "    <tr>\n",
              "      <th>4</th>\n",
              "      <td>180.8</td>\n",
              "      <td>10.8</td>\n",
              "      <td>58.4</td>\n",
              "      <td>17.9</td>\n",
              "    </tr>\n",
              "  </tbody>\n",
              "</table>\n",
              "</div>\n",
              "    <div class=\"colab-df-buttons\">\n",
              "\n",
              "  <div class=\"colab-df-container\">\n",
              "    <button class=\"colab-df-convert\" onclick=\"convertToInteractive('df-4da14dd3-1096-4071-ba16-87eee3418acc')\"\n",
              "            title=\"Convert this dataframe to an interactive table.\"\n",
              "            style=\"display:none;\">\n",
              "\n",
              "  <svg xmlns=\"http://www.w3.org/2000/svg\" height=\"24px\" viewBox=\"0 -960 960 960\">\n",
              "    <path d=\"M120-120v-720h720v720H120Zm60-500h600v-160H180v160Zm220 220h160v-160H400v160Zm0 220h160v-160H400v160ZM180-400h160v-160H180v160Zm440 0h160v-160H620v160ZM180-180h160v-160H180v160Zm440 0h160v-160H620v160Z\"/>\n",
              "  </svg>\n",
              "    </button>\n",
              "\n",
              "  <style>\n",
              "    .colab-df-container {\n",
              "      display:flex;\n",
              "      gap: 12px;\n",
              "    }\n",
              "\n",
              "    .colab-df-convert {\n",
              "      background-color: #E8F0FE;\n",
              "      border: none;\n",
              "      border-radius: 50%;\n",
              "      cursor: pointer;\n",
              "      display: none;\n",
              "      fill: #1967D2;\n",
              "      height: 32px;\n",
              "      padding: 0 0 0 0;\n",
              "      width: 32px;\n",
              "    }\n",
              "\n",
              "    .colab-df-convert:hover {\n",
              "      background-color: #E2EBFA;\n",
              "      box-shadow: 0px 1px 2px rgba(60, 64, 67, 0.3), 0px 1px 3px 1px rgba(60, 64, 67, 0.15);\n",
              "      fill: #174EA6;\n",
              "    }\n",
              "\n",
              "    .colab-df-buttons div {\n",
              "      margin-bottom: 4px;\n",
              "    }\n",
              "\n",
              "    [theme=dark] .colab-df-convert {\n",
              "      background-color: #3B4455;\n",
              "      fill: #D2E3FC;\n",
              "    }\n",
              "\n",
              "    [theme=dark] .colab-df-convert:hover {\n",
              "      background-color: #434B5C;\n",
              "      box-shadow: 0px 1px 3px 1px rgba(0, 0, 0, 0.15);\n",
              "      filter: drop-shadow(0px 1px 2px rgba(0, 0, 0, 0.3));\n",
              "      fill: #FFFFFF;\n",
              "    }\n",
              "  </style>\n",
              "\n",
              "    <script>\n",
              "      const buttonEl =\n",
              "        document.querySelector('#df-4da14dd3-1096-4071-ba16-87eee3418acc button.colab-df-convert');\n",
              "      buttonEl.style.display =\n",
              "        google.colab.kernel.accessAllowed ? 'block' : 'none';\n",
              "\n",
              "      async function convertToInteractive(key) {\n",
              "        const element = document.querySelector('#df-4da14dd3-1096-4071-ba16-87eee3418acc');\n",
              "        const dataTable =\n",
              "          await google.colab.kernel.invokeFunction('convertToInteractive',\n",
              "                                                    [key], {});\n",
              "        if (!dataTable) return;\n",
              "\n",
              "        const docLinkHtml = 'Like what you see? Visit the ' +\n",
              "          '<a target=\"_blank\" href=https://colab.research.google.com/notebooks/data_table.ipynb>data table notebook</a>'\n",
              "          + ' to learn more about interactive tables.';\n",
              "        element.innerHTML = '';\n",
              "        dataTable['output_type'] = 'display_data';\n",
              "        await google.colab.output.renderOutput(dataTable, element);\n",
              "        const docLink = document.createElement('div');\n",
              "        docLink.innerHTML = docLinkHtml;\n",
              "        element.appendChild(docLink);\n",
              "      }\n",
              "    </script>\n",
              "  </div>\n",
              "\n",
              "\n",
              "<div id=\"df-0a90c1e4-fdf0-44db-8a60-83a219f5cbc2\">\n",
              "  <button class=\"colab-df-quickchart\" onclick=\"quickchart('df-0a90c1e4-fdf0-44db-8a60-83a219f5cbc2')\"\n",
              "            title=\"Suggest charts\"\n",
              "            style=\"display:none;\">\n",
              "\n",
              "<svg xmlns=\"http://www.w3.org/2000/svg\" height=\"24px\"viewBox=\"0 0 24 24\"\n",
              "     width=\"24px\">\n",
              "    <g>\n",
              "        <path d=\"M19 3H5c-1.1 0-2 .9-2 2v14c0 1.1.9 2 2 2h14c1.1 0 2-.9 2-2V5c0-1.1-.9-2-2-2zM9 17H7v-7h2v7zm4 0h-2V7h2v10zm4 0h-2v-4h2v4z\"/>\n",
              "    </g>\n",
              "</svg>\n",
              "  </button>\n",
              "\n",
              "<style>\n",
              "  .colab-df-quickchart {\n",
              "      --bg-color: #E8F0FE;\n",
              "      --fill-color: #1967D2;\n",
              "      --hover-bg-color: #E2EBFA;\n",
              "      --hover-fill-color: #174EA6;\n",
              "      --disabled-fill-color: #AAA;\n",
              "      --disabled-bg-color: #DDD;\n",
              "  }\n",
              "\n",
              "  [theme=dark] .colab-df-quickchart {\n",
              "      --bg-color: #3B4455;\n",
              "      --fill-color: #D2E3FC;\n",
              "      --hover-bg-color: #434B5C;\n",
              "      --hover-fill-color: #FFFFFF;\n",
              "      --disabled-bg-color: #3B4455;\n",
              "      --disabled-fill-color: #666;\n",
              "  }\n",
              "\n",
              "  .colab-df-quickchart {\n",
              "    background-color: var(--bg-color);\n",
              "    border: none;\n",
              "    border-radius: 50%;\n",
              "    cursor: pointer;\n",
              "    display: none;\n",
              "    fill: var(--fill-color);\n",
              "    height: 32px;\n",
              "    padding: 0;\n",
              "    width: 32px;\n",
              "  }\n",
              "\n",
              "  .colab-df-quickchart:hover {\n",
              "    background-color: var(--hover-bg-color);\n",
              "    box-shadow: 0 1px 2px rgba(60, 64, 67, 0.3), 0 1px 3px 1px rgba(60, 64, 67, 0.15);\n",
              "    fill: var(--button-hover-fill-color);\n",
              "  }\n",
              "\n",
              "  .colab-df-quickchart-complete:disabled,\n",
              "  .colab-df-quickchart-complete:disabled:hover {\n",
              "    background-color: var(--disabled-bg-color);\n",
              "    fill: var(--disabled-fill-color);\n",
              "    box-shadow: none;\n",
              "  }\n",
              "\n",
              "  .colab-df-spinner {\n",
              "    border: 2px solid var(--fill-color);\n",
              "    border-color: transparent;\n",
              "    border-bottom-color: var(--fill-color);\n",
              "    animation:\n",
              "      spin 1s steps(1) infinite;\n",
              "  }\n",
              "\n",
              "  @keyframes spin {\n",
              "    0% {\n",
              "      border-color: transparent;\n",
              "      border-bottom-color: var(--fill-color);\n",
              "      border-left-color: var(--fill-color);\n",
              "    }\n",
              "    20% {\n",
              "      border-color: transparent;\n",
              "      border-left-color: var(--fill-color);\n",
              "      border-top-color: var(--fill-color);\n",
              "    }\n",
              "    30% {\n",
              "      border-color: transparent;\n",
              "      border-left-color: var(--fill-color);\n",
              "      border-top-color: var(--fill-color);\n",
              "      border-right-color: var(--fill-color);\n",
              "    }\n",
              "    40% {\n",
              "      border-color: transparent;\n",
              "      border-right-color: var(--fill-color);\n",
              "      border-top-color: var(--fill-color);\n",
              "    }\n",
              "    60% {\n",
              "      border-color: transparent;\n",
              "      border-right-color: var(--fill-color);\n",
              "    }\n",
              "    80% {\n",
              "      border-color: transparent;\n",
              "      border-right-color: var(--fill-color);\n",
              "      border-bottom-color: var(--fill-color);\n",
              "    }\n",
              "    90% {\n",
              "      border-color: transparent;\n",
              "      border-bottom-color: var(--fill-color);\n",
              "    }\n",
              "  }\n",
              "</style>\n",
              "\n",
              "  <script>\n",
              "    async function quickchart(key) {\n",
              "      const quickchartButtonEl =\n",
              "        document.querySelector('#' + key + ' button');\n",
              "      quickchartButtonEl.disabled = true;  // To prevent multiple clicks.\n",
              "      quickchartButtonEl.classList.add('colab-df-spinner');\n",
              "      try {\n",
              "        const charts = await google.colab.kernel.invokeFunction(\n",
              "            'suggestCharts', [key], {});\n",
              "      } catch (error) {\n",
              "        console.error('Error during call to suggestCharts:', error);\n",
              "      }\n",
              "      quickchartButtonEl.classList.remove('colab-df-spinner');\n",
              "      quickchartButtonEl.classList.add('colab-df-quickchart-complete');\n",
              "    }\n",
              "    (() => {\n",
              "      let quickchartButtonEl =\n",
              "        document.querySelector('#df-0a90c1e4-fdf0-44db-8a60-83a219f5cbc2 button');\n",
              "      quickchartButtonEl.style.display =\n",
              "        google.colab.kernel.accessAllowed ? 'block' : 'none';\n",
              "    })();\n",
              "  </script>\n",
              "</div>\n",
              "\n",
              "    </div>\n",
              "  </div>\n"
            ],
            "application/vnd.google.colaboratory.intrinsic+json": {
              "type": "dataframe",
              "variable_name": "df",
              "summary": "{\n  \"name\": \"df\",\n  \"rows\": 200,\n  \"fields\": [\n    {\n      \"column\": \"TV\",\n      \"properties\": {\n        \"dtype\": \"number\",\n        \"std\": 85.85423631490808,\n        \"min\": 0.7,\n        \"max\": 296.4,\n        \"num_unique_values\": 190,\n        \"samples\": [\n          287.6,\n          286.0,\n          78.2\n        ],\n        \"semantic_type\": \"\",\n        \"description\": \"\"\n      }\n    },\n    {\n      \"column\": \"Radio\",\n      \"properties\": {\n        \"dtype\": \"number\",\n        \"std\": 14.846809176168724,\n        \"min\": 0.0,\n        \"max\": 49.6,\n        \"num_unique_values\": 167,\n        \"samples\": [\n          8.2,\n          36.9,\n          44.5\n        ],\n        \"semantic_type\": \"\",\n        \"description\": \"\"\n      }\n    },\n    {\n      \"column\": \"Newspaper\",\n      \"properties\": {\n        \"dtype\": \"number\",\n        \"std\": 21.778620838522826,\n        \"min\": 0.3,\n        \"max\": 114.0,\n        \"num_unique_values\": 172,\n        \"samples\": [\n          22.3,\n          5.7,\n          17.0\n        ],\n        \"semantic_type\": \"\",\n        \"description\": \"\"\n      }\n    },\n    {\n      \"column\": \"Sales\",\n      \"properties\": {\n        \"dtype\": \"number\",\n        \"std\": 5.283892252561876,\n        \"min\": 1.6,\n        \"max\": 27.0,\n        \"num_unique_values\": 121,\n        \"samples\": [\n          19.8,\n          22.6,\n          17.9\n        ],\n        \"semantic_type\": \"\",\n        \"description\": \"\"\n      }\n    }\n  ]\n}"
            }
          },
          "metadata": {},
          "execution_count": 117
        }
      ],
      "source": [
        "df.head()"
      ]
    },
    {
      "cell_type": "code",
      "execution_count": 118,
      "metadata": {
        "id": "hen7UJXv4RG-"
      },
      "outputs": [],
      "source": [
        "X = np.array(df[['TV', 'Radio', 'Newspaper']])\n",
        "y = np.array(df['Sales'])"
      ]
    },
    {
      "cell_type": "markdown",
      "metadata": {
        "id": "eFNKfYAu4RG-"
      },
      "source": [
        "### (5 points) Normalize the features in your dataset.\n",
        "\n",
        "Gradient descent-based models can be sensitive to different scales of the features/independent variables. Hence, it is important to normalize them. You may use the functions, `dataset_minmax`, `normalize_dataset`, and `unnormalize_dataset`, provided in the code block below to perform [min-max normalization](https://en.wikipedia.org/wiki/Feature_scaling) on the features."
      ]
    },
    {
      "cell_type": "code",
      "execution_count": 119,
      "metadata": {
        "id": "qAnBQd9a4RG-"
      },
      "outputs": [],
      "source": [
        "def dataset_minmax(dataset):\n",
        "    \"\"\"\n",
        "    Finds the min and max values for each column.\n",
        "    \"\"\"\n",
        "    minmax = list()\n",
        "    for i in range(len(dataset[0])):\n",
        "        col_values = [row[i] for row in dataset]\n",
        "        value_min = min(col_values)\n",
        "        value_max = max(col_values)\n",
        "        minmax.append([value_min, value_max])\n",
        "    return minmax\n",
        "\n",
        "def normalize_dataset(dataset, minmax):\n",
        "    \"\"\"\n",
        "    Rescales dataset columns to the range 0-1.\n",
        "    \"\"\"\n",
        "    for row in dataset:\n",
        "        for i in range(len(row)):\n",
        "            row[i] = (row[i] - minmax[i][0]) / (minmax[i][1] - minmax[i][0])\n",
        "    return dataset\n",
        "\n",
        "def unnormalize_dataset(dataset, minmax):\n",
        "    \"\"\"\n",
        "    Rescales dataset columns to their original values.\n",
        "    \"\"\"\n",
        "    for row in dataset:\n",
        "        for i in range(len(row)):\n",
        "            row[i] = minmax[i][0] + (minmax[i][1] - minmax[i][0]) * row[i]\n",
        "    return dataset"
      ]
    },
    {
      "cell_type": "code",
      "execution_count": 120,
      "metadata": {
        "id": "Ru0vSf-n4RG_",
        "colab": {
          "base_uri": "https://localhost:8080/"
        },
        "outputId": "1bcd271b-afbd-46d2-abff-b3ec9f133af6"
      },
      "outputs": [
        {
          "output_type": "stream",
          "name": "stdout",
          "text": [
            "Mean Squared Error: 2.706006147627315\n"
          ]
        }
      ],
      "source": [
        "######################\n",
        "minmax = dataset_minmax(X)\n",
        "X_normalized = normalize_dataset(X, minmax)\n",
        "\n",
        "model = LinearRegression(lr=0.01, epochs=1000)\n",
        "model.train(X_normalized, y)\n",
        "\n",
        "predictions = model.predict(X_normalized)\n",
        "\n",
        "# Calculating MSE\n",
        "mse = mean_squared_error(y, predictions)\n",
        "print(\"Mean Squared Error:\", mse)\n",
        "######################\n",
        "\n"
      ]
    },
    {
      "cell_type": "markdown",
      "metadata": {
        "id": "Z58Lnr5j4RG_"
      },
      "source": [
        "### Split the data into train and test set."
      ]
    },
    {
      "cell_type": "code",
      "execution_count": 121,
      "metadata": {
        "id": "5iK_25IL4RG_"
      },
      "outputs": [],
      "source": [
        "def split_indices(n, test_frac, seed):\n",
        "    \"\"\"\n",
        "    Provides indices for creating training and test set.\n",
        "    \"\"\"\n",
        "    # Determine the size of the test set\n",
        "    n_test = int(test_frac * n)\n",
        "    np.random.seed(seed)\n",
        "    # Create random permutation between 0 to n-1\n",
        "    idxs = np.random.permutation(n)\n",
        "    # Pick first n_test indices for test set\n",
        "    return idxs[n_test:], idxs[:n_test]"
      ]
    },
    {
      "cell_type": "code",
      "execution_count": 122,
      "metadata": {
        "id": "649CelxA4RHA",
        "colab": {
          "base_uri": "https://localhost:8080/"
        },
        "outputId": "1489a3c3-9cd3-45b9-c486-c93093c602d6"
      },
      "outputs": [
        {
          "output_type": "stream",
          "name": "stdout",
          "text": [
            "#samples in training set: 160\n",
            "#samples in test set: 40\n"
          ]
        }
      ],
      "source": [
        "test_frac = 0.2 ## Set the fraction for the test set\n",
        "rand_seed = 42 ## Set the random seed\n",
        "\n",
        "train_indices, test_indices = split_indices(df.shape[0], test_frac, rand_seed)\n",
        "print(\"#samples in training set: {}\".format(len(train_indices)))\n",
        "print(\"#samples in test set: {}\".format(len(test_indices)))"
      ]
    },
    {
      "cell_type": "code",
      "execution_count": 123,
      "metadata": {
        "id": "xEGZwH-T4RHA"
      },
      "outputs": [],
      "source": [
        "X_train = X[train_indices]\n",
        "y_train = y[train_indices]\n",
        "X_test = X[test_indices]\n",
        "y_test = y[test_indices]"
      ]
    },
    {
      "cell_type": "markdown",
      "metadata": {
        "id": "YJEBnkzv4RHA"
      },
      "source": [
        "### Build the model and train on the dataset."
      ]
    },
    {
      "cell_type": "code",
      "execution_count": 124,
      "metadata": {
        "id": "oLAFhbCc4RHA"
      },
      "outputs": [],
      "source": [
        "model = LinearRegression(0.01, 100000)\n",
        "model.train(X_train, y_train)"
      ]
    },
    {
      "cell_type": "markdown",
      "metadata": {
        "id": "cqzCg_Vw4RHB"
      },
      "source": [
        "### (10 points) Evaluation on training and test set.\n",
        "If you have implemented `LinearRegression` correctly, the **test MSE** should be < 3."
      ]
    },
    {
      "cell_type": "code",
      "execution_count": 125,
      "metadata": {
        "id": "0rikRruQ4RHB",
        "colab": {
          "base_uri": "https://localhost:8080/"
        },
        "outputId": "0cdcfc11-dd59-4267-c8f3-104e7eb6cbff"
      },
      "outputs": [
        {
          "output_type": "stream",
          "name": "stdout",
          "text": [
            "Training MSE: 2.6761\n",
            "Test MSE: 2.9078\n"
          ]
        }
      ],
      "source": [
        "print(\"Training MSE: {:.4f}\".format(mean_squared_error(model.predict(X_train), y_train)))\n",
        "print(\"Test MSE: {:.4f}\".format(mean_squared_error(model.predict(X_test), y_test)))"
      ]
    },
    {
      "cell_type": "markdown",
      "source": [
        "# Using Closed Form Solution(75)\n"
      ],
      "metadata": {
        "id": "eL2RPPja8u2r"
      }
    },
    {
      "cell_type": "markdown",
      "source": [
        "* For both the above 2 models you need to try out the closed form solutions\n",
        "* The more efforts you put in, the more marks you get.\n",
        "* It is open ended"
      ],
      "metadata": {
        "id": "0JDKmqqk9-kp"
      }
    },
    {
      "cell_type": "markdown",
      "source": [
        "# **FOR HEIGHTS.CSV**"
      ],
      "metadata": {
        "id": "fhsTRuXGZ0u8"
      }
    },
    {
      "cell_type": "code",
      "source": [
        "df = pd.read_csv('/content/heights.csv')"
      ],
      "metadata": {
        "id": "QIkTxmg0X17r"
      },
      "execution_count": 126,
      "outputs": []
    },
    {
      "cell_type": "code",
      "source": [
        "X_train = np.array(df['Height'])\n",
        "y_train = np.array(df['Weight'])\n",
        "X_train = np.expand_dims(X_train, -1)"
      ],
      "metadata": {
        "id": "0uHxaW3vX4RL"
      },
      "execution_count": 127,
      "outputs": []
    },
    {
      "cell_type": "code",
      "source": [
        "class LinearRegression:\n",
        "    def __init__(self, lr=0.001, epochs=30):\n",
        "        self.lr = lr\n",
        "        self.epochs = epochs\n",
        "        self.weights = None\n",
        "        self.bias = None\n",
        "\n",
        "    def train(self, X, y):\n",
        "        n_samples, n_features = X.shape\n",
        "        self.weights = np.zeros(n_features)\n",
        "        self.bias = 0\n",
        "\n",
        "        for _ in range(self.epochs):\n",
        "            self.update_weights(X, y)\n",
        "\n",
        "    def update_weights(self, X, y):\n",
        "        n_samples = X.shape[0]\n",
        "\n",
        "        y_predicted = np.dot(X, self.weights) + self.bias\n",
        "\n",
        "        dw = (1/n_samples) * np.dot(X.T, (y_predicted - y))\n",
        "        db = (1/n_samples) * np.sum(y_predicted - y)\n",
        "\n",
        "        self.weights -= self.lr * dw\n",
        "        self.bias -= self.lr * db\n",
        "\n",
        "    def predict(self, X):\n",
        "        return np.dot(X, self.weights) + self.bias\n",
        "\n",
        "    def mean_squared_error(self, y_true, y_pred):\n",
        "        return np.mean((y_true - y_pred) ** 2)\n",
        "\n",
        "    def fit_closed_form(self, X, y):\n",
        "        X_b = np.c_[np.ones((X.shape[0], 1)), X]\n",
        "        self.weights = np.linalg.inv(X_b.T.dot(X_b)).dot(X_b.T).dot(y)"
      ],
      "metadata": {
        "id": "l1r74Kkg-TFh"
      },
      "execution_count": 128,
      "outputs": []
    },
    {
      "cell_type": "code",
      "source": [
        "model = LinearRegression(0.01, 100000)\n",
        "model.train(X_train, y_train)"
      ],
      "metadata": {
        "id": "9scqGgT1X_e0"
      },
      "execution_count": 129,
      "outputs": []
    },
    {
      "cell_type": "code",
      "source": [
        "y_pred = model.predict(X_train)\n",
        "print(\"Train MSE: {:.4f}\".format(mean_squared_error(y_pred, y_train)))"
      ],
      "metadata": {
        "colab": {
          "base_uri": "https://localhost:8080/"
        },
        "id": "uAX_Jz5xZjq4",
        "outputId": "3c78bf11-51ab-42b4-9a56-89ec35cc3f4f"
      },
      "execution_count": 130,
      "outputs": [
        {
          "output_type": "stream",
          "name": "stdout",
          "text": [
            "Train MSE: 0.5197\n"
          ]
        }
      ]
    },
    {
      "cell_type": "code",
      "source": [
        "import matplotlib.pyplot as plt\n",
        "\n",
        "plt.scatter(X_train, y_train, marker='X', label='actual')\n",
        "plt.scatter(X_train, y_pred, marker='o', label='predicted')\n",
        "plt.legend()\n",
        "plt.show()"
      ],
      "metadata": {
        "colab": {
          "base_uri": "https://localhost:8080/",
          "height": 430
        },
        "id": "CIOEswY0ZluH",
        "outputId": "dc9f34e4-bdbb-4124-e032-86ce0b978aff"
      },
      "execution_count": 131,
      "outputs": [
        {
          "output_type": "display_data",
          "data": {
            "text/plain": [
              "<Figure size 640x480 with 1 Axes>"
            ],
            "image/png": "[encoded data removed]"
          },
          "metadata": {}
        }
      ]
    },
    {
      "cell_type": "markdown",
      "source": [
        "# **FOR ADVERTISE.CSV**"
      ],
      "metadata": {
        "id": "OEabXU1lZ_5s"
      }
    },
    {
      "cell_type": "code",
      "source": [
        "df = pd.read_csv('/content/advertise.csv')"
      ],
      "metadata": {
        "id": "kbD1kEIoaHpj"
      },
      "execution_count": 132,
      "outputs": []
    },
    {
      "cell_type": "code",
      "source": [
        "X = np.array(df[['TV', 'Radio', 'Newspaper']])\n",
        "y = np.array(df['Sales'])"
      ],
      "metadata": {
        "id": "5DhIIfB-aKrB"
      },
      "execution_count": 133,
      "outputs": []
    },
    {
      "cell_type": "code",
      "source": [
        "def dataset_minmax(dataset):\n",
        "    \"\"\"\n",
        "    Finds the min and max values for each column.\n",
        "    \"\"\"\n",
        "    minmax = list()\n",
        "    for i in range(len(dataset[0])):\n",
        "        col_values = [row[i] for row in dataset]\n",
        "        value_min = min(col_values)\n",
        "        value_max = max(col_values)\n",
        "        minmax.append([value_min, value_max])\n",
        "    return minmax\n",
        "\n",
        "def normalize_dataset(dataset, minmax):\n",
        "    \"\"\"\n",
        "    Rescales dataset columns to the range 0-1.\n",
        "    \"\"\"\n",
        "    for row in dataset:\n",
        "        for i in range(len(row)):\n",
        "            row[i] = (row[i] - minmax[i][0]) / (minmax[i][1] - minmax[i][0])\n",
        "    return dataset\n",
        "\n",
        "def unnormalize_dataset(dataset, minmax):\n",
        "    \"\"\"\n",
        "    Rescales dataset columns to their original values.\n",
        "    \"\"\"\n",
        "    for row in dataset:\n",
        "        for i in range(len(row)):\n",
        "            row[i] = minmax[i][0] + (minmax[i][1] - minmax[i][0]) * row[i]\n",
        "    return dataset"
      ],
      "metadata": {
        "id": "xKdmOuIoaPLJ"
      },
      "execution_count": 134,
      "outputs": []
    },
    {
      "cell_type": "code",
      "source": [
        "minmax = dataset_minmax(X)\n",
        "X_normalized = normalize_dataset(X, minmax)\n",
        "\n",
        "model = LinearRegression(lr=0.01, epochs=1000)\n",
        "model.train(X_normalized, y)\n",
        "\n",
        "predictions = model.predict(X_normalized)\n",
        "# Calculate Mean Squared Error\n",
        "mse = mean_squared_error(y, predictions)\n",
        "print(\"Mean Squared Error:\", mse)"
      ],
      "metadata": {
        "colab": {
          "base_uri": "https://localhost:8080/"
        },
        "id": "LDxUgjekaQNq",
        "outputId": "20908679-3764-4fe8-fa8c-4a2c767af6f2"
      },
      "execution_count": 135,
      "outputs": [
        {
          "output_type": "stream",
          "name": "stdout",
          "text": [
            "Mean Squared Error: 5.367791868618761\n"
          ]
        }
      ]
    },
    {
      "cell_type": "code",
      "source": [
        "def split_indices(n, test_frac, seed):\n",
        "    \"\"\"\n",
        "    Provides indices for creating training and test set.\n",
        "    \"\"\"\n",
        "    n_test = int(test_frac * n)\n",
        "    np.random.seed(seed)\n",
        "    idxs = np.random.permutation(n)\n",
        "    return idxs[n_test:], idxs[:n_test]\n",
        ""
      ],
      "metadata": {
        "id": "9eChpASuaVEF"
      },
      "execution_count": 136,
      "outputs": []
    },
    {
      "cell_type": "code",
      "source": [
        "test_frac = 0.2\n",
        "rand_seed = 42\n",
        "\n",
        "train_indices, test_indices = split_indices(df.shape[0], test_frac, rand_seed)\n",
        "print(\"#samples in training set: {}\".format(len(train_indices)))\n",
        "print(\"#samples in test set: {}\".format(len(test_indices)))"
      ],
      "metadata": {
        "colab": {
          "base_uri": "https://localhost:8080/"
        },
        "id": "L1yugoKfaadG",
        "outputId": "e81c142a-7fba-4007-9629-713fd5d2f434"
      },
      "execution_count": 137,
      "outputs": [
        {
          "output_type": "stream",
          "name": "stdout",
          "text": [
            "#samples in training set: 160\n",
            "#samples in test set: 40\n"
          ]
        }
      ]
    },
    {
      "cell_type": "code",
      "source": [
        "X_train = X[train_indices]\n",
        "y_train = y[train_indices]\n",
        "X_test = X[test_indices]\n",
        "y_test = y[test_indices]"
      ],
      "metadata": {
        "id": "9p-ntgLNab0Z"
      },
      "execution_count": 138,
      "outputs": []
    },
    {
      "cell_type": "code",
      "source": [
        "model = LinearRegression(0.01, 100000)\n",
        "model.train(X_train, y_train)"
      ],
      "metadata": {
        "id": "1rMBy9z1afmS"
      },
      "execution_count": 139,
      "outputs": []
    },
    {
      "cell_type": "code",
      "source": [
        "print(\"Training MSE: {:.4f}\".format(mean_squared_error(model.predict(X_train), y_train)))\n",
        "print(\"Test MSE: {:.4f}\".format(mean_squared_error(model.predict(X_test), y_test)))\n"
      ],
      "metadata": {
        "colab": {
          "base_uri": "https://localhost:8080/"
        },
        "id": "rPACEGooah0P",
        "outputId": "568164c3-e79a-4b01-af00-ae38ae3b3511"
      },
      "execution_count": 140,
      "outputs": [
        {
          "output_type": "stream",
          "name": "stdout",
          "text": [
            "Training MSE: 2.6761\n",
            "Test MSE: 2.9078\n"
          ]
        }
      ]
    },
    {
      "cell_type": "markdown",
      "metadata": {
        "id": "xcC2tNgp4RHC"
      },
      "source": [
        "## Question 2 (50 points)\n",
        "\n",
        "## Logistic Regression\n",
        "\n",
        "In this section, we'll implement a logistic regression model that can learn to predict the class/label of a target/dependent variable based on multiple independent variables. We'll be using gradient descent to train the model."
      ]
    },
    {
      "cell_type": "markdown",
      "metadata": {
        "id": "CA8ztGQY4RHC"
      },
      "source": [
        "### Data Preparation\n",
        "Once again, to keep things simple, first we'll use the heights and weights dataset to test our implementation. Let's divide the weights into 2 categories: 0 if the weight is < 60 and 1 otherwise. Our goal is to predict the weight category of an individual given their height using a logistic regression model."
      ]
    },
    {
      "cell_type": "code",
      "execution_count": 141,
      "metadata": {
        "id": "Y7ERJOsO4RHC",
        "colab": {
          "base_uri": "https://localhost:8080/",
          "height": 206
        },
        "outputId": "83e7fffd-ff41-4466-c4c5-891cf612b2ce"
      },
      "outputs": [
        {
          "output_type": "execute_result",
          "data": {
            "text/plain": [
              "   Height  Weight\n",
              "0    1.47   52.21\n",
              "1    1.50   53.12\n",
              "2    1.52   54.48\n",
              "3    1.55   55.84\n",
              "4    1.57   57.20"
            ],
            "text/html": [
              "\n",
              "  <div id=\"df-9aa4ada3-8ff2-4e8f-b223-2af5b58b3be8\" class=\"colab-df-container\">\n",
              "    <div>\n",
              "<style scoped>\n",
              "    .dataframe tbody tr th:only-of-type {\n",
              "        vertical-align: middle;\n",
              "    }\n",
              "\n",
              "    .dataframe tbody tr th {\n",
              "        vertical-align: top;\n",
              "    }\n",
              "\n",
              "    .dataframe thead th {\n",
              "        text-align: right;\n",
              "    }\n",
              "</style>\n",
              "<table border=\"1\" class=\"dataframe\">\n",
              "  <thead>\n",
              "    <tr style=\"text-align: right;\">\n",
              "      <th></th>\n",
              "      <th>Height</th>\n",
              "      <th>Weight</th>\n",
              "    </tr>\n",
              "  </thead>\n",
              "  <tbody>\n",
              "    <tr>\n",
              "      <th>0</th>\n",
              "      <td>1.47</td>\n",
              "      <td>52.21</td>\n",
              "    </tr>\n",
              "    <tr>\n",
              "      <th>1</th>\n",
              "      <td>1.50</td>\n",
              "      <td>53.12</td>\n",
              "    </tr>\n",
              "    <tr>\n",
              "      <th>2</th>\n",
              "      <td>1.52</td>\n",
              "      <td>54.48</td>\n",
              "    </tr>\n",
              "    <tr>\n",
              "      <th>3</th>\n",
              "      <td>1.55</td>\n",
              "      <td>55.84</td>\n",
              "    </tr>\n",
              "    <tr>\n",
              "      <th>4</th>\n",
              "      <td>1.57</td>\n",
              "      <td>57.20</td>\n",
              "    </tr>\n",
              "  </tbody>\n",
              "</table>\n",
              "</div>\n",
              "    <div class=\"colab-df-buttons\">\n",
              "\n",
              "  <div class=\"colab-df-container\">\n",
              "    <button class=\"colab-df-convert\" onclick=\"convertToInteractive('df-9aa4ada3-8ff2-4e8f-b223-2af5b58b3be8')\"\n",
              "            title=\"Convert this dataframe to an interactive table.\"\n",
              "            style=\"display:none;\">\n",
              "\n",
              "  <svg xmlns=\"http://www.w3.org/2000/svg\" height=\"24px\" viewBox=\"0 -960 960 960\">\n",
              "    <path d=\"M120-120v-720h720v720H120Zm60-500h600v-160H180v160Zm220 220h160v-160H400v160Zm0 220h160v-160H400v160ZM180-400h160v-160H180v160Zm440 0h160v-160H620v160ZM180-180h160v-160H180v160Zm440 0h160v-160H620v160Z\"/>\n",
              "  </svg>\n",
              "    </button>\n",
              "\n",
              "  <style>\n",
              "    .colab-df-container {\n",
              "      display:flex;\n",
              "      gap: 12px;\n",
              "    }\n",
              "\n",
              "    .colab-df-convert {\n",
              "      background-color: #E8F0FE;\n",
              "      border: none;\n",
              "      border-radius: 50%;\n",
              "      cursor: pointer;\n",
              "      display: none;\n",
              "      fill: #1967D2;\n",
              "      height: 32px;\n",
              "      padding: 0 0 0 0;\n",
              "      width: 32px;\n",
              "    }\n",
              "\n",
              "    .colab-df-convert:hover {\n",
              "      background-color: #E2EBFA;\n",
              "      box-shadow: 0px 1px 2px rgba(60, 64, 67, 0.3), 0px 1px 3px 1px rgba(60, 64, 67, 0.15);\n",
              "      fill: #174EA6;\n",
              "    }\n",
              "\n",
              "    .colab-df-buttons div {\n",
              "      margin-bottom: 4px;\n",
              "    }\n",
              "\n",
              "    [theme=dark] .colab-df-convert {\n",
              "      background-color: #3B4455;\n",
              "      fill: #D2E3FC;\n",
              "    }\n",
              "\n",
              "    [theme=dark] .colab-df-convert:hover {\n",
              "      background-color: #434B5C;\n",
              "      box-shadow: 0px 1px 3px 1px rgba(0, 0, 0, 0.15);\n",
              "      filter: drop-shadow(0px 1px 2px rgba(0, 0, 0, 0.3));\n",
              "      fill: #FFFFFF;\n",
              "    }\n",
              "  </style>\n",
              "\n",
              "    <script>\n",
              "      const buttonEl =\n",
              "        document.querySelector('#df-9aa4ada3-8ff2-4e8f-b223-2af5b58b3be8 button.colab-df-convert');\n",
              "      buttonEl.style.display =\n",
              "        google.colab.kernel.accessAllowed ? 'block' : 'none';\n",
              "\n",
              "      async function convertToInteractive(key) {\n",
              "        const element = document.querySelector('#df-9aa4ada3-8ff2-4e8f-b223-2af5b58b3be8');\n",
              "        const dataTable =\n",
              "          await google.colab.kernel.invokeFunction('convertToInteractive',\n",
              "                                                    [key], {});\n",
              "        if (!dataTable) return;\n",
              "\n",
              "        const docLinkHtml = 'Like what you see? Visit the ' +\n",
              "          '<a target=\"_blank\" href=https://colab.research.google.com/notebooks/data_table.ipynb>data table notebook</a>'\n",
              "          + ' to learn more about interactive tables.';\n",
              "        element.innerHTML = '';\n",
              "        dataTable['output_type'] = 'display_data';\n",
              "        await google.colab.output.renderOutput(dataTable, element);\n",
              "        const docLink = document.createElement('div');\n",
              "        docLink.innerHTML = docLinkHtml;\n",
              "        element.appendChild(docLink);\n",
              "      }\n",
              "    </script>\n",
              "  </div>\n",
              "\n",
              "\n",
              "<div id=\"df-668ca145-188c-4f6f-958f-605264e617f0\">\n",
              "  <button class=\"colab-df-quickchart\" onclick=\"quickchart('df-668ca145-188c-4f6f-958f-605264e617f0')\"\n",
              "            title=\"Suggest charts\"\n",
              "            style=\"display:none;\">\n",
              "\n",
              "<svg xmlns=\"http://www.w3.org/2000/svg\" height=\"24px\"viewBox=\"0 0 24 24\"\n",
              "     width=\"24px\">\n",
              "    <g>\n",
              "        <path d=\"M19 3H5c-1.1 0-2 .9-2 2v14c0 1.1.9 2 2 2h14c1.1 0 2-.9 2-2V5c0-1.1-.9-2-2-2zM9 17H7v-7h2v7zm4 0h-2V7h2v10zm4 0h-2v-4h2v4z\"/>\n",
              "    </g>\n",
              "</svg>\n",
              "  </button>\n",
              "\n",
              "<style>\n",
              "  .colab-df-quickchart {\n",
              "      --bg-color: #E8F0FE;\n",
              "      --fill-color: #1967D2;\n",
              "      --hover-bg-color: #E2EBFA;\n",
              "      --hover-fill-color: #174EA6;\n",
              "      --disabled-fill-color: #AAA;\n",
              "      --disabled-bg-color: #DDD;\n",
              "  }\n",
              "\n",
              "  [theme=dark] .colab-df-quickchart {\n",
              "      --bg-color: #3B4455;\n",
              "      --fill-color: #D2E3FC;\n",
              "      --hover-bg-color: #434B5C;\n",
              "      --hover-fill-color: #FFFFFF;\n",
              "      --disabled-bg-color: #3B4455;\n",
              "      --disabled-fill-color: #666;\n",
              "  }\n",
              "\n",
              "  .colab-df-quickchart {\n",
              "    background-color: var(--bg-color);\n",
              "    border: none;\n",
              "    border-radius: 50%;\n",
              "    cursor: pointer;\n",
              "    display: none;\n",
              "    fill: var(--fill-color);\n",
              "    height: 32px;\n",
              "    padding: 0;\n",
              "    width: 32px;\n",
              "  }\n",
              "\n",
              "  .colab-df-quickchart:hover {\n",
              "    background-color: var(--hover-bg-color);\n",
              "    box-shadow: 0 1px 2px rgba(60, 64, 67, 0.3), 0 1px 3px 1px rgba(60, 64, 67, 0.15);\n",
              "    fill: var(--button-hover-fill-color);\n",
              "  }\n",
              "\n",
              "  .colab-df-quickchart-complete:disabled,\n",
              "  .colab-df-quickchart-complete:disabled:hover {\n",
              "    background-color: var(--disabled-bg-color);\n",
              "    fill: var(--disabled-fill-color);\n",
              "    box-shadow: none;\n",
              "  }\n",
              "\n",
              "  .colab-df-spinner {\n",
              "    border: 2px solid var(--fill-color);\n",
              "    border-color: transparent;\n",
              "    border-bottom-color: var(--fill-color);\n",
              "    animation:\n",
              "      spin 1s steps(1) infinite;\n",
              "  }\n",
              "\n",
              "  @keyframes spin {\n",
              "    0% {\n",
              "      border-color: transparent;\n",
              "      border-bottom-color: var(--fill-color);\n",
              "      border-left-color: var(--fill-color);\n",
              "    }\n",
              "    20% {\n",
              "      border-color: transparent;\n",
              "      border-left-color: var(--fill-color);\n",
              "      border-top-color: var(--fill-color);\n",
              "    }\n",
              "    30% {\n",
              "      border-color: transparent;\n",
              "      border-left-color: var(--fill-color);\n",
              "      border-top-color: var(--fill-color);\n",
              "      border-right-color: var(--fill-color);\n",
              "    }\n",
              "    40% {\n",
              "      border-color: transparent;\n",
              "      border-right-color: var(--fill-color);\n",
              "      border-top-color: var(--fill-color);\n",
              "    }\n",
              "    60% {\n",
              "      border-color: transparent;\n",
              "      border-right-color: var(--fill-color);\n",
              "    }\n",
              "    80% {\n",
              "      border-color: transparent;\n",
              "      border-right-color: var(--fill-color);\n",
              "      border-bottom-color: var(--fill-color);\n",
              "    }\n",
              "    90% {\n",
              "      border-color: transparent;\n",
              "      border-bottom-color: var(--fill-color);\n",
              "    }\n",
              "  }\n",
              "</style>\n",
              "\n",
              "  <script>\n",
              "    async function quickchart(key) {\n",
              "      const quickchartButtonEl =\n",
              "        document.querySelector('#' + key + ' button');\n",
              "      quickchartButtonEl.disabled = true;  // To prevent multiple clicks.\n",
              "      quickchartButtonEl.classList.add('colab-df-spinner');\n",
              "      try {\n",
              "        const charts = await google.colab.kernel.invokeFunction(\n",
              "            'suggestCharts', [key], {});\n",
              "      } catch (error) {\n",
              "        console.error('Error during call to suggestCharts:', error);\n",
              "      }\n",
              "      quickchartButtonEl.classList.remove('colab-df-spinner');\n",
              "      quickchartButtonEl.classList.add('colab-df-quickchart-complete');\n",
              "    }\n",
              "    (() => {\n",
              "      let quickchartButtonEl =\n",
              "        document.querySelector('#df-668ca145-188c-4f6f-958f-605264e617f0 button');\n",
              "      quickchartButtonEl.style.display =\n",
              "        google.colab.kernel.accessAllowed ? 'block' : 'none';\n",
              "    })();\n",
              "  </script>\n",
              "</div>\n",
              "\n",
              "    </div>\n",
              "  </div>\n"
            ],
            "application/vnd.google.colaboratory.intrinsic+json": {
              "type": "dataframe",
              "variable_name": "df",
              "summary": "{\n  \"name\": \"df\",\n  \"rows\": 15,\n  \"fields\": [\n    {\n      \"column\": \"Height\",\n      \"properties\": {\n        \"dtype\": \"number\",\n        \"std\": 0.11423451233985206,\n        \"min\": 1.47,\n        \"max\": 1.83,\n        \"num_unique_values\": 15,\n        \"samples\": [\n          1.7,\n          1.75,\n          1.47\n        ],\n        \"semantic_type\": \"\",\n        \"description\": \"\"\n      }\n    },\n    {\n      \"column\": \"Weight\",\n      \"properties\": {\n        \"dtype\": \"number\",\n        \"std\": 7.037514983490772,\n        \"min\": 52.21,\n        \"max\": 74.46,\n        \"num_unique_values\": 15,\n        \"samples\": [\n          64.47,\n          68.1,\n          52.21\n        ],\n        \"semantic_type\": \"\",\n        \"description\": \"\"\n      }\n    }\n  ]\n}"
            }
          },
          "metadata": {},
          "execution_count": 141
        }
      ],
      "source": [
        "df = pd.read_csv('./heights.csv')\n",
        "df.head()"
      ]
    },
    {
      "cell_type": "code",
      "execution_count": 142,
      "metadata": {
        "id": "iprV7qbF4RHC"
      },
      "outputs": [],
      "source": [
        "X_train = np.array(df['Height'])\n",
        "y_train = np.array((df['Weight'] >= 60).astype('float'))\n",
        "X_train = np.expand_dims(X_train, -1)"
      ]
    },
    {
      "cell_type": "markdown",
      "metadata": {
        "id": "yjEHEaPM4RHD"
      },
      "source": [
        "### (30 points) Implement the ` LogisticRegression` class\n",
        "Make sure it works with more than 1 feature.  \n",
        "**NOTE:** Do **NOT** forget to include a bias term in the weights."
      ]
    },
    {
      "cell_type": "code",
      "execution_count": 143,
      "metadata": {
        "id": "Tky-3IuZ4RHE"
      },
      "outputs": [],
      "source": [
        "class LogisticRegression:\n",
        "    def __init__(self, lr=0.001, epochs=30):\n",
        "        self.lr = lr\n",
        "        self.epochs = epochs\n",
        "        ######################\n",
        "        self.weights = None\n",
        "        ######################\n",
        "        # You may add additional fields\n",
        "\n",
        "    def sigmoid(self, z):\n",
        "        return 1 / (1 + np.exp(-z))\n",
        "\n",
        "    def train(self, X, y):\n",
        "        ######################\n",
        "        X = np.hstack((np.ones((X.shape[0], 1)), X))\n",
        "\n",
        "        self.weights = np.zeros(X.shape[1])\n",
        "\n",
        "        for epoch in range(self.epochs):\n",
        "            self.update_weights(X, y)\n",
        "        ######################\n",
        "\n",
        "\n",
        "\n",
        "    def update_weights(self, X, y):\n",
        "        ######################\n",
        "        m = X.shape[0]\n",
        "        predictions = self.sigmoid(np.dot(X, self.weights))\n",
        "        error = predictions - y\n",
        "        gradient = np.dot(X.T, error) / m\n",
        "        self.weights -= self.lr * gradient\n",
        "        ######################\n",
        "\n",
        "    def predict_proba(self, X):\n",
        "        X = np.hstack((np.ones((X.shape[0], 1)), X))\n",
        "        probabilities = self.sigmoid(np.dot(X, self.weights))\n",
        "\n",
        "        return probabilities\n",
        "\n",
        "    def predict(self, X):\n",
        "        ######################\n",
        "        probabilities = self.predict_proba(X)\n",
        "        return (probabilities >= 0.5).astype(int)\n",
        "        ######################\n"
      ]
    },
    {
      "cell_type": "markdown",
      "metadata": {
        "id": "aIHKSSm84RHE"
      },
      "source": [
        "### Build the model and train on the dataset."
      ]
    },
    {
      "cell_type": "code",
      "execution_count": 144,
      "metadata": {
        "id": "sRGl9dRH4RHE"
      },
      "outputs": [],
      "source": [
        "model = LogisticRegression(0.1, 100000)\n",
        "model.train(X_train, y_train)"
      ]
    },
    {
      "cell_type": "markdown",
      "metadata": {
        "id": "DWTcEd7I4RHF"
      },
      "source": [
        "### (5 points) Implement the evaluation metric `accuracy`.\n",
        "We use the [accuracy](https://developers.google.com/machine-learning/crash-course/classification/accuracy) as the metric to evaluate our model."
      ]
    },
    {
      "cell_type": "code",
      "execution_count": 145,
      "metadata": {
        "id": "yv6LbsKL4RHF"
      },
      "outputs": [],
      "source": [
        "from sklearn.metrics import accuracy_score\n",
        "\n",
        "def accuracy(y_pred, y_actual):\n",
        "    \"\"\"\n",
        "    Calculates the accuracy of the predictions (binary values).\n",
        "\n",
        "    Args:\n",
        "        y_pred: predicted values\n",
        "        y_actual: actual/true values\n",
        "\n",
        "    Returns:\n",
        "        The accuracy.\n",
        "    \"\"\"\n",
        "    ######################\n",
        "    return accuracy_score(y_actual, y_pred)\n",
        "    ######################\n",
        "\n"
      ]
    },
    {
      "cell_type": "markdown",
      "metadata": {
        "id": "0ycc9Syi4RHF"
      },
      "source": [
        "### Make predictions using the model and evaluate it."
      ]
    },
    {
      "cell_type": "code",
      "execution_count": 146,
      "metadata": {
        "id": "H-dveNV54RHF",
        "colab": {
          "base_uri": "https://localhost:8080/"
        },
        "outputId": "9a8a1192-f00d-46d1-a063-54846b2732ae"
      },
      "outputs": [
        {
          "output_type": "stream",
          "name": "stdout",
          "text": [
            "Train Accuracy: 1.0\n"
          ]
        }
      ],
      "source": [
        "y_pred_probs = model.predict(X_train)\n",
        "y_pred = (y_pred_probs >= 0.5).astype('float')\n",
        "print(\"Train Accuracy: {}\".format(accuracy(y_pred, y_train)))"
      ]
    },
    {
      "cell_type": "markdown",
      "metadata": {
        "id": "7oMq4zVx4RHF"
      },
      "source": [
        "### Plot the predicted and the actual values."
      ]
    },
    {
      "cell_type": "code",
      "execution_count": 147,
      "metadata": {
        "id": "BHFg-jO54RHF",
        "colab": {
          "base_uri": "https://localhost:8080/",
          "height": 430
        },
        "outputId": "8bd96a86-9fc7-45fe-a62a-93d3b11c0417"
      },
      "outputs": [
        {
          "output_type": "display_data",
          "data": {
            "text/plain": [
              "<Figure size 640x480 with 1 Axes>"
            ],
            "image/png": "[encoded data removed]"
          },
          "metadata": {}
        }
      ],
      "source": [
        "import matplotlib.pyplot as plt\n",
        "\n",
        "plt.scatter(X_train, y_train, marker='x', label='actual')\n",
        "plt.scatter(X_train, y_pred, marker='o', label='predicted')\n",
        "plt.scatter(X_train, y_pred_probs, marker='o', label='predicted probabilities')\n",
        "plt.legend()\n",
        "plt.show()"
      ]
    },
    {
      "cell_type": "markdown",
      "source": [
        "# ** Use the Newton Raphson Method for the same** (75 marks)\n"
      ],
      "metadata": {
        "id": "ShLgz8vN-gdg"
      }
    },
    {
      "cell_type": "code",
      "source": [
        "#####################\n",
        "def __init__(self, lr=0.001, epochs=60):\n",
        "    self.lr = lr\n",
        "    self.epochs = epochs\n",
        "    self.model = LogisticRegression(solver='newton-cg', max_iter=epochs)\n",
        "\n",
        "def train(self, X, y):\n",
        "    self.model.fit(X, y)\n",
        "\n",
        "def predict(self, X):\n",
        "    return self.model.predict_proba(X)[:, 1]\n",
        "\n",
        "def predict_classes(self, X):\n",
        "    return self.model.predict(X)\n",
        "######################"
      ],
      "metadata": {
        "id": "kg9hn74OBJBG"
      },
      "execution_count": 148,
      "outputs": []
    },
    {
      "cell_type": "code",
      "source": [
        "#####################\n",
        "def accuracy(y_pred, y_actual):\n",
        "    return accuracy_score(y_actual, y_pred)\n",
        "######################"
      ],
      "metadata": {
        "id": "uXZdZQk8BJEq"
      },
      "execution_count": 149,
      "outputs": []
    },
    {
      "cell_type": "code",
      "source": [
        "#####################\n",
        "model = LogisticRegression(lr=0.01, epochs=10000)\n",
        "model.train(X_train, y_train)\n",
        "######################"
      ],
      "metadata": {
        "id": "AP-tXV1OBJK9"
      },
      "execution_count": 150,
      "outputs": []
    },
    {
      "cell_type": "code",
      "source": [
        "y_pred_probs = model.predict(X_train)\n",
        "y_pred = (y_pred_probs >= 0.5).astype('float')\n",
        "print(\"Train Accuracy: {}\".format(accuracy(y_pred, y_train)))"
      ],
      "metadata": {
        "colab": {
          "base_uri": "https://localhost:8080/"
        },
        "id": "ZfE-YAgTWc_Z",
        "outputId": "0e68e3ae-d8c7-4fef-ba6a-8774bc268579"
      },
      "execution_count": 151,
      "outputs": [
        {
          "output_type": "stream",
          "name": "stdout",
          "text": [
            "Train Accuracy: 0.6\n"
          ]
        }
      ]
    },
    {
      "cell_type": "code",
      "source": [
        "import matplotlib.pyplot as plt\n",
        "\n",
        "plt.scatter(X_train, y_train, marker='x', label='actual')\n",
        "plt.scatter(X_train, y_pred, marker='o', label='predicted')\n",
        "plt.scatter(X_train, y_pred_probs, marker='o', label='predicted probabilities')\n",
        "plt.legend()\n",
        "plt.show()"
      ],
      "metadata": {
        "colab": {
          "base_uri": "https://localhost:8080/",
          "height": 430
        },
        "id": "XEWq_lCzWgLt",
        "outputId": "2414f5fb-1b32-464d-c40a-f8ef64d949cd"
      },
      "execution_count": 152,
      "outputs": [
        {
          "output_type": "display_data",
          "data": {
            "text/plain": [
              "<Figure size 640x480 with 1 Axes>"
            ],
            "image/png": "[encoded data removed]"
          },
          "metadata": {}
        }
      ]
    },
    {
      "cell_type": "markdown",
      "source": [
        "# K Means Clustering(100 marks)\n",
        "\n"
      ],
      "metadata": {
        "id": "gxXn7KgR_nfp"
      }
    },
    {
      "cell_type": "code",
      "source": [
        "import numpy as np\n",
        "import matplotlib.pyplot as plt\n",
        "\n",
        "# Define the parameters of the two Gaussians\n",
        "mu1 = np.array([3, 3])\n",
        "Sigma1 = np.array([[1, 0], [0, 2]])\n",
        "\n",
        "mu2 = np.array([1, -3])\n",
        "Sigma2 = np.array([[2, 0], [0, 1]])\n",
        "\n",
        "mu3 = np.array([-10, 8])\n",
        "Sigma3 = np.array([[2, 0], [0, 2]])\n",
        "\n"
      ],
      "metadata": {
        "id": "Djh2kIf7_rfk"
      },
      "execution_count": 153,
      "outputs": []
    },
    {
      "cell_type": "code",
      "source": [
        "n_samples = 200\n",
        "samples1 = np.random.multivariate_normal(mu1, Sigma1, n_samples)\n",
        "samples2 = np.random.multivariate_normal(mu2, Sigma2, n_samples)\n",
        "samples3 = np.random.multivariate_normal(mu3, Sigma3, n_samples)\n",
        "\n",
        "# Plot the generated samples\n",
        "plt.figure(figsize=(8, 6))\n",
        "plt.scatter(samples1[:, 0], samples1[:, 1], c='red', label='Gaussian 1')\n",
        "plt.scatter(samples2[:, 0], samples2[:, 1], c='blue', label='Gaussian 2')\n",
        "plt.scatter(samples2[:, 0], samples3[:, 1], c='green', label='Gaussian 3')\n",
        "plt.xlabel('X1')\n",
        "plt.ylabel('X2')\n",
        "plt.title('Generated Samples from Two Gaussians')\n",
        "plt.legend()\n",
        "plt.grid(True)\n",
        "plt.show()"
      ],
      "metadata": {
        "colab": {
          "base_uri": "https://localhost:8080/",
          "height": 564
        },
        "id": "t7V8rfCN_x_T",
        "outputId": "1ddfc161-abc8-4336-ef35-4c27601d7b4b"
      },
      "execution_count": 154,
      "outputs": [
        {
          "output_type": "display_data",
          "data": {
            "text/plain": [
              "<Figure size 800x600 with 1 Axes>"
            ],
            "image/png": "[encoded data removed]"
          },
          "metadata": {}
        }
      ]
    },
    {
      "cell_type": "markdown",
      "source": [
        "The above is the dataset generated from 3 gaussians, and a visualizations for the same, You need to assume that you have the data and then you use k means for the same your output should be similar to what is shown above"
      ],
      "metadata": {
        "id": "l7SdDaTtBjlY"
      }
    },
    {
      "cell_type": "code",
      "source": [
        "#####################\n",
        "from sklearn.cluster import KMeans\n",
        "\n",
        "X = np.vstack([samples1, samples2, samples3])\n",
        "\n",
        "kmeans = KMeans(n_clusters=3, random_state=0)\n",
        "kmeans.fit(X)\n",
        "labels = kmeans.labels_\n",
        "\n",
        "plt.figure(figsize=(8, 6))\n",
        "plt.scatter(X[labels == 0][:, 0], X[labels == 0][:, 1], c='red', label='Cluster 1')\n",
        "plt.scatter(X[labels == 1][:, 0], X[labels == 1][:, 1], c='blue', label='Cluster 2')\n",
        "plt.scatter(X[labels == 2][:, 0], X[labels == 2][:, 1], c='green', label='Cluster 3')\n",
        "plt.scatter(centroids[:, 0], centroids[:, 1], s=300, c='yellow', label='Centroids')\n",
        "plt.xlabel('X1')\n",
        "plt.ylabel('X2')\n",
        "plt.title('K-means Clustering of Gaussian Samples')\n",
        "plt.legend()\n",
        "plt.grid(True)\n",
        "plt.show()\n",
        "######################"
      ],
      "metadata": {
        "id": "6h-0EeQvBA0W",
        "colab": {
          "base_uri": "https://localhost:8080/",
          "height": 619
        },
        "outputId": "0f218893-e356-4c3b-c501-3211155a4bda"
      },
      "execution_count": 155,
      "outputs": [
        {
          "output_type": "stream",
          "name": "stderr",
          "text": [
            "/usr/local/lib/python3.10/dist-packages/sklearn/cluster/_kmeans.py:870: FutureWarning: The default value of `n_init` will change from 10 to 'auto' in 1.4. Set the value of `n_init` explicitly to suppress the warning\n",
            "  warnings.warn(\n"
          ]
        },
        {
          "output_type": "display_data",
          "data": {
            "text/plain": [
              "<Figure size 800x600 with 1 Axes>"
            ],
            "image/png": "[encoded data removed]"
          },
          "metadata": {}
        }
      ]
    }
  ],
  "metadata": {
    "kernelspec": {
      "display_name": "Python 3",
      "language": "python",
      "name": "python3"
    },
    "language_info": {
      "codemirror_mode": {
        "name": "ipython",
        "version": 3
      },
      "file_extension": ".py",
      "mimetype": "text/x-python",
      "name": "python",
      "nbconvert_exporter": "python",
      "pygments_lexer": "ipython3",
      "version": "3.6.12"
    },
    "colab": {
      "provenance": []
    }
  },
  "nbformat": 4,
  "nbformat_minor": 0
}